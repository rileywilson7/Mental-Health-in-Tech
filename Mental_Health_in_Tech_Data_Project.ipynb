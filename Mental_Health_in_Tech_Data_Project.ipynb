{
  "nbformat": 4,
  "nbformat_minor": 0,
  "metadata": {
    "colab": {
      "provenance": []
    },
    "kernelspec": {
      "name": "python3",
      "display_name": "Python 3"
    }
  },
  "cells": [
    {
      "cell_type": "markdown",
      "source": [
        "Loading in Data"
      ],
      "metadata": {
        "id": "I0qbmGrU73MF"
      }
    },
    {
      "cell_type": "code",
      "source": [
        "import pandas as pd \n",
        "import numpy as np\n",
        "import matplotlib as plt \n",
        "import seaborn as sns \n",
        "import matplotlib.pyplot as plt\n"
      ],
      "metadata": {
        "id": "KYhmBI--74vS"
      },
      "execution_count": null,
      "outputs": []
    },
    {
      "cell_type": "code",
      "source": [
        "from google.colab import files\n",
        "uploaded = files.upload()\n",
        "import io\n",
        "df = pd.read_csv(io.BytesIO(uploaded['survey.csv']))\n",
        "df"
      ],
      "metadata": {
        "colab": {
          "base_uri": "https://localhost:8080/",
          "height": 717
        },
        "id": "nK7Q2KzG8cuE",
        "outputId": "8d3dea38-6764-4885-d707-078ece0cacfa"
      },
      "execution_count": null,
      "outputs": [
        {
          "output_type": "display_data",
          "data": {
            "text/plain": [
              "<IPython.core.display.HTML object>"
            ],
            "text/html": [
              "\n",
              "     <input type=\"file\" id=\"files-cf776af3-da34-4f4c-85e8-b04a3e5d5207\" name=\"files[]\" multiple disabled\n",
              "        style=\"border:none\" />\n",
              "     <output id=\"result-cf776af3-da34-4f4c-85e8-b04a3e5d5207\">\n",
              "      Upload widget is only available when the cell has been executed in the\n",
              "      current browser session. Please rerun this cell to enable.\n",
              "      </output>\n",
              "      <script>// Copyright 2017 Google LLC\n",
              "//\n",
              "// Licensed under the Apache License, Version 2.0 (the \"License\");\n",
              "// you may not use this file except in compliance with the License.\n",
              "// You may obtain a copy of the License at\n",
              "//\n",
              "//      http://www.apache.org/licenses/LICENSE-2.0\n",
              "//\n",
              "// Unless required by applicable law or agreed to in writing, software\n",
              "// distributed under the License is distributed on an \"AS IS\" BASIS,\n",
              "// WITHOUT WARRANTIES OR CONDITIONS OF ANY KIND, either express or implied.\n",
              "// See the License for the specific language governing permissions and\n",
              "// limitations under the License.\n",
              "\n",
              "/**\n",
              " * @fileoverview Helpers for google.colab Python module.\n",
              " */\n",
              "(function(scope) {\n",
              "function span(text, styleAttributes = {}) {\n",
              "  const element = document.createElement('span');\n",
              "  element.textContent = text;\n",
              "  for (const key of Object.keys(styleAttributes)) {\n",
              "    element.style[key] = styleAttributes[key];\n",
              "  }\n",
              "  return element;\n",
              "}\n",
              "\n",
              "// Max number of bytes which will be uploaded at a time.\n",
              "const MAX_PAYLOAD_SIZE = 100 * 1024;\n",
              "\n",
              "function _uploadFiles(inputId, outputId) {\n",
              "  const steps = uploadFilesStep(inputId, outputId);\n",
              "  const outputElement = document.getElementById(outputId);\n",
              "  // Cache steps on the outputElement to make it available for the next call\n",
              "  // to uploadFilesContinue from Python.\n",
              "  outputElement.steps = steps;\n",
              "\n",
              "  return _uploadFilesContinue(outputId);\n",
              "}\n",
              "\n",
              "// This is roughly an async generator (not supported in the browser yet),\n",
              "// where there are multiple asynchronous steps and the Python side is going\n",
              "// to poll for completion of each step.\n",
              "// This uses a Promise to block the python side on completion of each step,\n",
              "// then passes the result of the previous step as the input to the next step.\n",
              "function _uploadFilesContinue(outputId) {\n",
              "  const outputElement = document.getElementById(outputId);\n",
              "  const steps = outputElement.steps;\n",
              "\n",
              "  const next = steps.next(outputElement.lastPromiseValue);\n",
              "  return Promise.resolve(next.value.promise).then((value) => {\n",
              "    // Cache the last promise value to make it available to the next\n",
              "    // step of the generator.\n",
              "    outputElement.lastPromiseValue = value;\n",
              "    return next.value.response;\n",
              "  });\n",
              "}\n",
              "\n",
              "/**\n",
              " * Generator function which is called between each async step of the upload\n",
              " * process.\n",
              " * @param {string} inputId Element ID of the input file picker element.\n",
              " * @param {string} outputId Element ID of the output display.\n",
              " * @return {!Iterable<!Object>} Iterable of next steps.\n",
              " */\n",
              "function* uploadFilesStep(inputId, outputId) {\n",
              "  const inputElement = document.getElementById(inputId);\n",
              "  inputElement.disabled = false;\n",
              "\n",
              "  const outputElement = document.getElementById(outputId);\n",
              "  outputElement.innerHTML = '';\n",
              "\n",
              "  const pickedPromise = new Promise((resolve) => {\n",
              "    inputElement.addEventListener('change', (e) => {\n",
              "      resolve(e.target.files);\n",
              "    });\n",
              "  });\n",
              "\n",
              "  const cancel = document.createElement('button');\n",
              "  inputElement.parentElement.appendChild(cancel);\n",
              "  cancel.textContent = 'Cancel upload';\n",
              "  const cancelPromise = new Promise((resolve) => {\n",
              "    cancel.onclick = () => {\n",
              "      resolve(null);\n",
              "    };\n",
              "  });\n",
              "\n",
              "  // Wait for the user to pick the files.\n",
              "  const files = yield {\n",
              "    promise: Promise.race([pickedPromise, cancelPromise]),\n",
              "    response: {\n",
              "      action: 'starting',\n",
              "    }\n",
              "  };\n",
              "\n",
              "  cancel.remove();\n",
              "\n",
              "  // Disable the input element since further picks are not allowed.\n",
              "  inputElement.disabled = true;\n",
              "\n",
              "  if (!files) {\n",
              "    return {\n",
              "      response: {\n",
              "        action: 'complete',\n",
              "      }\n",
              "    };\n",
              "  }\n",
              "\n",
              "  for (const file of files) {\n",
              "    const li = document.createElement('li');\n",
              "    li.append(span(file.name, {fontWeight: 'bold'}));\n",
              "    li.append(span(\n",
              "        `(${file.type || 'n/a'}) - ${file.size} bytes, ` +\n",
              "        `last modified: ${\n",
              "            file.lastModifiedDate ? file.lastModifiedDate.toLocaleDateString() :\n",
              "                                    'n/a'} - `));\n",
              "    const percent = span('0% done');\n",
              "    li.appendChild(percent);\n",
              "\n",
              "    outputElement.appendChild(li);\n",
              "\n",
              "    const fileDataPromise = new Promise((resolve) => {\n",
              "      const reader = new FileReader();\n",
              "      reader.onload = (e) => {\n",
              "        resolve(e.target.result);\n",
              "      };\n",
              "      reader.readAsArrayBuffer(file);\n",
              "    });\n",
              "    // Wait for the data to be ready.\n",
              "    let fileData = yield {\n",
              "      promise: fileDataPromise,\n",
              "      response: {\n",
              "        action: 'continue',\n",
              "      }\n",
              "    };\n",
              "\n",
              "    // Use a chunked sending to avoid message size limits. See b/62115660.\n",
              "    let position = 0;\n",
              "    do {\n",
              "      const length = Math.min(fileData.byteLength - position, MAX_PAYLOAD_SIZE);\n",
              "      const chunk = new Uint8Array(fileData, position, length);\n",
              "      position += length;\n",
              "\n",
              "      const base64 = btoa(String.fromCharCode.apply(null, chunk));\n",
              "      yield {\n",
              "        response: {\n",
              "          action: 'append',\n",
              "          file: file.name,\n",
              "          data: base64,\n",
              "        },\n",
              "      };\n",
              "\n",
              "      let percentDone = fileData.byteLength === 0 ?\n",
              "          100 :\n",
              "          Math.round((position / fileData.byteLength) * 100);\n",
              "      percent.textContent = `${percentDone}% done`;\n",
              "\n",
              "    } while (position < fileData.byteLength);\n",
              "  }\n",
              "\n",
              "  // All done.\n",
              "  yield {\n",
              "    response: {\n",
              "      action: 'complete',\n",
              "    }\n",
              "  };\n",
              "}\n",
              "\n",
              "scope.google = scope.google || {};\n",
              "scope.google.colab = scope.google.colab || {};\n",
              "scope.google.colab._files = {\n",
              "  _uploadFiles,\n",
              "  _uploadFilesContinue,\n",
              "};\n",
              "})(self);\n",
              "</script> "
            ]
          },
          "metadata": {}
        },
        {
          "output_type": "stream",
          "name": "stdout",
          "text": [
            "Saving survey.csv to survey.csv\n"
          ]
        },
        {
          "output_type": "execute_result",
          "data": {
            "text/plain": [
              "                Timestamp  Age  Gender         Country state self_employed  \\\n",
              "0     2014-08-27 11:29:31   37  Female   United States    IL           NaN   \n",
              "1     2014-08-27 11:29:37   44       M   United States    IN           NaN   \n",
              "2     2014-08-27 11:29:44   32    Male          Canada   NaN           NaN   \n",
              "3     2014-08-27 11:29:46   31    Male  United Kingdom   NaN           NaN   \n",
              "4     2014-08-27 11:30:22   31    Male   United States    TX           NaN   \n",
              "...                   ...  ...     ...             ...   ...           ...   \n",
              "1254  2015-09-12 11:17:21   26    male  United Kingdom   NaN            No   \n",
              "1255  2015-09-26 01:07:35   32    Male   United States    IL            No   \n",
              "1256  2015-11-07 12:36:58   34    male   United States    CA            No   \n",
              "1257  2015-11-30 21:25:06   46       f   United States    NC            No   \n",
              "1258  2016-02-01 23:04:31   25    Male   United States    IL            No   \n",
              "\n",
              "     family_history treatment work_interfere    no_employees  ...  \\\n",
              "0                No       Yes          Often            6-25  ...   \n",
              "1                No        No         Rarely  More than 1000  ...   \n",
              "2                No        No         Rarely            6-25  ...   \n",
              "3               Yes       Yes          Often          26-100  ...   \n",
              "4                No        No          Never         100-500  ...   \n",
              "...             ...       ...            ...             ...  ...   \n",
              "1254             No       Yes            NaN          26-100  ...   \n",
              "1255            Yes       Yes          Often          26-100  ...   \n",
              "1256            Yes       Yes      Sometimes  More than 1000  ...   \n",
              "1257             No        No            NaN         100-500  ...   \n",
              "1258            Yes       Yes      Sometimes          26-100  ...   \n",
              "\n",
              "                   leave mental_health_consequence phys_health_consequence  \\\n",
              "0          Somewhat easy                        No                      No   \n",
              "1             Don't know                     Maybe                      No   \n",
              "2     Somewhat difficult                        No                      No   \n",
              "3     Somewhat difficult                       Yes                     Yes   \n",
              "4             Don't know                        No                      No   \n",
              "...                  ...                       ...                     ...   \n",
              "1254       Somewhat easy                        No                      No   \n",
              "1255  Somewhat difficult                        No                      No   \n",
              "1256  Somewhat difficult                       Yes                     Yes   \n",
              "1257          Don't know                       Yes                      No   \n",
              "1258          Don't know                     Maybe                      No   \n",
              "\n",
              "         coworkers    supervisor mental_health_interview  \\\n",
              "0     Some of them           Yes                      No   \n",
              "1               No            No                      No   \n",
              "2              Yes           Yes                     Yes   \n",
              "3     Some of them            No                   Maybe   \n",
              "4     Some of them           Yes                     Yes   \n",
              "...            ...           ...                     ...   \n",
              "1254  Some of them  Some of them                      No   \n",
              "1255  Some of them           Yes                      No   \n",
              "1256            No            No                      No   \n",
              "1257            No            No                      No   \n",
              "1258  Some of them            No                      No   \n",
              "\n",
              "     phys_health_interview mental_vs_physical obs_consequence comments  \n",
              "0                    Maybe                Yes              No      NaN  \n",
              "1                       No         Don't know              No      NaN  \n",
              "2                      Yes                 No              No      NaN  \n",
              "3                    Maybe                 No             Yes      NaN  \n",
              "4                      Yes         Don't know              No      NaN  \n",
              "...                    ...                ...             ...      ...  \n",
              "1254                    No         Don't know              No      NaN  \n",
              "1255                    No                Yes              No      NaN  \n",
              "1256                    No                 No              No      NaN  \n",
              "1257                    No                 No              No      NaN  \n",
              "1258                    No         Don't know              No      NaN  \n",
              "\n",
              "[1259 rows x 27 columns]"
            ],
            "text/html": [
              "\n",
              "  <div id=\"df-09fefad5-09f7-4785-a413-8f63a72271f2\">\n",
              "    <div class=\"colab-df-container\">\n",
              "      <div>\n",
              "<style scoped>\n",
              "    .dataframe tbody tr th:only-of-type {\n",
              "        vertical-align: middle;\n",
              "    }\n",
              "\n",
              "    .dataframe tbody tr th {\n",
              "        vertical-align: top;\n",
              "    }\n",
              "\n",
              "    .dataframe thead th {\n",
              "        text-align: right;\n",
              "    }\n",
              "</style>\n",
              "<table border=\"1\" class=\"dataframe\">\n",
              "  <thead>\n",
              "    <tr style=\"text-align: right;\">\n",
              "      <th></th>\n",
              "      <th>Timestamp</th>\n",
              "      <th>Age</th>\n",
              "      <th>Gender</th>\n",
              "      <th>Country</th>\n",
              "      <th>state</th>\n",
              "      <th>self_employed</th>\n",
              "      <th>family_history</th>\n",
              "      <th>treatment</th>\n",
              "      <th>work_interfere</th>\n",
              "      <th>no_employees</th>\n",
              "      <th>...</th>\n",
              "      <th>leave</th>\n",
              "      <th>mental_health_consequence</th>\n",
              "      <th>phys_health_consequence</th>\n",
              "      <th>coworkers</th>\n",
              "      <th>supervisor</th>\n",
              "      <th>mental_health_interview</th>\n",
              "      <th>phys_health_interview</th>\n",
              "      <th>mental_vs_physical</th>\n",
              "      <th>obs_consequence</th>\n",
              "      <th>comments</th>\n",
              "    </tr>\n",
              "  </thead>\n",
              "  <tbody>\n",
              "    <tr>\n",
              "      <th>0</th>\n",
              "      <td>2014-08-27 11:29:31</td>\n",
              "      <td>37</td>\n",
              "      <td>Female</td>\n",
              "      <td>United States</td>\n",
              "      <td>IL</td>\n",
              "      <td>NaN</td>\n",
              "      <td>No</td>\n",
              "      <td>Yes</td>\n",
              "      <td>Often</td>\n",
              "      <td>6-25</td>\n",
              "      <td>...</td>\n",
              "      <td>Somewhat easy</td>\n",
              "      <td>No</td>\n",
              "      <td>No</td>\n",
              "      <td>Some of them</td>\n",
              "      <td>Yes</td>\n",
              "      <td>No</td>\n",
              "      <td>Maybe</td>\n",
              "      <td>Yes</td>\n",
              "      <td>No</td>\n",
              "      <td>NaN</td>\n",
              "    </tr>\n",
              "    <tr>\n",
              "      <th>1</th>\n",
              "      <td>2014-08-27 11:29:37</td>\n",
              "      <td>44</td>\n",
              "      <td>M</td>\n",
              "      <td>United States</td>\n",
              "      <td>IN</td>\n",
              "      <td>NaN</td>\n",
              "      <td>No</td>\n",
              "      <td>No</td>\n",
              "      <td>Rarely</td>\n",
              "      <td>More than 1000</td>\n",
              "      <td>...</td>\n",
              "      <td>Don't know</td>\n",
              "      <td>Maybe</td>\n",
              "      <td>No</td>\n",
              "      <td>No</td>\n",
              "      <td>No</td>\n",
              "      <td>No</td>\n",
              "      <td>No</td>\n",
              "      <td>Don't know</td>\n",
              "      <td>No</td>\n",
              "      <td>NaN</td>\n",
              "    </tr>\n",
              "    <tr>\n",
              "      <th>2</th>\n",
              "      <td>2014-08-27 11:29:44</td>\n",
              "      <td>32</td>\n",
              "      <td>Male</td>\n",
              "      <td>Canada</td>\n",
              "      <td>NaN</td>\n",
              "      <td>NaN</td>\n",
              "      <td>No</td>\n",
              "      <td>No</td>\n",
              "      <td>Rarely</td>\n",
              "      <td>6-25</td>\n",
              "      <td>...</td>\n",
              "      <td>Somewhat difficult</td>\n",
              "      <td>No</td>\n",
              "      <td>No</td>\n",
              "      <td>Yes</td>\n",
              "      <td>Yes</td>\n",
              "      <td>Yes</td>\n",
              "      <td>Yes</td>\n",
              "      <td>No</td>\n",
              "      <td>No</td>\n",
              "      <td>NaN</td>\n",
              "    </tr>\n",
              "    <tr>\n",
              "      <th>3</th>\n",
              "      <td>2014-08-27 11:29:46</td>\n",
              "      <td>31</td>\n",
              "      <td>Male</td>\n",
              "      <td>United Kingdom</td>\n",
              "      <td>NaN</td>\n",
              "      <td>NaN</td>\n",
              "      <td>Yes</td>\n",
              "      <td>Yes</td>\n",
              "      <td>Often</td>\n",
              "      <td>26-100</td>\n",
              "      <td>...</td>\n",
              "      <td>Somewhat difficult</td>\n",
              "      <td>Yes</td>\n",
              "      <td>Yes</td>\n",
              "      <td>Some of them</td>\n",
              "      <td>No</td>\n",
              "      <td>Maybe</td>\n",
              "      <td>Maybe</td>\n",
              "      <td>No</td>\n",
              "      <td>Yes</td>\n",
              "      <td>NaN</td>\n",
              "    </tr>\n",
              "    <tr>\n",
              "      <th>4</th>\n",
              "      <td>2014-08-27 11:30:22</td>\n",
              "      <td>31</td>\n",
              "      <td>Male</td>\n",
              "      <td>United States</td>\n",
              "      <td>TX</td>\n",
              "      <td>NaN</td>\n",
              "      <td>No</td>\n",
              "      <td>No</td>\n",
              "      <td>Never</td>\n",
              "      <td>100-500</td>\n",
              "      <td>...</td>\n",
              "      <td>Don't know</td>\n",
              "      <td>No</td>\n",
              "      <td>No</td>\n",
              "      <td>Some of them</td>\n",
              "      <td>Yes</td>\n",
              "      <td>Yes</td>\n",
              "      <td>Yes</td>\n",
              "      <td>Don't know</td>\n",
              "      <td>No</td>\n",
              "      <td>NaN</td>\n",
              "    </tr>\n",
              "    <tr>\n",
              "      <th>...</th>\n",
              "      <td>...</td>\n",
              "      <td>...</td>\n",
              "      <td>...</td>\n",
              "      <td>...</td>\n",
              "      <td>...</td>\n",
              "      <td>...</td>\n",
              "      <td>...</td>\n",
              "      <td>...</td>\n",
              "      <td>...</td>\n",
              "      <td>...</td>\n",
              "      <td>...</td>\n",
              "      <td>...</td>\n",
              "      <td>...</td>\n",
              "      <td>...</td>\n",
              "      <td>...</td>\n",
              "      <td>...</td>\n",
              "      <td>...</td>\n",
              "      <td>...</td>\n",
              "      <td>...</td>\n",
              "      <td>...</td>\n",
              "      <td>...</td>\n",
              "    </tr>\n",
              "    <tr>\n",
              "      <th>1254</th>\n",
              "      <td>2015-09-12 11:17:21</td>\n",
              "      <td>26</td>\n",
              "      <td>male</td>\n",
              "      <td>United Kingdom</td>\n",
              "      <td>NaN</td>\n",
              "      <td>No</td>\n",
              "      <td>No</td>\n",
              "      <td>Yes</td>\n",
              "      <td>NaN</td>\n",
              "      <td>26-100</td>\n",
              "      <td>...</td>\n",
              "      <td>Somewhat easy</td>\n",
              "      <td>No</td>\n",
              "      <td>No</td>\n",
              "      <td>Some of them</td>\n",
              "      <td>Some of them</td>\n",
              "      <td>No</td>\n",
              "      <td>No</td>\n",
              "      <td>Don't know</td>\n",
              "      <td>No</td>\n",
              "      <td>NaN</td>\n",
              "    </tr>\n",
              "    <tr>\n",
              "      <th>1255</th>\n",
              "      <td>2015-09-26 01:07:35</td>\n",
              "      <td>32</td>\n",
              "      <td>Male</td>\n",
              "      <td>United States</td>\n",
              "      <td>IL</td>\n",
              "      <td>No</td>\n",
              "      <td>Yes</td>\n",
              "      <td>Yes</td>\n",
              "      <td>Often</td>\n",
              "      <td>26-100</td>\n",
              "      <td>...</td>\n",
              "      <td>Somewhat difficult</td>\n",
              "      <td>No</td>\n",
              "      <td>No</td>\n",
              "      <td>Some of them</td>\n",
              "      <td>Yes</td>\n",
              "      <td>No</td>\n",
              "      <td>No</td>\n",
              "      <td>Yes</td>\n",
              "      <td>No</td>\n",
              "      <td>NaN</td>\n",
              "    </tr>\n",
              "    <tr>\n",
              "      <th>1256</th>\n",
              "      <td>2015-11-07 12:36:58</td>\n",
              "      <td>34</td>\n",
              "      <td>male</td>\n",
              "      <td>United States</td>\n",
              "      <td>CA</td>\n",
              "      <td>No</td>\n",
              "      <td>Yes</td>\n",
              "      <td>Yes</td>\n",
              "      <td>Sometimes</td>\n",
              "      <td>More than 1000</td>\n",
              "      <td>...</td>\n",
              "      <td>Somewhat difficult</td>\n",
              "      <td>Yes</td>\n",
              "      <td>Yes</td>\n",
              "      <td>No</td>\n",
              "      <td>No</td>\n",
              "      <td>No</td>\n",
              "      <td>No</td>\n",
              "      <td>No</td>\n",
              "      <td>No</td>\n",
              "      <td>NaN</td>\n",
              "    </tr>\n",
              "    <tr>\n",
              "      <th>1257</th>\n",
              "      <td>2015-11-30 21:25:06</td>\n",
              "      <td>46</td>\n",
              "      <td>f</td>\n",
              "      <td>United States</td>\n",
              "      <td>NC</td>\n",
              "      <td>No</td>\n",
              "      <td>No</td>\n",
              "      <td>No</td>\n",
              "      <td>NaN</td>\n",
              "      <td>100-500</td>\n",
              "      <td>...</td>\n",
              "      <td>Don't know</td>\n",
              "      <td>Yes</td>\n",
              "      <td>No</td>\n",
              "      <td>No</td>\n",
              "      <td>No</td>\n",
              "      <td>No</td>\n",
              "      <td>No</td>\n",
              "      <td>No</td>\n",
              "      <td>No</td>\n",
              "      <td>NaN</td>\n",
              "    </tr>\n",
              "    <tr>\n",
              "      <th>1258</th>\n",
              "      <td>2016-02-01 23:04:31</td>\n",
              "      <td>25</td>\n",
              "      <td>Male</td>\n",
              "      <td>United States</td>\n",
              "      <td>IL</td>\n",
              "      <td>No</td>\n",
              "      <td>Yes</td>\n",
              "      <td>Yes</td>\n",
              "      <td>Sometimes</td>\n",
              "      <td>26-100</td>\n",
              "      <td>...</td>\n",
              "      <td>Don't know</td>\n",
              "      <td>Maybe</td>\n",
              "      <td>No</td>\n",
              "      <td>Some of them</td>\n",
              "      <td>No</td>\n",
              "      <td>No</td>\n",
              "      <td>No</td>\n",
              "      <td>Don't know</td>\n",
              "      <td>No</td>\n",
              "      <td>NaN</td>\n",
              "    </tr>\n",
              "  </tbody>\n",
              "</table>\n",
              "<p>1259 rows × 27 columns</p>\n",
              "</div>\n",
              "      <button class=\"colab-df-convert\" onclick=\"convertToInteractive('df-09fefad5-09f7-4785-a413-8f63a72271f2')\"\n",
              "              title=\"Convert this dataframe to an interactive table.\"\n",
              "              style=\"display:none;\">\n",
              "        \n",
              "  <svg xmlns=\"http://www.w3.org/2000/svg\" height=\"24px\"viewBox=\"0 0 24 24\"\n",
              "       width=\"24px\">\n",
              "    <path d=\"M0 0h24v24H0V0z\" fill=\"none\"/>\n",
              "    <path d=\"M18.56 5.44l.94 2.06.94-2.06 2.06-.94-2.06-.94-.94-2.06-.94 2.06-2.06.94zm-11 1L8.5 8.5l.94-2.06 2.06-.94-2.06-.94L8.5 2.5l-.94 2.06-2.06.94zm10 10l.94 2.06.94-2.06 2.06-.94-2.06-.94-.94-2.06-.94 2.06-2.06.94z\"/><path d=\"M17.41 7.96l-1.37-1.37c-.4-.4-.92-.59-1.43-.59-.52 0-1.04.2-1.43.59L10.3 9.45l-7.72 7.72c-.78.78-.78 2.05 0 2.83L4 21.41c.39.39.9.59 1.41.59.51 0 1.02-.2 1.41-.59l7.78-7.78 2.81-2.81c.8-.78.8-2.07 0-2.86zM5.41 20L4 18.59l7.72-7.72 1.47 1.35L5.41 20z\"/>\n",
              "  </svg>\n",
              "      </button>\n",
              "      \n",
              "  <style>\n",
              "    .colab-df-container {\n",
              "      display:flex;\n",
              "      flex-wrap:wrap;\n",
              "      gap: 12px;\n",
              "    }\n",
              "\n",
              "    .colab-df-convert {\n",
              "      background-color: #E8F0FE;\n",
              "      border: none;\n",
              "      border-radius: 50%;\n",
              "      cursor: pointer;\n",
              "      display: none;\n",
              "      fill: #1967D2;\n",
              "      height: 32px;\n",
              "      padding: 0 0 0 0;\n",
              "      width: 32px;\n",
              "    }\n",
              "\n",
              "    .colab-df-convert:hover {\n",
              "      background-color: #E2EBFA;\n",
              "      box-shadow: 0px 1px 2px rgba(60, 64, 67, 0.3), 0px 1px 3px 1px rgba(60, 64, 67, 0.15);\n",
              "      fill: #174EA6;\n",
              "    }\n",
              "\n",
              "    [theme=dark] .colab-df-convert {\n",
              "      background-color: #3B4455;\n",
              "      fill: #D2E3FC;\n",
              "    }\n",
              "\n",
              "    [theme=dark] .colab-df-convert:hover {\n",
              "      background-color: #434B5C;\n",
              "      box-shadow: 0px 1px 3px 1px rgba(0, 0, 0, 0.15);\n",
              "      filter: drop-shadow(0px 1px 2px rgba(0, 0, 0, 0.3));\n",
              "      fill: #FFFFFF;\n",
              "    }\n",
              "  </style>\n",
              "\n",
              "      <script>\n",
              "        const buttonEl =\n",
              "          document.querySelector('#df-09fefad5-09f7-4785-a413-8f63a72271f2 button.colab-df-convert');\n",
              "        buttonEl.style.display =\n",
              "          google.colab.kernel.accessAllowed ? 'block' : 'none';\n",
              "\n",
              "        async function convertToInteractive(key) {\n",
              "          const element = document.querySelector('#df-09fefad5-09f7-4785-a413-8f63a72271f2');\n",
              "          const dataTable =\n",
              "            await google.colab.kernel.invokeFunction('convertToInteractive',\n",
              "                                                     [key], {});\n",
              "          if (!dataTable) return;\n",
              "\n",
              "          const docLinkHtml = 'Like what you see? Visit the ' +\n",
              "            '<a target=\"_blank\" href=https://colab.research.google.com/notebooks/data_table.ipynb>data table notebook</a>'\n",
              "            + ' to learn more about interactive tables.';\n",
              "          element.innerHTML = '';\n",
              "          dataTable['output_type'] = 'display_data';\n",
              "          await google.colab.output.renderOutput(dataTable, element);\n",
              "          const docLink = document.createElement('div');\n",
              "          docLink.innerHTML = docLinkHtml;\n",
              "          element.appendChild(docLink);\n",
              "        }\n",
              "      </script>\n",
              "    </div>\n",
              "  </div>\n",
              "  "
            ]
          },
          "metadata": {},
          "execution_count": 2
        }
      ]
    },
    {
      "cell_type": "code",
      "source": [
        "last_10_columns = df.iloc[:, -3:]\n",
        "last_10_columns"
      ],
      "metadata": {
        "id": "nBuxjyQKMjxC",
        "colab": {
          "base_uri": "https://localhost:8080/",
          "height": 423
        },
        "outputId": "7233df26-4e1b-4d24-8176-b750d43bd4c8"
      },
      "execution_count": null,
      "outputs": [
        {
          "output_type": "execute_result",
          "data": {
            "text/plain": [
              "     mental_vs_physical obs_consequence comments\n",
              "0                   Yes              No      NaN\n",
              "1            Don't know              No      NaN\n",
              "2                    No              No      NaN\n",
              "3                    No             Yes      NaN\n",
              "4            Don't know              No      NaN\n",
              "...                 ...             ...      ...\n",
              "1254         Don't know              No      NaN\n",
              "1255                Yes              No      NaN\n",
              "1256                 No              No      NaN\n",
              "1257                 No              No      NaN\n",
              "1258         Don't know              No      NaN\n",
              "\n",
              "[1259 rows x 3 columns]"
            ],
            "text/html": [
              "\n",
              "  <div id=\"df-bd77df3f-0930-4cf0-847e-20085dd785dc\">\n",
              "    <div class=\"colab-df-container\">\n",
              "      <div>\n",
              "<style scoped>\n",
              "    .dataframe tbody tr th:only-of-type {\n",
              "        vertical-align: middle;\n",
              "    }\n",
              "\n",
              "    .dataframe tbody tr th {\n",
              "        vertical-align: top;\n",
              "    }\n",
              "\n",
              "    .dataframe thead th {\n",
              "        text-align: right;\n",
              "    }\n",
              "</style>\n",
              "<table border=\"1\" class=\"dataframe\">\n",
              "  <thead>\n",
              "    <tr style=\"text-align: right;\">\n",
              "      <th></th>\n",
              "      <th>mental_vs_physical</th>\n",
              "      <th>obs_consequence</th>\n",
              "      <th>comments</th>\n",
              "    </tr>\n",
              "  </thead>\n",
              "  <tbody>\n",
              "    <tr>\n",
              "      <th>0</th>\n",
              "      <td>Yes</td>\n",
              "      <td>No</td>\n",
              "      <td>NaN</td>\n",
              "    </tr>\n",
              "    <tr>\n",
              "      <th>1</th>\n",
              "      <td>Don't know</td>\n",
              "      <td>No</td>\n",
              "      <td>NaN</td>\n",
              "    </tr>\n",
              "    <tr>\n",
              "      <th>2</th>\n",
              "      <td>No</td>\n",
              "      <td>No</td>\n",
              "      <td>NaN</td>\n",
              "    </tr>\n",
              "    <tr>\n",
              "      <th>3</th>\n",
              "      <td>No</td>\n",
              "      <td>Yes</td>\n",
              "      <td>NaN</td>\n",
              "    </tr>\n",
              "    <tr>\n",
              "      <th>4</th>\n",
              "      <td>Don't know</td>\n",
              "      <td>No</td>\n",
              "      <td>NaN</td>\n",
              "    </tr>\n",
              "    <tr>\n",
              "      <th>...</th>\n",
              "      <td>...</td>\n",
              "      <td>...</td>\n",
              "      <td>...</td>\n",
              "    </tr>\n",
              "    <tr>\n",
              "      <th>1254</th>\n",
              "      <td>Don't know</td>\n",
              "      <td>No</td>\n",
              "      <td>NaN</td>\n",
              "    </tr>\n",
              "    <tr>\n",
              "      <th>1255</th>\n",
              "      <td>Yes</td>\n",
              "      <td>No</td>\n",
              "      <td>NaN</td>\n",
              "    </tr>\n",
              "    <tr>\n",
              "      <th>1256</th>\n",
              "      <td>No</td>\n",
              "      <td>No</td>\n",
              "      <td>NaN</td>\n",
              "    </tr>\n",
              "    <tr>\n",
              "      <th>1257</th>\n",
              "      <td>No</td>\n",
              "      <td>No</td>\n",
              "      <td>NaN</td>\n",
              "    </tr>\n",
              "    <tr>\n",
              "      <th>1258</th>\n",
              "      <td>Don't know</td>\n",
              "      <td>No</td>\n",
              "      <td>NaN</td>\n",
              "    </tr>\n",
              "  </tbody>\n",
              "</table>\n",
              "<p>1259 rows × 3 columns</p>\n",
              "</div>\n",
              "      <button class=\"colab-df-convert\" onclick=\"convertToInteractive('df-bd77df3f-0930-4cf0-847e-20085dd785dc')\"\n",
              "              title=\"Convert this dataframe to an interactive table.\"\n",
              "              style=\"display:none;\">\n",
              "        \n",
              "  <svg xmlns=\"http://www.w3.org/2000/svg\" height=\"24px\"viewBox=\"0 0 24 24\"\n",
              "       width=\"24px\">\n",
              "    <path d=\"M0 0h24v24H0V0z\" fill=\"none\"/>\n",
              "    <path d=\"M18.56 5.44l.94 2.06.94-2.06 2.06-.94-2.06-.94-.94-2.06-.94 2.06-2.06.94zm-11 1L8.5 8.5l.94-2.06 2.06-.94-2.06-.94L8.5 2.5l-.94 2.06-2.06.94zm10 10l.94 2.06.94-2.06 2.06-.94-2.06-.94-.94-2.06-.94 2.06-2.06.94z\"/><path d=\"M17.41 7.96l-1.37-1.37c-.4-.4-.92-.59-1.43-.59-.52 0-1.04.2-1.43.59L10.3 9.45l-7.72 7.72c-.78.78-.78 2.05 0 2.83L4 21.41c.39.39.9.59 1.41.59.51 0 1.02-.2 1.41-.59l7.78-7.78 2.81-2.81c.8-.78.8-2.07 0-2.86zM5.41 20L4 18.59l7.72-7.72 1.47 1.35L5.41 20z\"/>\n",
              "  </svg>\n",
              "      </button>\n",
              "      \n",
              "  <style>\n",
              "    .colab-df-container {\n",
              "      display:flex;\n",
              "      flex-wrap:wrap;\n",
              "      gap: 12px;\n",
              "    }\n",
              "\n",
              "    .colab-df-convert {\n",
              "      background-color: #E8F0FE;\n",
              "      border: none;\n",
              "      border-radius: 50%;\n",
              "      cursor: pointer;\n",
              "      display: none;\n",
              "      fill: #1967D2;\n",
              "      height: 32px;\n",
              "      padding: 0 0 0 0;\n",
              "      width: 32px;\n",
              "    }\n",
              "\n",
              "    .colab-df-convert:hover {\n",
              "      background-color: #E2EBFA;\n",
              "      box-shadow: 0px 1px 2px rgba(60, 64, 67, 0.3), 0px 1px 3px 1px rgba(60, 64, 67, 0.15);\n",
              "      fill: #174EA6;\n",
              "    }\n",
              "\n",
              "    [theme=dark] .colab-df-convert {\n",
              "      background-color: #3B4455;\n",
              "      fill: #D2E3FC;\n",
              "    }\n",
              "\n",
              "    [theme=dark] .colab-df-convert:hover {\n",
              "      background-color: #434B5C;\n",
              "      box-shadow: 0px 1px 3px 1px rgba(0, 0, 0, 0.15);\n",
              "      filter: drop-shadow(0px 1px 2px rgba(0, 0, 0, 0.3));\n",
              "      fill: #FFFFFF;\n",
              "    }\n",
              "  </style>\n",
              "\n",
              "      <script>\n",
              "        const buttonEl =\n",
              "          document.querySelector('#df-bd77df3f-0930-4cf0-847e-20085dd785dc button.colab-df-convert');\n",
              "        buttonEl.style.display =\n",
              "          google.colab.kernel.accessAllowed ? 'block' : 'none';\n",
              "\n",
              "        async function convertToInteractive(key) {\n",
              "          const element = document.querySelector('#df-bd77df3f-0930-4cf0-847e-20085dd785dc');\n",
              "          const dataTable =\n",
              "            await google.colab.kernel.invokeFunction('convertToInteractive',\n",
              "                                                     [key], {});\n",
              "          if (!dataTable) return;\n",
              "\n",
              "          const docLinkHtml = 'Like what you see? Visit the ' +\n",
              "            '<a target=\"_blank\" href=https://colab.research.google.com/notebooks/data_table.ipynb>data table notebook</a>'\n",
              "            + ' to learn more about interactive tables.';\n",
              "          element.innerHTML = '';\n",
              "          dataTable['output_type'] = 'display_data';\n",
              "          await google.colab.output.renderOutput(dataTable, element);\n",
              "          const docLink = document.createElement('div');\n",
              "          docLink.innerHTML = docLinkHtml;\n",
              "          element.appendChild(docLink);\n",
              "        }\n",
              "      </script>\n",
              "    </div>\n",
              "  </div>\n",
              "  "
            ]
          },
          "metadata": {},
          "execution_count": 3
        }
      ]
    },
    {
      "cell_type": "code",
      "source": [
        "#Learning a bit more about the data \n",
        "print(df['Age'].mean)\n",
        "#All are object types besides age which looks good \n",
        "df.info()"
      ],
      "metadata": {
        "colab": {
          "base_uri": "https://localhost:8080/"
        },
        "id": "tTiT9gQjyFVL",
        "outputId": "73476501-e981-4d0f-a36a-37ffce2bcd08"
      },
      "execution_count": null,
      "outputs": [
        {
          "output_type": "stream",
          "name": "stdout",
          "text": [
            "<bound method NDFrame._add_numeric_operations.<locals>.mean of 0       37\n",
            "1       44\n",
            "2       32\n",
            "3       31\n",
            "4       31\n",
            "        ..\n",
            "1254    26\n",
            "1255    32\n",
            "1256    34\n",
            "1257    46\n",
            "1258    25\n",
            "Name: Age, Length: 1259, dtype: int64>\n",
            "<class 'pandas.core.frame.DataFrame'>\n",
            "RangeIndex: 1259 entries, 0 to 1258\n",
            "Data columns (total 27 columns):\n",
            " #   Column                     Non-Null Count  Dtype \n",
            "---  ------                     --------------  ----- \n",
            " 0   Timestamp                  1259 non-null   object\n",
            " 1   Age                        1259 non-null   int64 \n",
            " 2   Gender                     1259 non-null   object\n",
            " 3   Country                    1259 non-null   object\n",
            " 4   state                      744 non-null    object\n",
            " 5   self_employed              1241 non-null   object\n",
            " 6   family_history             1259 non-null   object\n",
            " 7   treatment                  1259 non-null   object\n",
            " 8   work_interfere             995 non-null    object\n",
            " 9   no_employees               1259 non-null   object\n",
            " 10  remote_work                1259 non-null   object\n",
            " 11  tech_company               1259 non-null   object\n",
            " 12  benefits                   1259 non-null   object\n",
            " 13  care_options               1259 non-null   object\n",
            " 14  wellness_program           1259 non-null   object\n",
            " 15  seek_help                  1259 non-null   object\n",
            " 16  anonymity                  1259 non-null   object\n",
            " 17  leave                      1259 non-null   object\n",
            " 18  mental_health_consequence  1259 non-null   object\n",
            " 19  phys_health_consequence    1259 non-null   object\n",
            " 20  coworkers                  1259 non-null   object\n",
            " 21  supervisor                 1259 non-null   object\n",
            " 22  mental_health_interview    1259 non-null   object\n",
            " 23  phys_health_interview      1259 non-null   object\n",
            " 24  mental_vs_physical         1259 non-null   object\n",
            " 25  obs_consequence            1259 non-null   object\n",
            " 26  comments                   164 non-null    object\n",
            "dtypes: int64(1), object(26)\n",
            "memory usage: 265.7+ KB\n"
          ]
        }
      ]
    },
    {
      "cell_type": "code",
      "source": [
        "#Using value counts to make sure that no data looks too funny \n",
        "#There are some weird ages, so I need to exclude those ages \n",
        "df['Age'].value_counts()"
      ],
      "metadata": {
        "colab": {
          "base_uri": "https://localhost:8080/"
        },
        "id": "SAi5OAXF-9da",
        "outputId": "5db79cdd-f9dc-484c-bb5a-6aa0a8c17164"
      },
      "execution_count": null,
      "outputs": [
        {
          "output_type": "execute_result",
          "data": {
            "text/plain": [
              " 29             85\n",
              " 32             82\n",
              " 26             75\n",
              " 27             71\n",
              " 33             70\n",
              " 28             68\n",
              " 31             67\n",
              " 34             65\n",
              " 30             63\n",
              " 25             61\n",
              " 35             55\n",
              " 23             51\n",
              " 24             46\n",
              " 37             43\n",
              " 38             39\n",
              " 36             37\n",
              " 40             33\n",
              " 39             33\n",
              " 43             28\n",
              " 22             21\n",
              " 41             21\n",
              " 42             20\n",
              " 21             16\n",
              " 45             12\n",
              " 46             12\n",
              " 44             11\n",
              " 19              9\n",
              " 18              7\n",
              " 48              6\n",
              " 50              6\n",
              " 20              6\n",
              " 51              5\n",
              " 49              4\n",
              " 56              4\n",
              " 57              3\n",
              " 54              3\n",
              " 55              3\n",
              " 47              2\n",
              " 60              2\n",
              " 99999999999     1\n",
              " 5               1\n",
              "-1               1\n",
              " 11              1\n",
              " 8               1\n",
              " 61              1\n",
              " 53              1\n",
              "-29              1\n",
              "-1726            1\n",
              " 65              1\n",
              " 62              1\n",
              " 58              1\n",
              " 329             1\n",
              " 72              1\n",
              "Name: Age, dtype: int64"
            ]
          },
          "metadata": {},
          "execution_count": 5
        }
      ]
    },
    {
      "cell_type": "code",
      "source": [
        "print(df['Age'].mean)"
      ],
      "metadata": {
        "colab": {
          "base_uri": "https://localhost:8080/"
        },
        "id": "eNVrClFiK265",
        "outputId": "892b9f64-e243-4562-bf98-97851c4532c3"
      },
      "execution_count": null,
      "outputs": [
        {
          "output_type": "stream",
          "name": "stdout",
          "text": [
            "<bound method NDFrame._add_numeric_operations.<locals>.mean of 0       37\n",
            "1       44\n",
            "2       32\n",
            "3       31\n",
            "4       31\n",
            "        ..\n",
            "1254    26\n",
            "1255    32\n",
            "1256    34\n",
            "1257    46\n",
            "1258    25\n",
            "Name: Age, Length: 1259, dtype: int64>\n"
          ]
        }
      ]
    },
    {
      "cell_type": "code",
      "source": [
        "incorrect_age_condition1 = df['Age'] < 17 "
      ],
      "metadata": {
        "id": "OjX29Vc2JmZA"
      },
      "execution_count": null,
      "outputs": []
    },
    {
      "cell_type": "code",
      "source": [
        "incorrect_age_condition2 = df['Age'] > 80"
      ],
      "metadata": {
        "id": "m1YP7K1HKa2y"
      },
      "execution_count": null,
      "outputs": []
    },
    {
      "cell_type": "code",
      "source": [
        "df = df.drop(df[incorrect_age_condition1].index)\n",
        "df = df.drop(df[incorrect_age_condition2].index)"
      ],
      "metadata": {
        "colab": {
          "base_uri": "https://localhost:8080/"
        },
        "id": "S2swesKgKQt0",
        "outputId": "fd8dbc9b-8535-4c78-e4ed-24dd8701217d"
      },
      "execution_count": null,
      "outputs": [
        {
          "output_type": "stream",
          "name": "stderr",
          "text": [
            "<ipython-input-9-14a41e4c0521>:2: UserWarning: Boolean Series key will be reindexed to match DataFrame index.\n",
            "  df = df.drop(df[incorrect_age_condition2].index)\n"
          ]
        }
      ]
    },
    {
      "cell_type": "code",
      "source": [
        "df['Gender'].value_counts()\n",
        "#Changing all genders to be in a consistent format "
      ],
      "metadata": {
        "colab": {
          "base_uri": "https://localhost:8080/"
        },
        "id": "WklOV9Ti_7iX",
        "outputId": "ecf30acd-e7bb-44b2-ef34-b1b7717dea93"
      },
      "execution_count": null,
      "outputs": [
        {
          "output_type": "execute_result",
          "data": {
            "text/plain": [
              "Male                                              612\n",
              "male                                              204\n",
              "Female                                            121\n",
              "M                                                 116\n",
              "female                                             62\n",
              "F                                                  38\n",
              "m                                                  34\n",
              "f                                                  15\n",
              "Make                                                4\n",
              "Woman                                               3\n",
              "Male                                                3\n",
              "Female                                              2\n",
              "Cis Male                                            2\n",
              "Man                                                 2\n",
              "Female (trans)                                      2\n",
              "Malr                                                1\n",
              "Trans woman                                         1\n",
              "male leaning androgynous                            1\n",
              "Cis Man                                             1\n",
              "Neuter                                              1\n",
              "msle                                                1\n",
              "cis male                                            1\n",
              "queer                                               1\n",
              "Female (cis)                                        1\n",
              "cis-female/femme                                    1\n",
              "Mail                                                1\n",
              "femail                                              1\n",
              "Guy (-ish) ^_^                                      1\n",
              "Enby                                                1\n",
              "Agender                                             1\n",
              "Male (CIS)                                          1\n",
              "Male-ish                                            1\n",
              "maile                                               1\n",
              "Trans-female                                        1\n",
              "Cis Female                                          1\n",
              "something kinda male?                               1\n",
              "Mal                                                 1\n",
              "queer/she/they                                      1\n",
              "Androgyne                                           1\n",
              "non-binary                                          1\n",
              "Femake                                              1\n",
              "woman                                               1\n",
              "Nah                                                 1\n",
              "fluid                                               1\n",
              "Genderqueer                                         1\n",
              "ostensibly male, unsure what that really means      1\n",
              "Name: Gender, dtype: int64"
            ]
          },
          "metadata": {},
          "execution_count": 10
        }
      ]
    },
    {
      "cell_type": "code",
      "source": [
        "print(df['Gender'].unique())"
      ],
      "metadata": {
        "colab": {
          "base_uri": "https://localhost:8080/"
        },
        "id": "xOD9ou0iIMne",
        "outputId": "21ab071e-0ddb-4c4f-e0e7-764044b87f04"
      },
      "execution_count": null,
      "outputs": [
        {
          "output_type": "stream",
          "name": "stdout",
          "text": [
            "['Female' 'M' 'Male' 'male' 'female' 'm' 'Male-ish' 'maile' 'Trans-female'\n",
            " 'Cis Female' 'F' 'something kinda male?' 'Cis Male' 'Woman' 'f' 'Mal'\n",
            " 'Male (CIS)' 'queer/she/they' 'non-binary' 'Femake' 'woman' 'Make' 'Nah'\n",
            " 'Enby' 'fluid' 'Genderqueer' 'Female ' 'Androgyne' 'Agender'\n",
            " 'cis-female/femme' 'Guy (-ish) ^_^' 'male leaning androgynous' 'Male '\n",
            " 'Man' 'Trans woman' 'msle' 'Neuter' 'Female (trans)' 'queer'\n",
            " 'Female (cis)' 'Mail' 'cis male' 'Malr' 'femail' 'Cis Man'\n",
            " 'ostensibly male, unsure what that really means']\n"
          ]
        }
      ]
    },
    {
      "cell_type": "code",
      "source": [
        "male_variations = ['M', 'm', 'man', 'Male', 'male', 'Male-ish', 'maile', 'something kinda male?', 'Cis Male', 'Mal', 'Male (CIS)', 'Make', 'Guy (-ish) ^_^', 'male leaning androgynous', 'Male ', 'Man', 'msle', 'Mail', 'cis male', 'Malr', 'Cis Man', 'ostensibly male, unsure what that really means']"
      ],
      "metadata": {
        "id": "sWopn6HPGvmo"
      },
      "execution_count": null,
      "outputs": []
    },
    {
      "cell_type": "code",
      "source": [
        "df['Gender'] = df['Gender'].replace(male_variations, 'Male')"
      ],
      "metadata": {
        "id": "X0ay3ZnZH345"
      },
      "execution_count": null,
      "outputs": []
    },
    {
      "cell_type": "code",
      "source": [
        "female_variations = ['Female', 'female', 'Cis Female', 'F', 'Woman', 'f', 'Femake' , 'woman', 'Female ', 'cis-female/femme', 'Female (cis)', 'femail']"
      ],
      "metadata": {
        "id": "O86QdtIBH-Um"
      },
      "execution_count": null,
      "outputs": []
    },
    {
      "cell_type": "code",
      "source": [
        "df['Gender'] = df['Gender'].replace(female_variations, 'Female')"
      ],
      "metadata": {
        "id": "h_GPP3lYIADy"
      },
      "execution_count": null,
      "outputs": []
    },
    {
      "cell_type": "code",
      "source": [
        "other_variations = ['Trans-female','queer/she/they', 'non-binary','Nah', 'All', 'Enby' ,'fluid','Genderqueer', 'Androgyne', 'Agender', 'Trans woman', 'Neuter', 'Female (trans)' ,'queer', 'A little about you', 'p']"
      ],
      "metadata": {
        "id": "QzdrzLtpIAPB"
      },
      "execution_count": null,
      "outputs": []
    },
    {
      "cell_type": "code",
      "source": [
        "df['Gender'] = df['Gender'].replace(other_variations, 'Other')"
      ],
      "metadata": {
        "id": "EOeOJ3UjIBeK"
      },
      "execution_count": null,
      "outputs": []
    },
    {
      "cell_type": "code",
      "source": [
        "#Successfully made consistent gender categories\n",
        "print(df['Gender'].unique())"
      ],
      "metadata": {
        "colab": {
          "base_uri": "https://localhost:8080/"
        },
        "id": "my8qKDHzJQmN",
        "outputId": "3f807cae-5144-4155-82df-2fdb111c029f"
      },
      "execution_count": null,
      "outputs": [
        {
          "output_type": "stream",
          "name": "stdout",
          "text": [
            "['Female' 'Male' 'Other']\n"
          ]
        }
      ]
    },
    {
      "cell_type": "code",
      "source": [
        "#Successfully dropped incorrect ages \n",
        "print(df['Age'].unique())"
      ],
      "metadata": {
        "colab": {
          "base_uri": "https://localhost:8080/"
        },
        "id": "VmIMZJOvKfg9",
        "outputId": "7bd75bc1-b986-4bf3-d849-ec8abb28c64f"
      },
      "execution_count": null,
      "outputs": [
        {
          "output_type": "stream",
          "name": "stdout",
          "text": [
            "[37 44 32 31 33 35 39 42 23 29 36 27 46 41 34 30 40 38 50 24 18 28 26 22\n",
            " 19 25 45 21 43 56 60 54 55 48 20 57 58 47 62 51 65 49 53 61 72]\n"
          ]
        }
      ]
    },
    {
      "cell_type": "code",
      "source": [
        "#Double checking these successes—looks good\n",
        "df"
      ],
      "metadata": {
        "colab": {
          "base_uri": "https://localhost:8080/",
          "height": 661
        },
        "id": "kf3QAhl0H7Jd",
        "outputId": "70dca3aa-f56b-48e0-8fbe-00db47476dbe"
      },
      "execution_count": null,
      "outputs": [
        {
          "output_type": "execute_result",
          "data": {
            "text/plain": [
              "                Timestamp  Age  Gender         Country state self_employed  \\\n",
              "0     2014-08-27 11:29:31   37  Female   United States    IL           NaN   \n",
              "1     2014-08-27 11:29:37   44    Male   United States    IN           NaN   \n",
              "2     2014-08-27 11:29:44   32    Male          Canada   NaN           NaN   \n",
              "3     2014-08-27 11:29:46   31    Male  United Kingdom   NaN           NaN   \n",
              "4     2014-08-27 11:30:22   31    Male   United States    TX           NaN   \n",
              "...                   ...  ...     ...             ...   ...           ...   \n",
              "1254  2015-09-12 11:17:21   26    Male  United Kingdom   NaN            No   \n",
              "1255  2015-09-26 01:07:35   32    Male   United States    IL            No   \n",
              "1256  2015-11-07 12:36:58   34    Male   United States    CA            No   \n",
              "1257  2015-11-30 21:25:06   46  Female   United States    NC            No   \n",
              "1258  2016-02-01 23:04:31   25    Male   United States    IL            No   \n",
              "\n",
              "     family_history treatment work_interfere    no_employees  ...  \\\n",
              "0                No       Yes          Often            6-25  ...   \n",
              "1                No        No         Rarely  More than 1000  ...   \n",
              "2                No        No         Rarely            6-25  ...   \n",
              "3               Yes       Yes          Often          26-100  ...   \n",
              "4                No        No          Never         100-500  ...   \n",
              "...             ...       ...            ...             ...  ...   \n",
              "1254             No       Yes            NaN          26-100  ...   \n",
              "1255            Yes       Yes          Often          26-100  ...   \n",
              "1256            Yes       Yes      Sometimes  More than 1000  ...   \n",
              "1257             No        No            NaN         100-500  ...   \n",
              "1258            Yes       Yes      Sometimes          26-100  ...   \n",
              "\n",
              "                   leave mental_health_consequence phys_health_consequence  \\\n",
              "0          Somewhat easy                        No                      No   \n",
              "1             Don't know                     Maybe                      No   \n",
              "2     Somewhat difficult                        No                      No   \n",
              "3     Somewhat difficult                       Yes                     Yes   \n",
              "4             Don't know                        No                      No   \n",
              "...                  ...                       ...                     ...   \n",
              "1254       Somewhat easy                        No                      No   \n",
              "1255  Somewhat difficult                        No                      No   \n",
              "1256  Somewhat difficult                       Yes                     Yes   \n",
              "1257          Don't know                       Yes                      No   \n",
              "1258          Don't know                     Maybe                      No   \n",
              "\n",
              "         coworkers    supervisor mental_health_interview  \\\n",
              "0     Some of them           Yes                      No   \n",
              "1               No            No                      No   \n",
              "2              Yes           Yes                     Yes   \n",
              "3     Some of them            No                   Maybe   \n",
              "4     Some of them           Yes                     Yes   \n",
              "...            ...           ...                     ...   \n",
              "1254  Some of them  Some of them                      No   \n",
              "1255  Some of them           Yes                      No   \n",
              "1256            No            No                      No   \n",
              "1257            No            No                      No   \n",
              "1258  Some of them            No                      No   \n",
              "\n",
              "     phys_health_interview mental_vs_physical obs_consequence comments  \n",
              "0                    Maybe                Yes              No      NaN  \n",
              "1                       No         Don't know              No      NaN  \n",
              "2                      Yes                 No              No      NaN  \n",
              "3                    Maybe                 No             Yes      NaN  \n",
              "4                      Yes         Don't know              No      NaN  \n",
              "...                    ...                ...             ...      ...  \n",
              "1254                    No         Don't know              No      NaN  \n",
              "1255                    No                Yes              No      NaN  \n",
              "1256                    No                 No              No      NaN  \n",
              "1257                    No                 No              No      NaN  \n",
              "1258                    No         Don't know              No      NaN  \n",
              "\n",
              "[1251 rows x 27 columns]"
            ],
            "text/html": [
              "\n",
              "  <div id=\"df-4f944477-85a5-488b-b04d-4b8e967e0bb6\">\n",
              "    <div class=\"colab-df-container\">\n",
              "      <div>\n",
              "<style scoped>\n",
              "    .dataframe tbody tr th:only-of-type {\n",
              "        vertical-align: middle;\n",
              "    }\n",
              "\n",
              "    .dataframe tbody tr th {\n",
              "        vertical-align: top;\n",
              "    }\n",
              "\n",
              "    .dataframe thead th {\n",
              "        text-align: right;\n",
              "    }\n",
              "</style>\n",
              "<table border=\"1\" class=\"dataframe\">\n",
              "  <thead>\n",
              "    <tr style=\"text-align: right;\">\n",
              "      <th></th>\n",
              "      <th>Timestamp</th>\n",
              "      <th>Age</th>\n",
              "      <th>Gender</th>\n",
              "      <th>Country</th>\n",
              "      <th>state</th>\n",
              "      <th>self_employed</th>\n",
              "      <th>family_history</th>\n",
              "      <th>treatment</th>\n",
              "      <th>work_interfere</th>\n",
              "      <th>no_employees</th>\n",
              "      <th>...</th>\n",
              "      <th>leave</th>\n",
              "      <th>mental_health_consequence</th>\n",
              "      <th>phys_health_consequence</th>\n",
              "      <th>coworkers</th>\n",
              "      <th>supervisor</th>\n",
              "      <th>mental_health_interview</th>\n",
              "      <th>phys_health_interview</th>\n",
              "      <th>mental_vs_physical</th>\n",
              "      <th>obs_consequence</th>\n",
              "      <th>comments</th>\n",
              "    </tr>\n",
              "  </thead>\n",
              "  <tbody>\n",
              "    <tr>\n",
              "      <th>0</th>\n",
              "      <td>2014-08-27 11:29:31</td>\n",
              "      <td>37</td>\n",
              "      <td>Female</td>\n",
              "      <td>United States</td>\n",
              "      <td>IL</td>\n",
              "      <td>NaN</td>\n",
              "      <td>No</td>\n",
              "      <td>Yes</td>\n",
              "      <td>Often</td>\n",
              "      <td>6-25</td>\n",
              "      <td>...</td>\n",
              "      <td>Somewhat easy</td>\n",
              "      <td>No</td>\n",
              "      <td>No</td>\n",
              "      <td>Some of them</td>\n",
              "      <td>Yes</td>\n",
              "      <td>No</td>\n",
              "      <td>Maybe</td>\n",
              "      <td>Yes</td>\n",
              "      <td>No</td>\n",
              "      <td>NaN</td>\n",
              "    </tr>\n",
              "    <tr>\n",
              "      <th>1</th>\n",
              "      <td>2014-08-27 11:29:37</td>\n",
              "      <td>44</td>\n",
              "      <td>Male</td>\n",
              "      <td>United States</td>\n",
              "      <td>IN</td>\n",
              "      <td>NaN</td>\n",
              "      <td>No</td>\n",
              "      <td>No</td>\n",
              "      <td>Rarely</td>\n",
              "      <td>More than 1000</td>\n",
              "      <td>...</td>\n",
              "      <td>Don't know</td>\n",
              "      <td>Maybe</td>\n",
              "      <td>No</td>\n",
              "      <td>No</td>\n",
              "      <td>No</td>\n",
              "      <td>No</td>\n",
              "      <td>No</td>\n",
              "      <td>Don't know</td>\n",
              "      <td>No</td>\n",
              "      <td>NaN</td>\n",
              "    </tr>\n",
              "    <tr>\n",
              "      <th>2</th>\n",
              "      <td>2014-08-27 11:29:44</td>\n",
              "      <td>32</td>\n",
              "      <td>Male</td>\n",
              "      <td>Canada</td>\n",
              "      <td>NaN</td>\n",
              "      <td>NaN</td>\n",
              "      <td>No</td>\n",
              "      <td>No</td>\n",
              "      <td>Rarely</td>\n",
              "      <td>6-25</td>\n",
              "      <td>...</td>\n",
              "      <td>Somewhat difficult</td>\n",
              "      <td>No</td>\n",
              "      <td>No</td>\n",
              "      <td>Yes</td>\n",
              "      <td>Yes</td>\n",
              "      <td>Yes</td>\n",
              "      <td>Yes</td>\n",
              "      <td>No</td>\n",
              "      <td>No</td>\n",
              "      <td>NaN</td>\n",
              "    </tr>\n",
              "    <tr>\n",
              "      <th>3</th>\n",
              "      <td>2014-08-27 11:29:46</td>\n",
              "      <td>31</td>\n",
              "      <td>Male</td>\n",
              "      <td>United Kingdom</td>\n",
              "      <td>NaN</td>\n",
              "      <td>NaN</td>\n",
              "      <td>Yes</td>\n",
              "      <td>Yes</td>\n",
              "      <td>Often</td>\n",
              "      <td>26-100</td>\n",
              "      <td>...</td>\n",
              "      <td>Somewhat difficult</td>\n",
              "      <td>Yes</td>\n",
              "      <td>Yes</td>\n",
              "      <td>Some of them</td>\n",
              "      <td>No</td>\n",
              "      <td>Maybe</td>\n",
              "      <td>Maybe</td>\n",
              "      <td>No</td>\n",
              "      <td>Yes</td>\n",
              "      <td>NaN</td>\n",
              "    </tr>\n",
              "    <tr>\n",
              "      <th>4</th>\n",
              "      <td>2014-08-27 11:30:22</td>\n",
              "      <td>31</td>\n",
              "      <td>Male</td>\n",
              "      <td>United States</td>\n",
              "      <td>TX</td>\n",
              "      <td>NaN</td>\n",
              "      <td>No</td>\n",
              "      <td>No</td>\n",
              "      <td>Never</td>\n",
              "      <td>100-500</td>\n",
              "      <td>...</td>\n",
              "      <td>Don't know</td>\n",
              "      <td>No</td>\n",
              "      <td>No</td>\n",
              "      <td>Some of them</td>\n",
              "      <td>Yes</td>\n",
              "      <td>Yes</td>\n",
              "      <td>Yes</td>\n",
              "      <td>Don't know</td>\n",
              "      <td>No</td>\n",
              "      <td>NaN</td>\n",
              "    </tr>\n",
              "    <tr>\n",
              "      <th>...</th>\n",
              "      <td>...</td>\n",
              "      <td>...</td>\n",
              "      <td>...</td>\n",
              "      <td>...</td>\n",
              "      <td>...</td>\n",
              "      <td>...</td>\n",
              "      <td>...</td>\n",
              "      <td>...</td>\n",
              "      <td>...</td>\n",
              "      <td>...</td>\n",
              "      <td>...</td>\n",
              "      <td>...</td>\n",
              "      <td>...</td>\n",
              "      <td>...</td>\n",
              "      <td>...</td>\n",
              "      <td>...</td>\n",
              "      <td>...</td>\n",
              "      <td>...</td>\n",
              "      <td>...</td>\n",
              "      <td>...</td>\n",
              "      <td>...</td>\n",
              "    </tr>\n",
              "    <tr>\n",
              "      <th>1254</th>\n",
              "      <td>2015-09-12 11:17:21</td>\n",
              "      <td>26</td>\n",
              "      <td>Male</td>\n",
              "      <td>United Kingdom</td>\n",
              "      <td>NaN</td>\n",
              "      <td>No</td>\n",
              "      <td>No</td>\n",
              "      <td>Yes</td>\n",
              "      <td>NaN</td>\n",
              "      <td>26-100</td>\n",
              "      <td>...</td>\n",
              "      <td>Somewhat easy</td>\n",
              "      <td>No</td>\n",
              "      <td>No</td>\n",
              "      <td>Some of them</td>\n",
              "      <td>Some of them</td>\n",
              "      <td>No</td>\n",
              "      <td>No</td>\n",
              "      <td>Don't know</td>\n",
              "      <td>No</td>\n",
              "      <td>NaN</td>\n",
              "    </tr>\n",
              "    <tr>\n",
              "      <th>1255</th>\n",
              "      <td>2015-09-26 01:07:35</td>\n",
              "      <td>32</td>\n",
              "      <td>Male</td>\n",
              "      <td>United States</td>\n",
              "      <td>IL</td>\n",
              "      <td>No</td>\n",
              "      <td>Yes</td>\n",
              "      <td>Yes</td>\n",
              "      <td>Often</td>\n",
              "      <td>26-100</td>\n",
              "      <td>...</td>\n",
              "      <td>Somewhat difficult</td>\n",
              "      <td>No</td>\n",
              "      <td>No</td>\n",
              "      <td>Some of them</td>\n",
              "      <td>Yes</td>\n",
              "      <td>No</td>\n",
              "      <td>No</td>\n",
              "      <td>Yes</td>\n",
              "      <td>No</td>\n",
              "      <td>NaN</td>\n",
              "    </tr>\n",
              "    <tr>\n",
              "      <th>1256</th>\n",
              "      <td>2015-11-07 12:36:58</td>\n",
              "      <td>34</td>\n",
              "      <td>Male</td>\n",
              "      <td>United States</td>\n",
              "      <td>CA</td>\n",
              "      <td>No</td>\n",
              "      <td>Yes</td>\n",
              "      <td>Yes</td>\n",
              "      <td>Sometimes</td>\n",
              "      <td>More than 1000</td>\n",
              "      <td>...</td>\n",
              "      <td>Somewhat difficult</td>\n",
              "      <td>Yes</td>\n",
              "      <td>Yes</td>\n",
              "      <td>No</td>\n",
              "      <td>No</td>\n",
              "      <td>No</td>\n",
              "      <td>No</td>\n",
              "      <td>No</td>\n",
              "      <td>No</td>\n",
              "      <td>NaN</td>\n",
              "    </tr>\n",
              "    <tr>\n",
              "      <th>1257</th>\n",
              "      <td>2015-11-30 21:25:06</td>\n",
              "      <td>46</td>\n",
              "      <td>Female</td>\n",
              "      <td>United States</td>\n",
              "      <td>NC</td>\n",
              "      <td>No</td>\n",
              "      <td>No</td>\n",
              "      <td>No</td>\n",
              "      <td>NaN</td>\n",
              "      <td>100-500</td>\n",
              "      <td>...</td>\n",
              "      <td>Don't know</td>\n",
              "      <td>Yes</td>\n",
              "      <td>No</td>\n",
              "      <td>No</td>\n",
              "      <td>No</td>\n",
              "      <td>No</td>\n",
              "      <td>No</td>\n",
              "      <td>No</td>\n",
              "      <td>No</td>\n",
              "      <td>NaN</td>\n",
              "    </tr>\n",
              "    <tr>\n",
              "      <th>1258</th>\n",
              "      <td>2016-02-01 23:04:31</td>\n",
              "      <td>25</td>\n",
              "      <td>Male</td>\n",
              "      <td>United States</td>\n",
              "      <td>IL</td>\n",
              "      <td>No</td>\n",
              "      <td>Yes</td>\n",
              "      <td>Yes</td>\n",
              "      <td>Sometimes</td>\n",
              "      <td>26-100</td>\n",
              "      <td>...</td>\n",
              "      <td>Don't know</td>\n",
              "      <td>Maybe</td>\n",
              "      <td>No</td>\n",
              "      <td>Some of them</td>\n",
              "      <td>No</td>\n",
              "      <td>No</td>\n",
              "      <td>No</td>\n",
              "      <td>Don't know</td>\n",
              "      <td>No</td>\n",
              "      <td>NaN</td>\n",
              "    </tr>\n",
              "  </tbody>\n",
              "</table>\n",
              "<p>1251 rows × 27 columns</p>\n",
              "</div>\n",
              "      <button class=\"colab-df-convert\" onclick=\"convertToInteractive('df-4f944477-85a5-488b-b04d-4b8e967e0bb6')\"\n",
              "              title=\"Convert this dataframe to an interactive table.\"\n",
              "              style=\"display:none;\">\n",
              "        \n",
              "  <svg xmlns=\"http://www.w3.org/2000/svg\" height=\"24px\"viewBox=\"0 0 24 24\"\n",
              "       width=\"24px\">\n",
              "    <path d=\"M0 0h24v24H0V0z\" fill=\"none\"/>\n",
              "    <path d=\"M18.56 5.44l.94 2.06.94-2.06 2.06-.94-2.06-.94-.94-2.06-.94 2.06-2.06.94zm-11 1L8.5 8.5l.94-2.06 2.06-.94-2.06-.94L8.5 2.5l-.94 2.06-2.06.94zm10 10l.94 2.06.94-2.06 2.06-.94-2.06-.94-.94-2.06-.94 2.06-2.06.94z\"/><path d=\"M17.41 7.96l-1.37-1.37c-.4-.4-.92-.59-1.43-.59-.52 0-1.04.2-1.43.59L10.3 9.45l-7.72 7.72c-.78.78-.78 2.05 0 2.83L4 21.41c.39.39.9.59 1.41.59.51 0 1.02-.2 1.41-.59l7.78-7.78 2.81-2.81c.8-.78.8-2.07 0-2.86zM5.41 20L4 18.59l7.72-7.72 1.47 1.35L5.41 20z\"/>\n",
              "  </svg>\n",
              "      </button>\n",
              "      \n",
              "  <style>\n",
              "    .colab-df-container {\n",
              "      display:flex;\n",
              "      flex-wrap:wrap;\n",
              "      gap: 12px;\n",
              "    }\n",
              "\n",
              "    .colab-df-convert {\n",
              "      background-color: #E8F0FE;\n",
              "      border: none;\n",
              "      border-radius: 50%;\n",
              "      cursor: pointer;\n",
              "      display: none;\n",
              "      fill: #1967D2;\n",
              "      height: 32px;\n",
              "      padding: 0 0 0 0;\n",
              "      width: 32px;\n",
              "    }\n",
              "\n",
              "    .colab-df-convert:hover {\n",
              "      background-color: #E2EBFA;\n",
              "      box-shadow: 0px 1px 2px rgba(60, 64, 67, 0.3), 0px 1px 3px 1px rgba(60, 64, 67, 0.15);\n",
              "      fill: #174EA6;\n",
              "    }\n",
              "\n",
              "    [theme=dark] .colab-df-convert {\n",
              "      background-color: #3B4455;\n",
              "      fill: #D2E3FC;\n",
              "    }\n",
              "\n",
              "    [theme=dark] .colab-df-convert:hover {\n",
              "      background-color: #434B5C;\n",
              "      box-shadow: 0px 1px 3px 1px rgba(0, 0, 0, 0.15);\n",
              "      filter: drop-shadow(0px 1px 2px rgba(0, 0, 0, 0.3));\n",
              "      fill: #FFFFFF;\n",
              "    }\n",
              "  </style>\n",
              "\n",
              "      <script>\n",
              "        const buttonEl =\n",
              "          document.querySelector('#df-4f944477-85a5-488b-b04d-4b8e967e0bb6 button.colab-df-convert');\n",
              "        buttonEl.style.display =\n",
              "          google.colab.kernel.accessAllowed ? 'block' : 'none';\n",
              "\n",
              "        async function convertToInteractive(key) {\n",
              "          const element = document.querySelector('#df-4f944477-85a5-488b-b04d-4b8e967e0bb6');\n",
              "          const dataTable =\n",
              "            await google.colab.kernel.invokeFunction('convertToInteractive',\n",
              "                                                     [key], {});\n",
              "          if (!dataTable) return;\n",
              "\n",
              "          const docLinkHtml = 'Like what you see? Visit the ' +\n",
              "            '<a target=\"_blank\" href=https://colab.research.google.com/notebooks/data_table.ipynb>data table notebook</a>'\n",
              "            + ' to learn more about interactive tables.';\n",
              "          element.innerHTML = '';\n",
              "          dataTable['output_type'] = 'display_data';\n",
              "          await google.colab.output.renderOutput(dataTable, element);\n",
              "          const docLink = document.createElement('div');\n",
              "          docLink.innerHTML = docLinkHtml;\n",
              "          element.appendChild(docLink);\n",
              "        }\n",
              "      </script>\n",
              "    </div>\n",
              "  </div>\n",
              "  "
            ]
          },
          "metadata": {},
          "execution_count": 20
        }
      ]
    },
    {
      "cell_type": "code",
      "source": [
        "df['Country'].value_counts()"
      ],
      "metadata": {
        "colab": {
          "base_uri": "https://localhost:8080/"
        },
        "id": "YFaQxM0FAMgk",
        "outputId": "8d5fd610-36aa-4e6e-e2ed-ae28a65366d2"
      },
      "execution_count": null,
      "outputs": [
        {
          "output_type": "execute_result",
          "data": {
            "text/plain": [
              "United States             746\n",
              "United Kingdom            184\n",
              "Canada                     72\n",
              "Germany                    45\n",
              "Netherlands                27\n",
              "Ireland                    27\n",
              "Australia                  21\n",
              "France                     13\n",
              "India                      10\n",
              "New Zealand                 8\n",
              "Italy                       7\n",
              "Poland                      7\n",
              "Sweden                      7\n",
              "Switzerland                 7\n",
              "South Africa                6\n",
              "Belgium                     6\n",
              "Brazil                      6\n",
              "Israel                      5\n",
              "Singapore                   4\n",
              "Bulgaria                    4\n",
              "Mexico                      3\n",
              "Russia                      3\n",
              "Finland                     3\n",
              "Austria                     3\n",
              "Denmark                     2\n",
              "Greece                      2\n",
              "Portugal                    2\n",
              "Colombia                    2\n",
              "Croatia                     2\n",
              "Moldova                     1\n",
              "Georgia                     1\n",
              "China                       1\n",
              "Thailand                    1\n",
              "Czech Republic              1\n",
              "Norway                      1\n",
              "Latvia                      1\n",
              "Nigeria                     1\n",
              "Japan                       1\n",
              "Hungary                     1\n",
              "Bosnia and Herzegovina      1\n",
              "Uruguay                     1\n",
              "Spain                       1\n",
              "Romania                     1\n",
              "Costa Rica                  1\n",
              "Slovenia                    1\n",
              "Philippines                 1\n",
              "Name: Country, dtype: int64"
            ]
          },
          "metadata": {},
          "execution_count": 21
        }
      ]
    },
    {
      "cell_type": "code",
      "source": [
        "df['state'].value_counts()"
      ],
      "metadata": {
        "colab": {
          "base_uri": "https://localhost:8080/"
        },
        "id": "gWs654tsAZwd",
        "outputId": "ffbd424d-007a-41f2-834d-c19eb579303c"
      },
      "execution_count": null,
      "outputs": [
        {
          "output_type": "execute_result",
          "data": {
            "text/plain": [
              "CA    138\n",
              "WA     70\n",
              "NY     57\n",
              "TN     45\n",
              "TX     44\n",
              "OR     29\n",
              "PA     29\n",
              "IL     28\n",
              "IN     27\n",
              "OH     27\n",
              "MI     22\n",
              "MN     20\n",
              "MA     20\n",
              "FL     15\n",
              "NC     14\n",
              "VA     14\n",
              "WI     12\n",
              "GA     12\n",
              "MO     12\n",
              "UT     11\n",
              "CO      9\n",
              "MD      8\n",
              "AL      7\n",
              "AZ      7\n",
              "OK      6\n",
              "NJ      6\n",
              "KY      5\n",
              "SC      5\n",
              "IA      4\n",
              "CT      4\n",
              "DC      4\n",
              "NV      3\n",
              "VT      3\n",
              "SD      3\n",
              "KS      3\n",
              "NH      3\n",
              "WY      2\n",
              "NM      2\n",
              "NE      2\n",
              "WV      1\n",
              "ID      1\n",
              "MS      1\n",
              "RI      1\n",
              "LA      1\n",
              "ME      1\n",
              "Name: state, dtype: int64"
            ]
          },
          "metadata": {},
          "execution_count": 22
        }
      ]
    },
    {
      "cell_type": "code",
      "source": [
        "df['self_employed'].value_counts()"
      ],
      "metadata": {
        "colab": {
          "base_uri": "https://localhost:8080/"
        },
        "id": "rPkM0hL1Ae6t",
        "outputId": "637f65aa-287b-4fd0-fcf2-09cc2f2d4d63"
      },
      "execution_count": null,
      "outputs": [
        {
          "output_type": "execute_result",
          "data": {
            "text/plain": [
              "No     1091\n",
              "Yes     142\n",
              "Name: self_employed, dtype: int64"
            ]
          },
          "metadata": {},
          "execution_count": 23
        }
      ]
    },
    {
      "cell_type": "code",
      "source": [
        "df['family_history'].value_counts()"
      ],
      "metadata": {
        "colab": {
          "base_uri": "https://localhost:8080/"
        },
        "id": "HiB7y1ppAjFo",
        "outputId": "ca6564dd-a2d5-4902-9067-c7ac58a23ad0"
      },
      "execution_count": null,
      "outputs": [
        {
          "output_type": "execute_result",
          "data": {
            "text/plain": [
              "No     762\n",
              "Yes    489\n",
              "Name: family_history, dtype: int64"
            ]
          },
          "metadata": {},
          "execution_count": 24
        }
      ]
    },
    {
      "cell_type": "code",
      "source": [
        "df['treatment'].value_counts()"
      ],
      "metadata": {
        "colab": {
          "base_uri": "https://localhost:8080/"
        },
        "id": "lKlRqfJYAsAs",
        "outputId": "05c67cd2-baa7-4a6c-fb66-9a7949200e35"
      },
      "execution_count": null,
      "outputs": [
        {
          "output_type": "execute_result",
          "data": {
            "text/plain": [
              "Yes    632\n",
              "No     619\n",
              "Name: treatment, dtype: int64"
            ]
          },
          "metadata": {},
          "execution_count": 25
        }
      ]
    },
    {
      "cell_type": "code",
      "source": [
        "df['work_interfere'].value_counts()"
      ],
      "metadata": {
        "colab": {
          "base_uri": "https://localhost:8080/"
        },
        "id": "sAU1cTXMA4uR",
        "outputId": "7499aa53-f6b9-41ef-9ad7-f5c11237708e"
      },
      "execution_count": null,
      "outputs": [
        {
          "output_type": "execute_result",
          "data": {
            "text/plain": [
              "Sometimes    464\n",
              "Never        212\n",
              "Rarely       173\n",
              "Often        140\n",
              "Name: work_interfere, dtype: int64"
            ]
          },
          "metadata": {},
          "execution_count": 26
        }
      ]
    },
    {
      "cell_type": "code",
      "source": [
        "#How many employees does your company or organization have?\n",
        "df['no_employees'].value_counts()"
      ],
      "metadata": {
        "colab": {
          "base_uri": "https://localhost:8080/"
        },
        "id": "nNEh7f4pA8a9",
        "outputId": "73b55782-eb7d-4ed3-8f0a-530bfa74750a"
      },
      "execution_count": null,
      "outputs": [
        {
          "output_type": "execute_result",
          "data": {
            "text/plain": [
              "6-25              289\n",
              "26-100            288\n",
              "More than 1000    281\n",
              "100-500           175\n",
              "1-5               158\n",
              "500-1000           60\n",
              "Name: no_employees, dtype: int64"
            ]
          },
          "metadata": {},
          "execution_count": 27
        }
      ]
    },
    {
      "cell_type": "code",
      "source": [
        "df['remote_work'].value_counts()"
      ],
      "metadata": {
        "colab": {
          "base_uri": "https://localhost:8080/"
        },
        "id": "DISX5YXvBIRl",
        "outputId": "e01cb16f-9a1c-41ee-afec-bfb35cdce136"
      },
      "execution_count": null,
      "outputs": [
        {
          "output_type": "execute_result",
          "data": {
            "text/plain": [
              "No     880\n",
              "Yes    371\n",
              "Name: remote_work, dtype: int64"
            ]
          },
          "metadata": {},
          "execution_count": 28
        }
      ]
    },
    {
      "cell_type": "code",
      "source": [
        "df['benefits'].value_counts()"
      ],
      "metadata": {
        "colab": {
          "base_uri": "https://localhost:8080/"
        },
        "id": "140-mX09BQLU",
        "outputId": "85f1c929-d898-46f9-ab54-9216a4bfc788"
      },
      "execution_count": null,
      "outputs": [
        {
          "output_type": "execute_result",
          "data": {
            "text/plain": [
              "Yes           473\n",
              "Don't know    407\n",
              "No            371\n",
              "Name: benefits, dtype: int64"
            ]
          },
          "metadata": {},
          "execution_count": 29
        }
      ]
    },
    {
      "cell_type": "code",
      "source": [
        "df['care_options'].value_counts()"
      ],
      "metadata": {
        "colab": {
          "base_uri": "https://localhost:8080/"
        },
        "id": "dmN5M6ruBUXT",
        "outputId": "1ba44cfe-8efa-4858-c76f-86da9c3cdf7b"
      },
      "execution_count": null,
      "outputs": [
        {
          "output_type": "execute_result",
          "data": {
            "text/plain": [
              "No          499\n",
              "Yes         439\n",
              "Not sure    313\n",
              "Name: care_options, dtype: int64"
            ]
          },
          "metadata": {},
          "execution_count": 30
        }
      ]
    },
    {
      "cell_type": "code",
      "source": [
        "df['wellness_program'].value_counts()"
      ],
      "metadata": {
        "colab": {
          "base_uri": "https://localhost:8080/"
        },
        "id": "eqmjjAnJBWbj",
        "outputId": "90693532-358d-4fdf-8bbe-7c43ccbc748c"
      },
      "execution_count": null,
      "outputs": [
        {
          "output_type": "execute_result",
          "data": {
            "text/plain": [
              "No            837\n",
              "Yes           227\n",
              "Don't know    187\n",
              "Name: wellness_program, dtype: int64"
            ]
          },
          "metadata": {},
          "execution_count": 31
        }
      ]
    },
    {
      "cell_type": "code",
      "source": [
        "df['seek_help'].value_counts()"
      ],
      "metadata": {
        "colab": {
          "base_uri": "https://localhost:8080/"
        },
        "id": "rdHtQOl-Ba4M",
        "outputId": "2ce3807c-0892-47c9-a997-0d40df4a27c4"
      },
      "execution_count": null,
      "outputs": [
        {
          "output_type": "execute_result",
          "data": {
            "text/plain": [
              "No            641\n",
              "Don't know    363\n",
              "Yes           247\n",
              "Name: seek_help, dtype: int64"
            ]
          },
          "metadata": {},
          "execution_count": 32
        }
      ]
    },
    {
      "cell_type": "code",
      "source": [
        "df['anonymity'].value_counts()"
      ],
      "metadata": {
        "colab": {
          "base_uri": "https://localhost:8080/"
        },
        "id": "_el10gY0BdfW",
        "outputId": "91a639c9-d7f3-4d2e-c6d4-bf3c10a909e9"
      },
      "execution_count": null,
      "outputs": [
        {
          "output_type": "execute_result",
          "data": {
            "text/plain": [
              "Don't know    815\n",
              "Yes           372\n",
              "No             64\n",
              "Name: anonymity, dtype: int64"
            ]
          },
          "metadata": {},
          "execution_count": 33
        }
      ]
    },
    {
      "cell_type": "code",
      "source": [
        "df['leave'].value_counts()"
      ],
      "metadata": {
        "colab": {
          "base_uri": "https://localhost:8080/"
        },
        "id": "KKiMQDpcBgZU",
        "outputId": "fc8bcdaf-7c4b-4d7b-a167-678f3b49d3f4"
      },
      "execution_count": null,
      "outputs": [
        {
          "output_type": "execute_result",
          "data": {
            "text/plain": [
              "Don't know            561\n",
              "Somewhat easy         265\n",
              "Very easy             203\n",
              "Somewhat difficult    125\n",
              "Very difficult         97\n",
              "Name: leave, dtype: int64"
            ]
          },
          "metadata": {},
          "execution_count": 34
        }
      ]
    },
    {
      "cell_type": "code",
      "source": [
        "df['mental_health_consequence'].value_counts()"
      ],
      "metadata": {
        "colab": {
          "base_uri": "https://localhost:8080/"
        },
        "id": "Y5g97eGrBlHs",
        "outputId": "cc67b8a1-ac15-4e00-fb52-f47f9ec1b1e6"
      },
      "execution_count": null,
      "outputs": [
        {
          "output_type": "execute_result",
          "data": {
            "text/plain": [
              "No       487\n",
              "Maybe    476\n",
              "Yes      288\n",
              "Name: mental_health_consequence, dtype: int64"
            ]
          },
          "metadata": {},
          "execution_count": 35
        }
      ]
    },
    {
      "cell_type": "code",
      "source": [
        "df['phys_health_consequence'].value_counts()"
      ],
      "metadata": {
        "colab": {
          "base_uri": "https://localhost:8080/"
        },
        "id": "4nqXhRC4BpZp",
        "outputId": "b12edf63-3736-40aa-bc1e-764c88f1a5d2"
      },
      "execution_count": null,
      "outputs": [
        {
          "output_type": "execute_result",
          "data": {
            "text/plain": [
              "No       920\n",
              "Maybe    273\n",
              "Yes       58\n",
              "Name: phys_health_consequence, dtype: int64"
            ]
          },
          "metadata": {},
          "execution_count": 36
        }
      ]
    },
    {
      "cell_type": "code",
      "source": [
        "df['mental_vs_physical'].value_counts()"
      ],
      "metadata": {
        "colab": {
          "base_uri": "https://localhost:8080/"
        },
        "id": "dVKzPUaHB4UV",
        "outputId": "1c364ce3-b8a5-4007-fb13-691efa29f8d8"
      },
      "execution_count": null,
      "outputs": [
        {
          "output_type": "execute_result",
          "data": {
            "text/plain": [
              "Don't know    574\n",
              "Yes           339\n",
              "No            338\n",
              "Name: mental_vs_physical, dtype: int64"
            ]
          },
          "metadata": {},
          "execution_count": 37
        }
      ]
    },
    {
      "cell_type": "code",
      "source": [
        "df['tech_company'].value_counts()"
      ],
      "metadata": {
        "colab": {
          "base_uri": "https://localhost:8080/"
        },
        "id": "Di3eAqxQxLBh",
        "outputId": "ca80a4b4-b2a5-4b19-8cdf-68d39244dc31"
      },
      "execution_count": null,
      "outputs": [
        {
          "output_type": "execute_result",
          "data": {
            "text/plain": [
              "Yes    1025\n",
              "No      226\n",
              "Name: tech_company, dtype: int64"
            ]
          },
          "metadata": {},
          "execution_count": 38
        }
      ]
    },
    {
      "cell_type": "code",
      "source": [
        "df['obs_consequence'].value_counts()"
      ],
      "metadata": {
        "colab": {
          "base_uri": "https://localhost:8080/"
        },
        "id": "Vv82ahjJB7XY",
        "outputId": "751d6044-d70c-4669-dfd7-249fcf01ef56"
      },
      "execution_count": null,
      "outputs": [
        {
          "output_type": "execute_result",
          "data": {
            "text/plain": [
              "No     1070\n",
              "Yes     181\n",
              "Name: obs_consequence, dtype: int64"
            ]
          },
          "metadata": {},
          "execution_count": 39
        }
      ]
    },
    {
      "cell_type": "code",
      "source": [
        "condition = df['self_employed'] == \"Yes\""
      ],
      "metadata": {
        "id": "tiSpvKcDCAW5"
      },
      "execution_count": null,
      "outputs": []
    },
    {
      "cell_type": "code",
      "source": [
        "#Remove those who are self_employed because they are not relevant to the question we are trying to answer \n",
        "df = df[~condition]"
      ],
      "metadata": {
        "id": "71ENWAMpCY1G"
      },
      "execution_count": null,
      "outputs": []
    },
    {
      "cell_type": "code",
      "source": [
        "print(df['self_employed'].unique())"
      ],
      "metadata": {
        "colab": {
          "base_uri": "https://localhost:8080/"
        },
        "id": "SQ3Tp5TGOWr2",
        "outputId": "a4bce789-7b53-4fbc-bbc9-f012b46ba3cc"
      },
      "execution_count": null,
      "outputs": [
        {
          "output_type": "stream",
          "name": "stdout",
          "text": [
            "[nan 'No']\n"
          ]
        }
      ]
    },
    {
      "cell_type": "code",
      "source": [
        "#I am going to also get rid of the rows that didn't put a respnse for self-employed to avoid messing up the data more  \n",
        "print(df.isna().mean() * 100)"
      ],
      "metadata": {
        "colab": {
          "base_uri": "https://localhost:8080/"
        },
        "id": "peBGhDa9VhGx",
        "outputId": "26954b67-ddbc-427f-a5d6-7663dbf555dc"
      },
      "execution_count": null,
      "outputs": [
        {
          "output_type": "stream",
          "name": "stdout",
          "text": [
            "Timestamp                     0.000000\n",
            "Age                           0.000000\n",
            "Gender                        0.000000\n",
            "Country                       0.000000\n",
            "state                        38.142471\n",
            "self_employed                 1.623084\n",
            "family_history                0.000000\n",
            "treatment                     0.000000\n",
            "work_interfere               21.731289\n",
            "no_employees                  0.000000\n",
            "remote_work                   0.000000\n",
            "tech_company                  0.000000\n",
            "benefits                      0.000000\n",
            "care_options                  0.000000\n",
            "wellness_program              0.000000\n",
            "seek_help                     0.000000\n",
            "anonymity                     0.000000\n",
            "leave                         0.000000\n",
            "mental_health_consequence     0.000000\n",
            "phys_health_consequence       0.000000\n",
            "coworkers                     0.000000\n",
            "supervisor                    0.000000\n",
            "mental_health_interview       0.000000\n",
            "phys_health_interview         0.000000\n",
            "mental_vs_physical            0.000000\n",
            "obs_consequence               0.000000\n",
            "comments                     87.466186\n",
            "dtype: float64\n"
          ]
        }
      ]
    },
    {
      "cell_type": "code",
      "source": [
        "df = df.dropna(subset=['self_employed'])\n",
        "#You can see above that this change worked "
      ],
      "metadata": {
        "id": "37et63tbXL_3"
      },
      "execution_count": null,
      "outputs": []
    },
    {
      "cell_type": "code",
      "source": [
        "remote = df['remote_work']\n",
        "obs = df['obs_consequence']"
      ],
      "metadata": {
        "id": "63TyiK5GcQPh"
      },
      "execution_count": null,
      "outputs": []
    },
    {
      "cell_type": "code",
      "source": [
        "#Filling in NaNs of those who didn't fill in work interference \n",
        "df['work_interfere'] = df['work_interfere'].fillna('Not sure')"
      ],
      "metadata": {
        "id": "QzZQm1DJzrEt",
        "colab": {
          "base_uri": "https://localhost:8080/"
        },
        "outputId": "53d845bc-2b91-4c72-e513-abdfdec14402"
      },
      "execution_count": null,
      "outputs": [
        {
          "output_type": "stream",
          "name": "stderr",
          "text": [
            "<ipython-input-46-bcf725df6393>:2: SettingWithCopyWarning: \n",
            "A value is trying to be set on a copy of a slice from a DataFrame.\n",
            "Try using .loc[row_indexer,col_indexer] = value instead\n",
            "\n",
            "See the caveats in the documentation: https://pandas.pydata.org/pandas-docs/stable/user_guide/indexing.html#returning-a-view-versus-a-copy\n",
            "  df['work_interfere'] = df['work_interfere'].fillna('Not sure')\n"
          ]
        }
      ]
    },
    {
      "cell_type": "code",
      "source": [
        "#Discard country, state, timestamp, and comment variables \n",
        "df = df.drop(\"Timestamp\", axis = 1)"
      ],
      "metadata": {
        "id": "7xb6L5Wb05kc"
      },
      "execution_count": null,
      "outputs": []
    },
    {
      "cell_type": "code",
      "source": [
        "df = df.drop(\"Country\", axis = 1)"
      ],
      "metadata": {
        "id": "G6MSPysn1X0Y"
      },
      "execution_count": null,
      "outputs": []
    },
    {
      "cell_type": "code",
      "source": [
        "df = df.drop(\"state\", axis = 1)"
      ],
      "metadata": {
        "id": "GEX_JDuR1c5m"
      },
      "execution_count": null,
      "outputs": []
    },
    {
      "cell_type": "code",
      "source": [
        "df = df.drop(\"comments\", axis = 1)"
      ],
      "metadata": {
        "id": "RVIOp1yt1g2f"
      },
      "execution_count": null,
      "outputs": []
    },
    {
      "cell_type": "code",
      "source": [
        "#Drop self emplpyed because I'm trying to give feedback to people who work at these companies\n",
        "df = df.drop(\"self_employed\", axis = 1)"
      ],
      "metadata": {
        "id": "z8j4sMEF35EW"
      },
      "execution_count": null,
      "outputs": []
    },
    {
      "cell_type": "code",
      "source": [
        "df = df[df[\"tech_company\"] != \"No\"]"
      ],
      "metadata": {
        "id": "ca2SooRRwVcZ"
      },
      "execution_count": null,
      "outputs": []
    },
    {
      "cell_type": "code",
      "source": [
        "df['tech_company'].value_counts()"
      ],
      "metadata": {
        "colab": {
          "base_uri": "https://localhost:8080/"
        },
        "id": "Pr06EtO4xVmq",
        "outputId": "6f24dab3-869c-4b9b-ec92-32e25ee5cc1b"
      },
      "execution_count": null,
      "outputs": [
        {
          "output_type": "execute_result",
          "data": {
            "text/plain": [
              "Yes    881\n",
              "Name: tech_company, dtype: int64"
            ]
          },
          "metadata": {},
          "execution_count": 53
        }
      ]
    },
    {
      "cell_type": "code",
      "source": [
        "df.info()"
      ],
      "metadata": {
        "colab": {
          "base_uri": "https://localhost:8080/"
        },
        "id": "mZDcxd3M1j6T",
        "outputId": "84a28b76-68d4-40d4-e436-d654cf8956cb"
      },
      "execution_count": null,
      "outputs": [
        {
          "output_type": "stream",
          "name": "stdout",
          "text": [
            "<class 'pandas.core.frame.DataFrame'>\n",
            "Int64Index: 881 entries, 20 to 1257\n",
            "Data columns (total 22 columns):\n",
            " #   Column                     Non-Null Count  Dtype \n",
            "---  ------                     --------------  ----- \n",
            " 0   Age                        881 non-null    int64 \n",
            " 1   Gender                     881 non-null    object\n",
            " 2   family_history             881 non-null    object\n",
            " 3   treatment                  881 non-null    object\n",
            " 4   work_interfere             881 non-null    object\n",
            " 5   no_employees               881 non-null    object\n",
            " 6   remote_work                881 non-null    object\n",
            " 7   tech_company               881 non-null    object\n",
            " 8   benefits                   881 non-null    object\n",
            " 9   care_options               881 non-null    object\n",
            " 10  wellness_program           881 non-null    object\n",
            " 11  seek_help                  881 non-null    object\n",
            " 12  anonymity                  881 non-null    object\n",
            " 13  leave                      881 non-null    object\n",
            " 14  mental_health_consequence  881 non-null    object\n",
            " 15  phys_health_consequence    881 non-null    object\n",
            " 16  coworkers                  881 non-null    object\n",
            " 17  supervisor                 881 non-null    object\n",
            " 18  mental_health_interview    881 non-null    object\n",
            " 19  phys_health_interview      881 non-null    object\n",
            " 20  mental_vs_physical         881 non-null    object\n",
            " 21  obs_consequence            881 non-null    object\n",
            "dtypes: int64(1), object(21)\n",
            "memory usage: 158.3+ KB\n"
          ]
        }
      ]
    },
    {
      "cell_type": "code",
      "source": [
        "cross_tab = pd.crosstab(remote, obs)\n",
        "cross_tab"
      ],
      "metadata": {
        "colab": {
          "base_uri": "https://localhost:8080/",
          "height": 143
        },
        "id": "cf15hGG5cdYo",
        "outputId": "0909c2c1-aaff-444c-ec9f-89ea727bd02b"
      },
      "execution_count": null,
      "outputs": [
        {
          "output_type": "execute_result",
          "data": {
            "text/plain": [
              "obs_consequence   No  Yes\n",
              "remote_work              \n",
              "No               701  124\n",
              "Yes              241   25"
            ],
            "text/html": [
              "\n",
              "  <div id=\"df-39699cfd-3cdd-4a27-a7ce-2b5527500413\">\n",
              "    <div class=\"colab-df-container\">\n",
              "      <div>\n",
              "<style scoped>\n",
              "    .dataframe tbody tr th:only-of-type {\n",
              "        vertical-align: middle;\n",
              "    }\n",
              "\n",
              "    .dataframe tbody tr th {\n",
              "        vertical-align: top;\n",
              "    }\n",
              "\n",
              "    .dataframe thead th {\n",
              "        text-align: right;\n",
              "    }\n",
              "</style>\n",
              "<table border=\"1\" class=\"dataframe\">\n",
              "  <thead>\n",
              "    <tr style=\"text-align: right;\">\n",
              "      <th>obs_consequence</th>\n",
              "      <th>No</th>\n",
              "      <th>Yes</th>\n",
              "    </tr>\n",
              "    <tr>\n",
              "      <th>remote_work</th>\n",
              "      <th></th>\n",
              "      <th></th>\n",
              "    </tr>\n",
              "  </thead>\n",
              "  <tbody>\n",
              "    <tr>\n",
              "      <th>No</th>\n",
              "      <td>701</td>\n",
              "      <td>124</td>\n",
              "    </tr>\n",
              "    <tr>\n",
              "      <th>Yes</th>\n",
              "      <td>241</td>\n",
              "      <td>25</td>\n",
              "    </tr>\n",
              "  </tbody>\n",
              "</table>\n",
              "</div>\n",
              "      <button class=\"colab-df-convert\" onclick=\"convertToInteractive('df-39699cfd-3cdd-4a27-a7ce-2b5527500413')\"\n",
              "              title=\"Convert this dataframe to an interactive table.\"\n",
              "              style=\"display:none;\">\n",
              "        \n",
              "  <svg xmlns=\"http://www.w3.org/2000/svg\" height=\"24px\"viewBox=\"0 0 24 24\"\n",
              "       width=\"24px\">\n",
              "    <path d=\"M0 0h24v24H0V0z\" fill=\"none\"/>\n",
              "    <path d=\"M18.56 5.44l.94 2.06.94-2.06 2.06-.94-2.06-.94-.94-2.06-.94 2.06-2.06.94zm-11 1L8.5 8.5l.94-2.06 2.06-.94-2.06-.94L8.5 2.5l-.94 2.06-2.06.94zm10 10l.94 2.06.94-2.06 2.06-.94-2.06-.94-.94-2.06-.94 2.06-2.06.94z\"/><path d=\"M17.41 7.96l-1.37-1.37c-.4-.4-.92-.59-1.43-.59-.52 0-1.04.2-1.43.59L10.3 9.45l-7.72 7.72c-.78.78-.78 2.05 0 2.83L4 21.41c.39.39.9.59 1.41.59.51 0 1.02-.2 1.41-.59l7.78-7.78 2.81-2.81c.8-.78.8-2.07 0-2.86zM5.41 20L4 18.59l7.72-7.72 1.47 1.35L5.41 20z\"/>\n",
              "  </svg>\n",
              "      </button>\n",
              "      \n",
              "  <style>\n",
              "    .colab-df-container {\n",
              "      display:flex;\n",
              "      flex-wrap:wrap;\n",
              "      gap: 12px;\n",
              "    }\n",
              "\n",
              "    .colab-df-convert {\n",
              "      background-color: #E8F0FE;\n",
              "      border: none;\n",
              "      border-radius: 50%;\n",
              "      cursor: pointer;\n",
              "      display: none;\n",
              "      fill: #1967D2;\n",
              "      height: 32px;\n",
              "      padding: 0 0 0 0;\n",
              "      width: 32px;\n",
              "    }\n",
              "\n",
              "    .colab-df-convert:hover {\n",
              "      background-color: #E2EBFA;\n",
              "      box-shadow: 0px 1px 2px rgba(60, 64, 67, 0.3), 0px 1px 3px 1px rgba(60, 64, 67, 0.15);\n",
              "      fill: #174EA6;\n",
              "    }\n",
              "\n",
              "    [theme=dark] .colab-df-convert {\n",
              "      background-color: #3B4455;\n",
              "      fill: #D2E3FC;\n",
              "    }\n",
              "\n",
              "    [theme=dark] .colab-df-convert:hover {\n",
              "      background-color: #434B5C;\n",
              "      box-shadow: 0px 1px 3px 1px rgba(0, 0, 0, 0.15);\n",
              "      filter: drop-shadow(0px 1px 2px rgba(0, 0, 0, 0.3));\n",
              "      fill: #FFFFFF;\n",
              "    }\n",
              "  </style>\n",
              "\n",
              "      <script>\n",
              "        const buttonEl =\n",
              "          document.querySelector('#df-39699cfd-3cdd-4a27-a7ce-2b5527500413 button.colab-df-convert');\n",
              "        buttonEl.style.display =\n",
              "          google.colab.kernel.accessAllowed ? 'block' : 'none';\n",
              "\n",
              "        async function convertToInteractive(key) {\n",
              "          const element = document.querySelector('#df-39699cfd-3cdd-4a27-a7ce-2b5527500413');\n",
              "          const dataTable =\n",
              "            await google.colab.kernel.invokeFunction('convertToInteractive',\n",
              "                                                     [key], {});\n",
              "          if (!dataTable) return;\n",
              "\n",
              "          const docLinkHtml = 'Like what you see? Visit the ' +\n",
              "            '<a target=\"_blank\" href=https://colab.research.google.com/notebooks/data_table.ipynb>data table notebook</a>'\n",
              "            + ' to learn more about interactive tables.';\n",
              "          element.innerHTML = '';\n",
              "          dataTable['output_type'] = 'display_data';\n",
              "          await google.colab.output.renderOutput(dataTable, element);\n",
              "          const docLink = document.createElement('div');\n",
              "          docLink.innerHTML = docLinkHtml;\n",
              "          element.appendChild(docLink);\n",
              "        }\n",
              "      </script>\n",
              "    </div>\n",
              "  </div>\n",
              "  "
            ]
          },
          "metadata": {},
          "execution_count": 55
        }
      ]
    },
    {
      "cell_type": "code",
      "source": [
        "cross_tab.plot(kind='bar', stacked=True)\n",
        "plt.xlabel('Remote Work?')\n",
        "plt.ylabel('Observed Negative Mental Health?')\n",
        "plt.title('Relationship Between Remote Work and Negative Consequences for Mental Health')\n",
        "#Approximately 15% of people who work in person see mental health issued getting a negative response \n",
        "#Approximately 9.4% of people who work mostly remote see mental issues getting a negative response \n",
        "#Don't see a huge red flag here just based on this variable"
      ],
      "metadata": {
        "colab": {
          "base_uri": "https://localhost:8080/",
          "height": 498
        },
        "id": "8PkOVH23ciWK",
        "outputId": "83e90ff0-b2d3-4712-9f72-d4cda1525e9d"
      },
      "execution_count": null,
      "outputs": [
        {
          "output_type": "execute_result",
          "data": {
            "text/plain": [
              "Text(0.5, 1.0, 'Relationship Between Remote Work and Negative Consequences for Mental Health')"
            ]
          },
          "metadata": {},
          "execution_count": 56
        },
        {
          "output_type": "display_data",
          "data": {
            "text/plain": [
              "<Figure size 640x480 with 1 Axes>"
            ],
            "image/png": "[encoded data removed]"
          },
          "metadata": {}
        }
      ]
    },
    {
      "cell_type": "code",
      "source": [
        "sns.countplot(x = 'Gender', data = df)\n",
        "plt.title('Gender Distribution')"
      ],
      "metadata": {
        "colab": {
          "base_uri": "https://localhost:8080/",
          "height": 490
        },
        "id": "kgEZuzTY1yxI",
        "outputId": "7f2942cf-74af-49e1-cf20-20b773cc9b19"
      },
      "execution_count": null,
      "outputs": [
        {
          "output_type": "execute_result",
          "data": {
            "text/plain": [
              "Text(0.5, 1.0, 'Gender Distribution')"
            ]
          },
          "metadata": {},
          "execution_count": 94
        },
        {
          "output_type": "display_data",
          "data": {
            "text/plain": [
              "<Figure size 640x480 with 1 Axes>"
            ],
            "image/png": "[encoded data removed]"
          },
          "metadata": {}
        }
      ]
    },
    {
      "cell_type": "code",
      "source": [
        "sns.countplot(x = 'family_history', data = df)\n",
        "plt.title('Family History')"
      ],
      "metadata": {
        "colab": {
          "base_uri": "https://localhost:8080/",
          "height": 490
        },
        "id": "RKEcO4uZ30ix",
        "outputId": "d5515d3e-79a7-43b8-c155-149eff38a6d6"
      },
      "execution_count": null,
      "outputs": [
        {
          "output_type": "execute_result",
          "data": {
            "text/plain": [
              "Text(0.5, 1.0, 'Family History')"
            ]
          },
          "metadata": {},
          "execution_count": 95
        },
        {
          "output_type": "display_data",
          "data": {
            "text/plain": [
              "<Figure size 640x480 with 1 Axes>"
            ],
            "image/png": "[encoded data removed]"
          },
          "metadata": {}
        }
      ]
    },
    {
      "cell_type": "code",
      "source": [
        "import seaborn as sns\n",
        "import matplotlib.pyplot as plt\n",
        "\n",
        "# Set the font size for the graph\n",
        "sns.set(font_scale=0.7)\n",
        "\n",
        "bar_color = 'steelblue'\n",
        "\n",
        "# Create the countplot\n",
        "ax = sns.countplot(x='Age', data=df, color = bar_color)\n",
        "\n",
        "# Set the title for the graph\n",
        "plt.title('Age Distribution')\n",
        "\n",
        "# Rotate x-axis labels if needed\n",
        "plt.xticks(rotation=90)\n",
        "\n",
        "# Display the plot\n",
        "plt.show()\n"
      ],
      "metadata": {
        "colab": {
          "base_uri": "https://localhost:8080/",
          "height": 470
        },
        "id": "Z4zv6qKkJgB-",
        "outputId": "551007dd-157f-4f6f-b803-0e05df7801e7"
      },
      "execution_count": null,
      "outputs": [
        {
          "output_type": "display_data",
          "data": {
            "text/plain": [
              "<Figure size 640x480 with 1 Axes>"
            ],
            "image/png": "[encoded data removed]"
          },
          "metadata": {}
        }
      ]
    },
    {
      "cell_type": "code",
      "source": [
        "sns.countplot(x = 'family_history', data = df)"
      ],
      "metadata": {
        "colab": {
          "base_uri": "https://localhost:8080/",
          "height": 468
        },
        "id": "z5DlOgoA4Q8u",
        "outputId": "0c4f952a-3f0d-4fdd-b7ab-880c8ea4643c"
      },
      "execution_count": null,
      "outputs": [
        {
          "output_type": "execute_result",
          "data": {
            "text/plain": [
              "<Axes: xlabel='family_history', ylabel='count'>"
            ]
          },
          "metadata": {},
          "execution_count": 59
        },
        {
          "output_type": "display_data",
          "data": {
            "text/plain": [
              "<Figure size 640x480 with 1 Axes>"
            ],
            "image/png": "[encoded data removed]"
          },
          "metadata": {}
        }
      ]
    },
    {
      "cell_type": "code",
      "source": [
        "sns.countplot(x = 'mental_vs_physical', data = df)"
      ],
      "metadata": {
        "colab": {
          "base_uri": "https://localhost:8080/",
          "height": 468
        },
        "id": "Vp-YIcrE5TiX",
        "outputId": "b877e149-c411-453e-b9f9-1a45e6d0b743"
      },
      "execution_count": null,
      "outputs": [
        {
          "output_type": "execute_result",
          "data": {
            "text/plain": [
              "<Axes: xlabel='mental_vs_physical', ylabel='count'>"
            ]
          },
          "metadata": {},
          "execution_count": 60
        },
        {
          "output_type": "display_data",
          "data": {
            "text/plain": [
              "<Figure size 640x480 with 1 Axes>"
            ],
            "image/png": "[encoded data removed]"
          },
          "metadata": {}
        }
      ]
    },
    {
      "cell_type": "code",
      "source": [
        "sns.countplot(x = 'leave', data = df)"
      ],
      "metadata": {
        "colab": {
          "base_uri": "https://localhost:8080/",
          "height": 467
        },
        "id": "S3wBpyIZ6QWy",
        "outputId": "ab3b6ca1-4838-4aa5-d2e9-75a8b5e651be"
      },
      "execution_count": null,
      "outputs": [
        {
          "output_type": "execute_result",
          "data": {
            "text/plain": [
              "<Axes: xlabel='leave', ylabel='count'>"
            ]
          },
          "metadata": {},
          "execution_count": 61
        },
        {
          "output_type": "display_data",
          "data": {
            "text/plain": [
              "<Figure size 640x480 with 1 Axes>"
            ],
            "image/png": "[encoded data removed]"
          },
          "metadata": {}
        }
      ]
    },
    {
      "cell_type": "code",
      "source": [
        "sns.countplot(x = 'care_options', data = df)"
      ],
      "metadata": {
        "colab": {
          "base_uri": "https://localhost:8080/",
          "height": 468
        },
        "id": "Cq6FDUuo6U_8",
        "outputId": "f9610e70-3ee8-4a42-d9ea-6470eeafc0ad"
      },
      "execution_count": null,
      "outputs": [
        {
          "output_type": "execute_result",
          "data": {
            "text/plain": [
              "<Axes: xlabel='care_options', ylabel='count'>"
            ]
          },
          "metadata": {},
          "execution_count": 62
        },
        {
          "output_type": "display_data",
          "data": {
            "text/plain": [
              "<Figure size 640x480 with 1 Axes>"
            ],
            "image/png": "[encoded data removed]"
          },
          "metadata": {}
        }
      ]
    },
    {
      "cell_type": "code",
      "source": [
        "sns.countplot(x = 'wellness_program', data = df)"
      ],
      "metadata": {
        "colab": {
          "base_uri": "https://localhost:8080/",
          "height": 468
        },
        "id": "JnsZgssK6ZaM",
        "outputId": "029a1f1a-dca3-484c-a396-2447379df149"
      },
      "execution_count": null,
      "outputs": [
        {
          "output_type": "execute_result",
          "data": {
            "text/plain": [
              "<Axes: xlabel='wellness_program', ylabel='count'>"
            ]
          },
          "metadata": {},
          "execution_count": 63
        },
        {
          "output_type": "display_data",
          "data": {
            "text/plain": [
              "<Figure size 640x480 with 1 Axes>"
            ],
            "image/png": "[encoded data removed]"
          },
          "metadata": {}
        }
      ]
    },
    {
      "cell_type": "code",
      "source": [
        "sns.countplot(x = 'obs_consequence', data = df)"
      ],
      "metadata": {
        "colab": {
          "base_uri": "https://localhost:8080/",
          "height": 468
        },
        "id": "N1F-MSNT6esf",
        "outputId": "40a23e44-43c9-4f71-977f-edfdc8c876db"
      },
      "execution_count": null,
      "outputs": [
        {
          "output_type": "execute_result",
          "data": {
            "text/plain": [
              "<Axes: xlabel='obs_consequence', ylabel='count'>"
            ]
          },
          "metadata": {},
          "execution_count": 64
        },
        {
          "output_type": "display_data",
          "data": {
            "text/plain": [
              "<Figure size 640x480 with 1 Axes>"
            ],
            "image/png": "[encoded data removed]"
          },
          "metadata": {}
        }
      ]
    },
    {
      "cell_type": "code",
      "source": [
        "sns.countplot(x = 'mental_health_consequence', data = df)"
      ],
      "metadata": {
        "colab": {
          "base_uri": "https://localhost:8080/",
          "height": 468
        },
        "id": "4FTwbrpD6mJD",
        "outputId": "dc293f4b-8ac5-43ff-8d7b-428463edb897"
      },
      "execution_count": null,
      "outputs": [
        {
          "output_type": "execute_result",
          "data": {
            "text/plain": [
              "<Axes: xlabel='mental_health_consequence', ylabel='count'>"
            ]
          },
          "metadata": {},
          "execution_count": 65
        },
        {
          "output_type": "display_data",
          "data": {
            "text/plain": [
              "<Figure size 640x480 with 1 Axes>"
            ],
            "image/png": "[encoded data removed]"
          },
          "metadata": {}
        }
      ]
    },
    {
      "cell_type": "code",
      "source": [
        "sns.countplot(x = 'phys_health_consequence', data = df)"
      ],
      "metadata": {
        "colab": {
          "base_uri": "https://localhost:8080/",
          "height": 468
        },
        "id": "djVxoqnJ6u0C",
        "outputId": "4e81b708-c3e2-4e97-c83e-1e657885f77f"
      },
      "execution_count": null,
      "outputs": [
        {
          "output_type": "execute_result",
          "data": {
            "text/plain": [
              "<Axes: xlabel='phys_health_consequence', ylabel='count'>"
            ]
          },
          "metadata": {},
          "execution_count": 66
        },
        {
          "output_type": "display_data",
          "data": {
            "text/plain": [
              "<Figure size 640x480 with 1 Axes>"
            ],
            "image/png": "[encoded data removed]"
          },
          "metadata": {}
        }
      ]
    },
    {
      "cell_type": "code",
      "source": [
        "sns.countplot(x = 'no_employees', data = df)"
      ],
      "metadata": {
        "colab": {
          "base_uri": "https://localhost:8080/",
          "height": 468
        },
        "id": "_sr_Mdd0636y",
        "outputId": "2a18f760-1e9f-4ed0-85f6-8a5d29f5c373"
      },
      "execution_count": null,
      "outputs": [
        {
          "output_type": "execute_result",
          "data": {
            "text/plain": [
              "<Axes: xlabel='no_employees', ylabel='count'>"
            ]
          },
          "metadata": {},
          "execution_count": 67
        },
        {
          "output_type": "display_data",
          "data": {
            "text/plain": [
              "<Figure size 640x480 with 1 Axes>"
            ],
            "image/png": "[encoded data removed]"
          },
          "metadata": {}
        }
      ]
    },
    {
      "cell_type": "code",
      "source": [
        "sns.countplot(data = df, x = \"care_options\", hue = \"benefits\")\n",
        "#Those who know the options for mental health benefits know that their employer provides mental health benefits"
      ],
      "metadata": {
        "colab": {
          "base_uri": "https://localhost:8080/",
          "height": 468
        },
        "id": "fynzChMW9ke4",
        "outputId": "086fb13f-5c8c-480b-9b95-a82c5c1ad73f"
      },
      "execution_count": null,
      "outputs": [
        {
          "output_type": "execute_result",
          "data": {
            "text/plain": [
              "<Axes: xlabel='care_options', ylabel='count'>"
            ]
          },
          "metadata": {},
          "execution_count": 68
        },
        {
          "output_type": "display_data",
          "data": {
            "text/plain": [
              "<Figure size 640x480 with 1 Axes>"
            ],
            "image/png": "[encoded data removed]"
          },
          "metadata": {}
        }
      ]
    },
    {
      "cell_type": "code",
      "source": [
        "import seaborn as sns\n",
        "import matplotlib.pyplot as plt\n",
        "\n",
        "# Define the desired order of the categories\n",
        "category_order = [\"Yes\", \"No\", \"Maybe\"]\n",
        "\n",
        "# Create the countplot with the specified order\n",
        "sns.countplot(data=df, x=\"mental_health_consequence\", order=category_order)\n",
        "\n",
        "# Set the y-axis limit\n",
        "plt.ylim(0, 600)\n",
        "\n",
        "# Add x-axis label\n",
        "plt.xlabel(\"Employee Response\")\n",
        "\n",
        "# Set the title\n",
        "plt.title('Do you think that discussing a mental health issue with your employer would have negative consequences?')\n",
        "\n",
        "# Display the plot\n",
        "plt.show()\n"
      ],
      "metadata": {
        "colab": {
          "base_uri": "https://localhost:8080/",
          "height": 466
        },
        "id": "f9Zwy4MHRjSv",
        "outputId": "a95f0b7e-56a3-47b8-a71b-fa028f85da65"
      },
      "execution_count": null,
      "outputs": [
        {
          "output_type": "display_data",
          "data": {
            "text/plain": [
              "<Figure size 640x480 with 1 Axes>"
            ],
            "image/png": "[encoded data removed]"
          },
          "metadata": {}
        }
      ]
    },
    {
      "cell_type": "code",
      "source": [
        "import seaborn as sns\n",
        "import matplotlib.pyplot as plt\n",
        "\n",
        "# Define the desired order of the categories\n",
        "category_order = [\"Yes\", \"No\", \"Maybe\"]\n",
        "\n",
        "# Create the countplot with the specified order\n",
        "sns.countplot(data=df, x=\"phys_health_consequence\", order=category_order)\n",
        "\n",
        "# Add x-axis label\n",
        "plt.xlabel(\"Employee Response\")\n",
        "\n",
        "# Set the title\n",
        "plt.title('Do you think that discussing a physical health issue with your employer would have negative consequences?')\n",
        "\n",
        "# Display the plot\n",
        "plt.show()\n",
        "\n"
      ],
      "metadata": {
        "colab": {
          "base_uri": "https://localhost:8080/",
          "height": 466
        },
        "id": "_CtrJdXuRpNX",
        "outputId": "6135b962-9f06-423e-db22-46e377f2634e"
      },
      "execution_count": null,
      "outputs": [
        {
          "output_type": "display_data",
          "data": {
            "text/plain": [
              "<Figure size 640x480 with 1 Axes>"
            ],
            "image/png": "[encoded data removed]"
          },
          "metadata": {}
        }
      ]
    },
    {
      "cell_type": "code",
      "source": [
        "sns.countplot(data = df, x = \"mental_vs_physical\")"
      ],
      "metadata": {
        "colab": {
          "base_uri": "https://localhost:8080/",
          "height": 466
        },
        "id": "bSYfskeRRu0v",
        "outputId": "8e232bf3-d532-4051-bbf2-7bcd3773ab3f"
      },
      "execution_count": null,
      "outputs": [
        {
          "output_type": "execute_result",
          "data": {
            "text/plain": [
              "<Axes: xlabel='mental_vs_physical', ylabel='count'>"
            ]
          },
          "metadata": {},
          "execution_count": 103
        },
        {
          "output_type": "display_data",
          "data": {
            "text/plain": [
              "<Figure size 640x480 with 1 Axes>"
            ],
            "image/png": "[encoded data removed]"
          },
          "metadata": {}
        }
      ]
    },
    {
      "cell_type": "code",
      "source": [
        "sns.countplot(data = df, x = \"care_options\", hue = \"leave\")\n",
        "#The more people knew about their mental health resources, the easier they thought it was to take medical leave for a medical condition \n",
        "#However, many of them still didn't know how easy it would be to leave for mental health"
      ],
      "metadata": {
        "colab": {
          "base_uri": "https://localhost:8080/",
          "height": 468
        },
        "id": "0B25Wr6y_NCz",
        "outputId": "2b1cc3a1-92e8-4727-f34d-6d6c524cd5e7"
      },
      "execution_count": null,
      "outputs": [
        {
          "output_type": "execute_result",
          "data": {
            "text/plain": [
              "<Axes: xlabel='care_options', ylabel='count'>"
            ]
          },
          "metadata": {},
          "execution_count": 69
        },
        {
          "output_type": "display_data",
          "data": {
            "text/plain": [
              "<Figure size 640x480 with 1 Axes>"
            ],
            "image/png": "[encoded data removed]"
          },
          "metadata": {}
        }
      ]
    },
    {
      "cell_type": "code",
      "source": [
        "sns.countplot(data = df, x = \"benefits\", hue = \"obs_consequence\")\n",
        "#More mental health benefits show less observed negative consequences for those with mental health issues "
      ],
      "metadata": {
        "colab": {
          "base_uri": "https://localhost:8080/",
          "height": 467
        },
        "id": "1bnaQZ9X_lfI",
        "outputId": "b7bfb221-5c66-46c5-829f-1758a172f99e"
      },
      "execution_count": null,
      "outputs": [
        {
          "output_type": "execute_result",
          "data": {
            "text/plain": [
              "<Axes: xlabel='benefits', ylabel='count'>"
            ]
          },
          "metadata": {},
          "execution_count": 70
        },
        {
          "output_type": "display_data",
          "data": {
            "text/plain": [
              "<Figure size 640x480 with 1 Axes>"
            ],
            "image/png": "[encoded data removed]"
          },
          "metadata": {}
        }
      ]
    },
    {
      "cell_type": "code",
      "source": [
        "desired_order = [\"1-5\", \"6-25\", \"26-100\", \"100-500\", \"500-1000\", \"More than 1000\"]\n",
        "sns.countplot(data = df, x = \"no_employees\", hue = \"seek_help\", order=desired_order)\n",
        "plt.xlabel(\"Company Size\")\n",
        "plt.ylabel(\"# of Employee Responses\")\n",
        "plt.title(\"Mental Health Resources Provided vs. Company Size\")\n",
        "plt.xticks(fontsize=8) \n",
        "plt.legend(title=\"MH Resources?\")\n",
        "#Seems like with the biggest companies, they are more aware of the healthcare benefits available to them "
      ],
      "metadata": {
        "colab": {
          "base_uri": "https://localhost:8080/",
          "height": 486
        },
        "id": "pJQLsxwc_3h0",
        "outputId": "b2bd4df6-33a3-423f-ba6d-4202edfaf01a"
      },
      "execution_count": null,
      "outputs": [
        {
          "output_type": "execute_result",
          "data": {
            "text/plain": [
              "<matplotlib.legend.Legend at 0x7f1b03475c30>"
            ]
          },
          "metadata": {},
          "execution_count": 71
        },
        {
          "output_type": "display_data",
          "data": {
            "text/plain": [
              "<Figure size 640x480 with 1 Axes>"
            ],
            "image/png": "[encoded data removed]"
          },
          "metadata": {}
        }
      ]
    },
    {
      "cell_type": "code",
      "source": [
        "import seaborn as sns\n",
        "import matplotlib.pyplot as plt\n",
        "\n",
        "desired_order = [\"1-5\", \"6-25\", \"26-100\", \"100-500\", \"500-1000\", \"More than 1000\"]\n",
        "desired_order2 = [\"Yes\", \"Don't know\", \"No\"]\n",
        "\n",
        "sns.countplot(data=df, x=\"no_employees\", hue=\"seek_help\", order=desired_order, hue_order=desired_order2)\n",
        "plt.xlabel(\"Company Size\")\n",
        "plt.ylabel(\"# of Employee Responses\")\n",
        "plt.title(\"Mental Health Resources Provided vs. Company Size\")\n",
        "plt.xticks(fontsize=8)\n",
        "\n",
        "plt.legend(title=\"MH Resources?\")\n",
        "\n",
        "plt.show()\n",
        "\n"
      ],
      "metadata": {
        "colab": {
          "base_uri": "https://localhost:8080/",
          "height": 468
        },
        "id": "ulKHnDdfv0J1",
        "outputId": "f7e3b136-4deb-4c27-f857-b227032fde37"
      },
      "execution_count": null,
      "outputs": [
        {
          "output_type": "display_data",
          "data": {
            "text/plain": [
              "<Figure size 640x480 with 1 Axes>"
            ],
            "image/png": "[encoded data removed]"
          },
          "metadata": {}
        }
      ]
    },
    {
      "cell_type": "code",
      "source": [
        "sns.countplot(data = df, x = \"remote_work\", hue = \"care_options\")\n",
        "plt.xlabel(\"Mostly Remote?\")\n",
        "plt.ylabel(\"# of Employee Responses\")\n",
        "plt.title(\"Awareness of Mental Health Options vs. Remote/In-Person Work\")\n",
        "plt.legend(title= \"Aware of MH Options?\")"
      ],
      "metadata": {
        "colab": {
          "base_uri": "https://localhost:8080/",
          "height": 490
        },
        "id": "7GiYvPMcfrV0",
        "outputId": "f89e99b6-a609-4b48-8d3d-9592c9900ce5"
      },
      "execution_count": null,
      "outputs": [
        {
          "output_type": "execute_result",
          "data": {
            "text/plain": [
              "<matplotlib.legend.Legend at 0x7f1b03477790>"
            ]
          },
          "metadata": {},
          "execution_count": 73
        },
        {
          "output_type": "display_data",
          "data": {
            "text/plain": [
              "<Figure size 640x480 with 1 Axes>"
            ],
            "image/png": "[encoded data removed]"
          },
          "metadata": {}
        }
      ]
    },
    {
      "cell_type": "code",
      "source": [
        "df.to_csv(r'C:\\Users\\rileywilson\\Downloads\\survey_edited.csv')\n",
        "print(df)"
      ],
      "metadata": {
        "colab": {
          "base_uri": "https://localhost:8080/"
        },
        "id": "I1pF3fSJnI-F",
        "outputId": "422269cc-580a-4dcd-9962-7924b189e604"
      },
      "execution_count": null,
      "outputs": [
        {
          "output_type": "stream",
          "name": "stdout",
          "text": [
            "      Age  Gender family_history treatment work_interfere    no_employees  \\\n",
            "20     29    Male            Yes       Yes      Sometimes         100-500   \n",
            "22     46    Male             No       Yes          Often          26-100   \n",
            "24     33    Male            Yes       Yes         Rarely          26-100   \n",
            "26     33    Male             No        No       Not sure             1-5   \n",
            "27     35  Female            Yes       Yes         Rarely            6-25   \n",
            "...   ...     ...            ...       ...            ...             ...   \n",
            "1252   29    Male            Yes       Yes      Sometimes         100-500   \n",
            "1254   26    Male             No       Yes       Not sure          26-100   \n",
            "1255   32    Male            Yes       Yes          Often          26-100   \n",
            "1256   34    Male            Yes       Yes      Sometimes  More than 1000   \n",
            "1257   46  Female             No        No       Not sure         100-500   \n",
            "\n",
            "     remote_work tech_company    benefits care_options  ...   anonymity  \\\n",
            "20            No          Yes         Yes          Yes  ...          No   \n",
            "22           Yes          Yes         Yes          Yes  ...  Don't know   \n",
            "24            No          Yes         Yes     Not sure  ...         Yes   \n",
            "26            No          Yes  Don't know     Not sure  ...  Don't know   \n",
            "27           Yes          Yes         Yes          Yes  ...  Don't know   \n",
            "...          ...          ...         ...          ...  ...         ...   \n",
            "1252         Yes          Yes         Yes          Yes  ...         Yes   \n",
            "1254          No          Yes          No           No  ...  Don't know   \n",
            "1255         Yes          Yes         Yes          Yes  ...         Yes   \n",
            "1256          No          Yes         Yes          Yes  ...  Don't know   \n",
            "1257         Yes          Yes          No          Yes  ...  Don't know   \n",
            "\n",
            "                   leave mental_health_consequence phys_health_consequence  \\\n",
            "20    Somewhat difficult                     Maybe                      No   \n",
            "22            Don't know                     Maybe                      No   \n",
            "24            Don't know                        No                      No   \n",
            "26            Don't know                     Maybe                   Maybe   \n",
            "27            Don't know                        No                      No   \n",
            "...                  ...                       ...                     ...   \n",
            "1252          Don't know                       Yes                      No   \n",
            "1254       Somewhat easy                        No                      No   \n",
            "1255  Somewhat difficult                        No                      No   \n",
            "1256  Somewhat difficult                       Yes                     Yes   \n",
            "1257          Don't know                       Yes                      No   \n",
            "\n",
            "         coworkers    supervisor mental_health_interview  \\\n",
            "20    Some of them  Some of them                      No   \n",
            "22    Some of them           Yes                      No   \n",
            "24             Yes           Yes                      No   \n",
            "26    Some of them            No                      No   \n",
            "27             Yes           Yes                   Maybe   \n",
            "...            ...           ...                     ...   \n",
            "1252  Some of them            No                      No   \n",
            "1254  Some of them  Some of them                      No   \n",
            "1255  Some of them           Yes                      No   \n",
            "1256            No            No                      No   \n",
            "1257            No            No                      No   \n",
            "\n",
            "     phys_health_interview mental_vs_physical obs_consequence  \n",
            "20                      No                 No              No  \n",
            "22                   Maybe                 No              No  \n",
            "24                     Yes         Don't know              No  \n",
            "26                      No         Don't know              No  \n",
            "27                   Maybe                Yes              No  \n",
            "...                    ...                ...             ...  \n",
            "1252                 Maybe                 No              No  \n",
            "1254                    No         Don't know              No  \n",
            "1255                    No                Yes              No  \n",
            "1256                    No                 No              No  \n",
            "1257                    No                 No              No  \n",
            "\n",
            "[881 rows x 22 columns]\n"
          ]
        }
      ]
    },
    {
      "cell_type": "code",
      "source": [
        "df.to_csv('survey_edited.csv')"
      ],
      "metadata": {
        "id": "ReMt-HUwpshX"
      },
      "execution_count": null,
      "outputs": []
    },
    {
      "cell_type": "code",
      "source": [
        "desired_order = [\"1-5\", \"6-25\", \"26-100\", \"100-500\", \"500-1000\", \"More than 1000\"]\n",
        "sns.countplot(data = df, x = \"no_employees\", hue = \"seek_help\", order=desired_order)\n",
        "plt.xlabel(\"Company Size\")\n",
        "plt.ylabel(\"# of Employee Responses\")\n",
        "plt.title(\"Mental Health Resources vs. Company Size\")\n",
        "plt.xticks(fontsize=8) \n",
        "plt.legend(title=\"Provide Resources?\")\n",
        "\n",
        "# Create the new legend with the rearranged handles and labels\n",
        "plt.legend(handles, labels, title=\"Provide Resources?\")\n",
        "\n"
      ],
      "metadata": {
        "colab": {
          "base_uri": "https://localhost:8080/",
          "height": 675
        },
        "id": "VdxHt5A3kL52",
        "outputId": "8fb10376-a09b-44cf-bd9b-533ecb8f823f"
      },
      "execution_count": null,
      "outputs": [
        {
          "output_type": "error",
          "ename": "NameError",
          "evalue": "ignored",
          "traceback": [
            "\u001b[0;31m---------------------------------------------------------------------------\u001b[0m",
            "\u001b[0;31mNameError\u001b[0m                                 Traceback (most recent call last)",
            "\u001b[0;32m<ipython-input-76-14797ea622d9>\u001b[0m in \u001b[0;36m<cell line: 10>\u001b[0;34m()\u001b[0m\n\u001b[1;32m      8\u001b[0m \u001b[0;34m\u001b[0m\u001b[0m\n\u001b[1;32m      9\u001b[0m \u001b[0;31m# Create the new legend with the rearranged handles and labels\u001b[0m\u001b[0;34m\u001b[0m\u001b[0;34m\u001b[0m\u001b[0m\n\u001b[0;32m---> 10\u001b[0;31m \u001b[0mplt\u001b[0m\u001b[0;34m.\u001b[0m\u001b[0mlegend\u001b[0m\u001b[0;34m(\u001b[0m\u001b[0mhandles\u001b[0m\u001b[0;34m,\u001b[0m \u001b[0mlabels\u001b[0m\u001b[0;34m,\u001b[0m \u001b[0mtitle\u001b[0m\u001b[0;34m=\u001b[0m\u001b[0;34m\"Provide Resources?\"\u001b[0m\u001b[0;34m)\u001b[0m\u001b[0;34m\u001b[0m\u001b[0;34m\u001b[0m\u001b[0m\n\u001b[0m\u001b[1;32m     11\u001b[0m \u001b[0;34m\u001b[0m\u001b[0m\n",
            "\u001b[0;31mNameError\u001b[0m: name 'handles' is not defined"
          ]
        },
        {
          "output_type": "display_data",
          "data": {
            "text/plain": [
              "<Figure size 640x480 with 1 Axes>"
            ],
            "image/png": "[encoded data removed]"
          },
          "metadata": {}
        }
      ]
    },
    {
      "cell_type": "code",
      "source": [
        "color7 = ['#0077BB', '#009988']\n",
        "\n",
        "consequence_cat = list(df.obs_consequence.value_counts().index)\n",
        "color_cat = {}\n",
        "for i in range(len(consequence_cat)):\n",
        "    color_cat[consequence_cat[i]] = color7[i]\n",
        "df['color'] = df['obs_consequence'].map(color_cat)\n",
        "\n",
        "ax = sns.histplot(binwidth=0.5, x=\"mental_vs_physical\", hue=\"obs_consequence\", data=df, stat=\"count\", multiple=\"stack\", palette=color_cat.values())\n",
        "\n",
        "# Set the x-label\n",
        "plt.xlabel(\"Does your employer take mental health as seriously as physical health?\")\n",
        "plt.title(\"Employer's View on Mental Health vs Negative Consequences for Employees with Mental Health Conditions\")\n",
        "plt.gca().get_legend().set_title(\"Observed Negative Consequences for Mental Health Conditions?\")\n"
      ],
      "metadata": {
        "colab": {
          "base_uri": "https://localhost:8080/",
          "height": 472
        },
        "id": "xMIKJATiavjf",
        "outputId": "69ff0167-dd75-487c-d202-963966b28cf6"
      },
      "execution_count": null,
      "outputs": [
        {
          "output_type": "display_data",
          "data": {
            "text/plain": [
              "<Figure size 640x480 with 1 Axes>"
            ],
            "image/png": "[encoded data removed]"
          },
          "metadata": {}
        }
      ]
    },
    {
      "cell_type": "code",
      "source": [
        "sns.countplot(x = 'work_interfere', data = df)"
      ],
      "metadata": {
        "id": "3E_iMsbSlRcW"
      },
      "execution_count": null,
      "outputs": []
    },
    {
      "cell_type": "code",
      "source": [
        "sns.countplot(x = 'treatment', data = df)"
      ],
      "metadata": {
        "id": "gAiUyr3smMJ4"
      },
      "execution_count": null,
      "outputs": []
    },
    {
      "cell_type": "code",
      "source": [
        "ax = sns.histplot(binwidth=0.5, x=\"work_interfere\", hue=\"treatment\", data=df, stat=\"count\", multiple=\"stack\", palette=color_cat.values())\n",
        "#This indicates that a lot of people who have mental health issues that affect them get mental health treatment \n",
        "\n",
        "# Set the x-label\n",
        "#plt.xlabel(\"Does your employer take mental health as seriously as physical health?\")\n",
        "#plt.title(\"Employer's View on Mental Health vs Negative Consequences for Employees with Mental Health Conditions\")\n",
        "#plt.gca().get_legend().set_title(\"Observed Negative Consequences for Mental Health Conditions?\")"
      ],
      "metadata": {
        "id": "yEaS7DajmrsG"
      },
      "execution_count": null,
      "outputs": []
    },
    {
      "cell_type": "code",
      "source": [
        "#New variable for those who experience mental health that interferes with their work but haven't gotten treatment \n",
        "\n",
        "df['interfere_and_no_treatment'] = (df['work_interfere'].isin(['Sometimes', 'Often'])) & (df['treatment'] == 'No')\n",
        "df['interfere_and_no_treatment'].value_counts()\n"
      ],
      "metadata": {
        "colab": {
          "base_uri": "https://localhost:8080/"
        },
        "id": "-BlexfxDouvU",
        "outputId": "8ad23a3d-be42-4a90-85fd-d7389c26693a"
      },
      "execution_count": null,
      "outputs": [
        {
          "output_type": "execute_result",
          "data": {
            "text/plain": [
              "False    790\n",
              "True      91\n",
              "Name: interfere_and_no_treatment, dtype: int64"
            ]
          },
          "metadata": {},
          "execution_count": 81
        }
      ]
    },
    {
      "cell_type": "code",
      "source": [
        "#For those who don't get treatment but need it, why is that? \n",
        "#Not because they aren't aware of the options for mental health issues their employer provides \n",
        "ax = sns.histplot(binwidth=0.5, x= \"interfere_and_no_treatment\", hue='care_options', data=df, stat=\"count\", multiple=\"stack\", palette=color_cat.values())"
      ],
      "metadata": {
        "id": "9IBxCR8YnGiG",
        "colab": {
          "base_uri": "https://localhost:8080/",
          "height": 666
        },
        "outputId": "5be65f34-4195-4766-f50f-c73bd6692a27"
      },
      "execution_count": null,
      "outputs": [
        {
          "output_type": "stream",
          "name": "stderr",
          "text": [
            "<__array_function__ internals>:180: RuntimeWarning:\n",
            "\n",
            "Converting input from bool to <class 'numpy.uint8'> for compatibility.\n",
            "\n",
            "<__array_function__ internals>:180: RuntimeWarning:\n",
            "\n",
            "Converting input from bool to <class 'numpy.uint8'> for compatibility.\n",
            "\n",
            "<__array_function__ internals>:180: RuntimeWarning:\n",
            "\n",
            "Converting input from bool to <class 'numpy.uint8'> for compatibility.\n",
            "\n"
          ]
        },
        {
          "output_type": "display_data",
          "data": {
            "text/plain": [
              "<Figure size 640x480 with 1 Axes>"
            ],
            "image/png": "[encoded data removed]"
          },
          "metadata": {}
        }
      ]
    },
    {
      "cell_type": "code",
      "source": [
        "#Percentage of people with mental health issues who receive no treatment that don't know or are not sure about the options for mental health the company provides\n",
        "total_counts = (df['interfere_and_no_treatment'] == True).sum()\n",
        "numerator = ((df['interfere_and_no_treatment'] == True) & (df['care_options'].isin(['No', 'Not sure']))).sum()\n",
        "quotient = numerator/total_counts\n",
        "quotient"
      ],
      "metadata": {
        "id": "Mxu6HKWqZsWd"
      },
      "execution_count": null,
      "outputs": []
    },
    {
      "cell_type": "code",
      "source": [
        "#Does the size of the company affect how many people are aware of the resources available?"
      ],
      "metadata": {
        "id": "vLuEGilAcs0g"
      },
      "execution_count": null,
      "outputs": []
    },
    {
      "cell_type": "code",
      "source": [
        "#New variable for people with mental health issues who receive no treatment and are aware of their options for mental health\n",
        "df['no_treatment_know_benefits'] = (df['work_interfere'].isin(['Sometimes', 'Often'])) & (df['treatment'] == 'No') & (df['care_options'] == \"Yes\")\n",
        "df['no_treatment_know_benefits'].value_counts()"
      ],
      "metadata": {
        "id": "xzDRmt6GecsQ"
      },
      "execution_count": null,
      "outputs": []
    },
    {
      "cell_type": "code",
      "source": [
        "total_counts = (df['no_treatment_know_benefits'] == True).sum()\n",
        "numerator = ((df['no_treatment_know_benefits'] == True) & ((df['seek_help'].isin([\"Yes\"]) | df['benefits'].isin([\"Yes\"])))).sum()\n",
        "quotient = numerator/total_counts\n",
        "quotient"
      ],
      "metadata": {
        "id": "4nKGRerzlH8V"
      },
      "execution_count": null,
      "outputs": []
    },
    {
      "cell_type": "code",
      "source": [
        "#Percentage of people with mental health issues who receive no treatment and are aware of their options for mental health who don't have benefits/wellness programs/resources to seek help\n",
        "total_counts = (df['no_treatment_know_benefits'] == True).sum()\n",
        "numerator = ((df['no_treatment_know_benefits'] == True) & (df['seek_help'].isin([\"No\"]))).sum()\n",
        "numerator2 = ((df['no_treatment_know_benefits'] == True) & (df['benefits'].isin([\"No\"]))).sum()\n",
        "numerator3 = ((df['no_treatment_know_benefits'] == True) & (df['wellness_program'].isin([\"No\"]))).sum()\n",
        "quotient = numerator3/total_counts \n",
        "quotient"
      ],
      "metadata": {
        "id": "tR867bRMfDEj",
        "colab": {
          "base_uri": "https://localhost:8080/",
          "height": 518
        },
        "outputId": "553646fe-a222-4c3c-ee7c-2e01c5dfc459"
      },
      "execution_count": null,
      "outputs": [
        {
          "output_type": "error",
          "ename": "KeyError",
          "evalue": "ignored",
          "traceback": [
            "\u001b[0;31m---------------------------------------------------------------------------\u001b[0m",
            "\u001b[0;31mKeyError\u001b[0m                                  Traceback (most recent call last)",
            "\u001b[0;32m/usr/local/lib/python3.10/dist-packages/pandas/core/indexes/base.py\u001b[0m in \u001b[0;36mget_loc\u001b[0;34m(self, key, method, tolerance)\u001b[0m\n\u001b[1;32m   3801\u001b[0m             \u001b[0;32mtry\u001b[0m\u001b[0;34m:\u001b[0m\u001b[0;34m\u001b[0m\u001b[0;34m\u001b[0m\u001b[0m\n\u001b[0;32m-> 3802\u001b[0;31m                 \u001b[0;32mreturn\u001b[0m \u001b[0mself\u001b[0m\u001b[0;34m.\u001b[0m\u001b[0m_engine\u001b[0m\u001b[0;34m.\u001b[0m\u001b[0mget_loc\u001b[0m\u001b[0;34m(\u001b[0m\u001b[0mcasted_key\u001b[0m\u001b[0;34m)\u001b[0m\u001b[0;34m\u001b[0m\u001b[0;34m\u001b[0m\u001b[0m\n\u001b[0m\u001b[1;32m   3803\u001b[0m             \u001b[0;32mexcept\u001b[0m \u001b[0mKeyError\u001b[0m \u001b[0;32mas\u001b[0m \u001b[0merr\u001b[0m\u001b[0;34m:\u001b[0m\u001b[0;34m\u001b[0m\u001b[0;34m\u001b[0m\u001b[0m\n",
            "\u001b[0;32m/usr/local/lib/python3.10/dist-packages/pandas/_libs/index.pyx\u001b[0m in \u001b[0;36mpandas._libs.index.IndexEngine.get_loc\u001b[0;34m()\u001b[0m\n",
            "\u001b[0;32m/usr/local/lib/python3.10/dist-packages/pandas/_libs/index.pyx\u001b[0m in \u001b[0;36mpandas._libs.index.IndexEngine.get_loc\u001b[0;34m()\u001b[0m\n",
            "\u001b[0;32mpandas/_libs/hashtable_class_helper.pxi\u001b[0m in \u001b[0;36mpandas._libs.hashtable.PyObjectHashTable.get_item\u001b[0;34m()\u001b[0m\n",
            "\u001b[0;32mpandas/_libs/hashtable_class_helper.pxi\u001b[0m in \u001b[0;36mpandas._libs.hashtable.PyObjectHashTable.get_item\u001b[0;34m()\u001b[0m\n",
            "\u001b[0;31mKeyError\u001b[0m: 'no_treatment_know_benefits'",
            "\nThe above exception was the direct cause of the following exception:\n",
            "\u001b[0;31mKeyError\u001b[0m                                  Traceback (most recent call last)",
            "\u001b[0;32m<ipython-input-89-787d09416646>\u001b[0m in \u001b[0;36m<cell line: 2>\u001b[0;34m()\u001b[0m\n\u001b[1;32m      1\u001b[0m \u001b[0;31m#Percentage of people with mental health issues who receive no treatment and are aware of their options for mental health who don't have benefits/wellness programs/resources to seek help\u001b[0m\u001b[0;34m\u001b[0m\u001b[0;34m\u001b[0m\u001b[0m\n\u001b[0;32m----> 2\u001b[0;31m \u001b[0mtotal_counts\u001b[0m \u001b[0;34m=\u001b[0m \u001b[0;34m(\u001b[0m\u001b[0mdf\u001b[0m\u001b[0;34m[\u001b[0m\u001b[0;34m'no_treatment_know_benefits'\u001b[0m\u001b[0;34m]\u001b[0m \u001b[0;34m==\u001b[0m \u001b[0;32mTrue\u001b[0m\u001b[0;34m)\u001b[0m\u001b[0;34m.\u001b[0m\u001b[0msum\u001b[0m\u001b[0;34m(\u001b[0m\u001b[0;34m)\u001b[0m\u001b[0;34m\u001b[0m\u001b[0;34m\u001b[0m\u001b[0m\n\u001b[0m\u001b[1;32m      3\u001b[0m \u001b[0mnumerator\u001b[0m \u001b[0;34m=\u001b[0m \u001b[0;34m(\u001b[0m\u001b[0;34m(\u001b[0m\u001b[0mdf\u001b[0m\u001b[0;34m[\u001b[0m\u001b[0;34m'no_treatment_know_benefits'\u001b[0m\u001b[0;34m]\u001b[0m \u001b[0;34m==\u001b[0m \u001b[0;32mTrue\u001b[0m\u001b[0;34m)\u001b[0m \u001b[0;34m&\u001b[0m \u001b[0;34m(\u001b[0m\u001b[0mdf\u001b[0m\u001b[0;34m[\u001b[0m\u001b[0;34m'seek_help'\u001b[0m\u001b[0;34m]\u001b[0m\u001b[0;34m.\u001b[0m\u001b[0misin\u001b[0m\u001b[0;34m(\u001b[0m\u001b[0;34m[\u001b[0m\u001b[0;34m\"No\"\u001b[0m\u001b[0;34m]\u001b[0m\u001b[0;34m)\u001b[0m\u001b[0;34m)\u001b[0m\u001b[0;34m)\u001b[0m\u001b[0;34m.\u001b[0m\u001b[0msum\u001b[0m\u001b[0;34m(\u001b[0m\u001b[0;34m)\u001b[0m\u001b[0;34m\u001b[0m\u001b[0;34m\u001b[0m\u001b[0m\n\u001b[1;32m      4\u001b[0m \u001b[0mnumerator2\u001b[0m \u001b[0;34m=\u001b[0m \u001b[0;34m(\u001b[0m\u001b[0;34m(\u001b[0m\u001b[0mdf\u001b[0m\u001b[0;34m[\u001b[0m\u001b[0;34m'no_treatment_know_benefits'\u001b[0m\u001b[0;34m]\u001b[0m \u001b[0;34m==\u001b[0m \u001b[0;32mTrue\u001b[0m\u001b[0;34m)\u001b[0m \u001b[0;34m&\u001b[0m \u001b[0;34m(\u001b[0m\u001b[0mdf\u001b[0m\u001b[0;34m[\u001b[0m\u001b[0;34m'benefits'\u001b[0m\u001b[0;34m]\u001b[0m\u001b[0;34m.\u001b[0m\u001b[0misin\u001b[0m\u001b[0;34m(\u001b[0m\u001b[0;34m[\u001b[0m\u001b[0;34m\"No\"\u001b[0m\u001b[0;34m]\u001b[0m\u001b[0;34m)\u001b[0m\u001b[0;34m)\u001b[0m\u001b[0;34m)\u001b[0m\u001b[0;34m.\u001b[0m\u001b[0msum\u001b[0m\u001b[0;34m(\u001b[0m\u001b[0;34m)\u001b[0m\u001b[0;34m\u001b[0m\u001b[0;34m\u001b[0m\u001b[0m\n\u001b[1;32m      5\u001b[0m \u001b[0mnumerator3\u001b[0m \u001b[0;34m=\u001b[0m \u001b[0;34m(\u001b[0m\u001b[0;34m(\u001b[0m\u001b[0mdf\u001b[0m\u001b[0;34m[\u001b[0m\u001b[0;34m'no_treatment_know_benefits'\u001b[0m\u001b[0;34m]\u001b[0m \u001b[0;34m==\u001b[0m \u001b[0;32mTrue\u001b[0m\u001b[0;34m)\u001b[0m \u001b[0;34m&\u001b[0m \u001b[0;34m(\u001b[0m\u001b[0mdf\u001b[0m\u001b[0;34m[\u001b[0m\u001b[0;34m'wellness_program'\u001b[0m\u001b[0;34m]\u001b[0m\u001b[0;34m.\u001b[0m\u001b[0misin\u001b[0m\u001b[0;34m(\u001b[0m\u001b[0;34m[\u001b[0m\u001b[0;34m\"No\"\u001b[0m\u001b[0;34m]\u001b[0m\u001b[0;34m)\u001b[0m\u001b[0;34m)\u001b[0m\u001b[0;34m)\u001b[0m\u001b[0;34m.\u001b[0m\u001b[0msum\u001b[0m\u001b[0;34m(\u001b[0m\u001b[0;34m)\u001b[0m\u001b[0;34m\u001b[0m\u001b[0;34m\u001b[0m\u001b[0m\n",
            "\u001b[0;32m/usr/local/lib/python3.10/dist-packages/pandas/core/frame.py\u001b[0m in \u001b[0;36m__getitem__\u001b[0;34m(self, key)\u001b[0m\n\u001b[1;32m   3805\u001b[0m             \u001b[0;32mif\u001b[0m \u001b[0mself\u001b[0m\u001b[0;34m.\u001b[0m\u001b[0mcolumns\u001b[0m\u001b[0;34m.\u001b[0m\u001b[0mnlevels\u001b[0m \u001b[0;34m>\u001b[0m \u001b[0;36m1\u001b[0m\u001b[0;34m:\u001b[0m\u001b[0;34m\u001b[0m\u001b[0;34m\u001b[0m\u001b[0m\n\u001b[1;32m   3806\u001b[0m                 \u001b[0;32mreturn\u001b[0m \u001b[0mself\u001b[0m\u001b[0;34m.\u001b[0m\u001b[0m_getitem_multilevel\u001b[0m\u001b[0;34m(\u001b[0m\u001b[0mkey\u001b[0m\u001b[0;34m)\u001b[0m\u001b[0;34m\u001b[0m\u001b[0;34m\u001b[0m\u001b[0m\n\u001b[0;32m-> 3807\u001b[0;31m             \u001b[0mindexer\u001b[0m \u001b[0;34m=\u001b[0m \u001b[0mself\u001b[0m\u001b[0;34m.\u001b[0m\u001b[0mcolumns\u001b[0m\u001b[0;34m.\u001b[0m\u001b[0mget_loc\u001b[0m\u001b[0;34m(\u001b[0m\u001b[0mkey\u001b[0m\u001b[0;34m)\u001b[0m\u001b[0;34m\u001b[0m\u001b[0;34m\u001b[0m\u001b[0m\n\u001b[0m\u001b[1;32m   3808\u001b[0m             \u001b[0;32mif\u001b[0m \u001b[0mis_integer\u001b[0m\u001b[0;34m(\u001b[0m\u001b[0mindexer\u001b[0m\u001b[0;34m)\u001b[0m\u001b[0;34m:\u001b[0m\u001b[0;34m\u001b[0m\u001b[0;34m\u001b[0m\u001b[0m\n\u001b[1;32m   3809\u001b[0m                 \u001b[0mindexer\u001b[0m \u001b[0;34m=\u001b[0m \u001b[0;34m[\u001b[0m\u001b[0mindexer\u001b[0m\u001b[0;34m]\u001b[0m\u001b[0;34m\u001b[0m\u001b[0;34m\u001b[0m\u001b[0m\n",
            "\u001b[0;32m/usr/local/lib/python3.10/dist-packages/pandas/core/indexes/base.py\u001b[0m in \u001b[0;36mget_loc\u001b[0;34m(self, key, method, tolerance)\u001b[0m\n\u001b[1;32m   3802\u001b[0m                 \u001b[0;32mreturn\u001b[0m \u001b[0mself\u001b[0m\u001b[0;34m.\u001b[0m\u001b[0m_engine\u001b[0m\u001b[0;34m.\u001b[0m\u001b[0mget_loc\u001b[0m\u001b[0;34m(\u001b[0m\u001b[0mcasted_key\u001b[0m\u001b[0;34m)\u001b[0m\u001b[0;34m\u001b[0m\u001b[0;34m\u001b[0m\u001b[0m\n\u001b[1;32m   3803\u001b[0m             \u001b[0;32mexcept\u001b[0m \u001b[0mKeyError\u001b[0m \u001b[0;32mas\u001b[0m \u001b[0merr\u001b[0m\u001b[0;34m:\u001b[0m\u001b[0;34m\u001b[0m\u001b[0;34m\u001b[0m\u001b[0m\n\u001b[0;32m-> 3804\u001b[0;31m                 \u001b[0;32mraise\u001b[0m \u001b[0mKeyError\u001b[0m\u001b[0;34m(\u001b[0m\u001b[0mkey\u001b[0m\u001b[0;34m)\u001b[0m \u001b[0;32mfrom\u001b[0m \u001b[0merr\u001b[0m\u001b[0;34m\u001b[0m\u001b[0;34m\u001b[0m\u001b[0m\n\u001b[0m\u001b[1;32m   3805\u001b[0m             \u001b[0;32mexcept\u001b[0m \u001b[0mTypeError\u001b[0m\u001b[0;34m:\u001b[0m\u001b[0;34m\u001b[0m\u001b[0;34m\u001b[0m\u001b[0m\n\u001b[1;32m   3806\u001b[0m                 \u001b[0;31m# If we have a listlike key, _check_indexing_error will raise\u001b[0m\u001b[0;34m\u001b[0m\u001b[0;34m\u001b[0m\u001b[0m\n",
            "\u001b[0;31mKeyError\u001b[0m: 'no_treatment_know_benefits'"
          ]
        }
      ]
    },
    {
      "cell_type": "code",
      "source": [
        "#New variable for people with mental health issues who receive no treatment and are aware of their options for mental health and their company has options to seek mental health help, benefits, or wellness program \n",
        "df['no_treatment_all_resources'] = (df['work_interfere'].isin(['Sometimes', 'Often'])) & (df['treatment'] == 'No') & (df['care_options'] == \"Yes\") & ((df['seek_help'] == \"Yes\") | (df['benefits'] == \"Yes\"))\n",
        "df['no_treatment_all_resources'].value_counts()"
      ],
      "metadata": {
        "id": "E4vNPimnh1JO"
      },
      "execution_count": null,
      "outputs": []
    },
    {
      "cell_type": "code",
      "source": [
        "df['no_treatment_all_resources_no_anonymity'] = (df['work_interfere'].isin(['Sometimes', 'Often'])) & (df['treatment'] == 'No') & (df['care_options'] == \"Yes\") & ((df['seek_help'] == \"Yes\") | (df['benefits'] == \"Yes\")) &    ((df['anonymity'] == \"No\") | (df['anonymity'] == \"Don't know\"))\n",
        "df['no_treatment_all_resources_no_anonymity'].value_counts()"
      ],
      "metadata": {
        "id": "l2eid9i0olJP"
      },
      "execution_count": null,
      "outputs": []
    },
    {
      "cell_type": "code",
      "source": [
        "total_counts = (df['no_treatment_all_resources_no_anonymity'] == True).sum()\n",
        "numerator = ((df['no_treatment_all_resources_no_anonymity'] == True) & (df['mental_health_consequence'].isin([\"Yes\", \"Maybe\"]))).sum()\n",
        "quotient = numerator/total_counts\n",
        "quotient"
      ],
      "metadata": {
        "id": "UBqytqJIpbZc"
      },
      "execution_count": null,
      "outputs": []
    },
    {
      "cell_type": "code",
      "source": [
        "#Percentage of people who don't seek help despite having resources whose companies don't have anonymity\n",
        "total_counts = (df['no_treatment_all_resources'] == True).sum()\n",
        "numerator = ((df['no_treatment_all_resources'] == True) & (df['anonymity'].isin([\"No\", \"Don't know\"]))).sum()\n",
        "numerator\n"
      ],
      "metadata": {
        "id": "QhNf_Re3jIG4"
      },
      "execution_count": null,
      "outputs": []
    },
    {
      "cell_type": "code",
      "source": [
        "#Percentage of people who don't seek help despite having resources whose companies have stigma to mental health \n",
        "#So small we're not going to look into it \n",
        "total_counts = (df['no_treatment_all_resources'] == True).sum()\n",
        "print(total_counts)\n",
        "numerator = ((df['no_treatment_all_resources'] == True) & (df['mental_health_consequence'].isin([\"Yes\", \"Maybe\"]))).sum()\n",
        "numerator2 = ((df['no_treatment_all_resources'] == True) & (df['obs_consequence'].isin([\"Yes\", \"Maybe\"]))).sum()\n",
        "numerator3 = ((df['no_treatment_all_resources'] == True) & (df['leave'].isin([\"Somewhat difficult\", \"Very difficult\"]))).sum()\n",
        "numerator4 = ((df['no_treatment_all_resources'] == True) & (df['supervisor'].isin([\"No\"]))).sum()\n",
        "numerator5 = ((df['no_treatment_all_resources'] == True) & (df['coworkers'].isin([\"No\"]))).sum()\n",
        "numerator6 = ((df['no_treatment_all_resources'] == True) & (df['mental_vs_physical'].isin([\"No\"]))).sum()\n",
        "print(numerator)\n",
        "print(numerator2)\n",
        "print(numerator3)\n",
        "print(numerator4)\n",
        "print(numerator5)\n",
        "print(numerator6)"
      ],
      "metadata": {
        "id": "3vOxSFv7kGqh"
      },
      "execution_count": null,
      "outputs": []
    },
    {
      "cell_type": "code",
      "source": [
        "ax = sns.histplot(binwidth=0.5, x= \"benefits\", hue='interfere_and_no_treatment', data=df, stat=\"count\", multiple=\"stack\", palette=color_cat.values())\n",
        "#not because their employer doesn't have benefits "
      ],
      "metadata": {
        "id": "ajhMWRudrGBy"
      },
      "execution_count": null,
      "outputs": []
    },
    {
      "cell_type": "code",
      "source": [
        "total_counts = df.groupby('benefits')['interfere_and_no_treatment'].count()\n",
        "percentages = df[df['interfere_and_no_treatment']].groupby('benefits')['interfere_and_no_treatment'].count() / total_counts * 100\n",
        "percentages\n",
        "#Greater percentage of people who don't have/aren't aware of mental health resources are the ones who need mental health help but aren't seeking it "
      ],
      "metadata": {
        "id": "q_ZG_JFTuwbr"
      },
      "execution_count": null,
      "outputs": []
    },
    {
      "cell_type": "code",
      "source": [
        "total_counts = df.groupby('wellness_program')['interfere_and_no_treatment'].count()\n",
        "percentages = df[df['interfere_and_no_treatment']].groupby('wellness_program')['interfere_and_no_treatment'].count() / total_counts * 100\n",
        "percentages\n",
        "#Those who don't have mental health in wellness program/don't know about it have a greater percentage of people who need mental health help but aren't seeking it "
      ],
      "metadata": {
        "id": "tEiQlolwvKQV",
        "colab": {
          "base_uri": "https://localhost:8080/"
        },
        "outputId": "94a7b425-3cbb-4857-d3b5-6e0aae6ea908"
      },
      "execution_count": null,
      "outputs": [
        {
          "output_type": "execute_result",
          "data": {
            "text/plain": [
              "wellness_program\n",
              "Don't know     6.474820\n",
              "No            11.423841\n",
              "Yes            9.420290\n",
              "Name: interfere_and_no_treatment, dtype: float64"
            ]
          },
          "metadata": {},
          "execution_count": 90
        }
      ]
    },
    {
      "cell_type": "code",
      "source": [
        "total_counts = df.groupby('seek_help')['interfere_and_no_treatment'].count()\n",
        "percentages = df[df['interfere_and_no_treatment']].groupby('seek_help')['interfere_and_no_treatment'].count() / total_counts * 100\n",
        "percentages\n",
        "#Those who don't know/can't ask for help are those who have mental health issues but haven't asked for help"
      ],
      "metadata": {
        "id": "nrxSXvfuvgmD"
      },
      "execution_count": null,
      "outputs": []
    },
    {
      "cell_type": "code",
      "source": [
        "total_counts = df.groupby('remote_work')['interfere_and_no_treatment'].count()\n",
        "percentages = df[df['interfere_and_no_treatment']].groupby('remote_work')['interfere_and_no_treatment'].count() / total_counts * 100\n",
        "percentages\n",
        "#Not a big difference if the work is remote "
      ],
      "metadata": {
        "id": "6pg6QtCBvs0G"
      },
      "execution_count": null,
      "outputs": []
    },
    {
      "cell_type": "code",
      "source": [
        "sns.countplot(x = 'tech_company', data = df)"
      ],
      "metadata": {
        "id": "gVEzBSu0v933"
      },
      "execution_count": null,
      "outputs": []
    },
    {
      "cell_type": "code",
      "source": [
        "ax = sns.histplot(binwidth=2, x= \"anonymity\", hue='interfere_and_no_treatment', data=df, stat=\"count\", multiple=\"stack\", palette=color_cat.values())\n",
        "#not because they don't know if they would have anonymity "
      ],
      "metadata": {
        "id": "kY21giCPrXgW"
      },
      "execution_count": null,
      "outputs": []
    },
    {
      "cell_type": "code",
      "source": [
        "total_counts = df.groupby('anonymity')['interfere_and_no_treatment'].count()\n",
        "percentages = df[df['interfere_and_no_treatment']].groupby('anonymity')['interfere_and_no_treatment'].count() / total_counts * 100\n",
        "percentages\n",
        "#people that don't think anonymity or don't know if anonymity would be protected include a big percentage of people who need treatment but don't seek it "
      ],
      "metadata": {
        "id": "s5glAx5Ft-tm",
        "colab": {
          "base_uri": "https://localhost:8080/"
        },
        "outputId": "9f03ad36-ebf6-4397-b124-dd50c38d169d"
      },
      "execution_count": null,
      "outputs": [
        {
          "output_type": "execute_result",
          "data": {
            "text/plain": [
              "anonymity\n",
              "Don't know    11.716172\n",
              "No            20.588235\n",
              "Yes            5.394191\n",
              "Name: interfere_and_no_treatment, dtype: float64"
            ]
          },
          "metadata": {},
          "execution_count": 91
        }
      ]
    },
    {
      "cell_type": "code",
      "source": [
        "total_counts = df.groupby('anonymity')['interfere_and_no_treatment'].count()\n",
        "percentages = total_counts / total_counts.sum() * 100\n",
        "percentages\n"
      ],
      "metadata": {
        "id": "1FCT-ikz15NV"
      },
      "execution_count": null,
      "outputs": []
    },
    {
      "cell_type": "code",
      "source": [
        "ax = sns.histplot(binwidth=0.5, x= \"mental_health_consequence\", hue='interfere_and_no_treatment', data=df, stat=\"count\", multiple=\"stack\", palette=color_cat.values())\n",
        "#Those who have issues but aren't seeking treatment are those who believe disucssing a mental health issue with their employer would have negative consequences "
      ],
      "metadata": {
        "id": "hv-Qr_t2rtat",
        "colab": {
          "base_uri": "https://localhost:8080/",
          "height": 450
        },
        "outputId": "f5f8e698-e2d9-4eb2-e915-7e9fb3c99662"
      },
      "execution_count": null,
      "outputs": [
        {
          "output_type": "display_data",
          "data": {
            "text/plain": [
              "<Figure size 640x480 with 1 Axes>"
            ],
            "image/png": "[encoded data removed]"
          },
          "metadata": {}
        }
      ]
    },
    {
      "cell_type": "code",
      "source": [
        "total_counts = df.groupby('mental_health_consequence')['interfere_and_no_treatment'].count()\n",
        "percentages = df[df['interfere_and_no_treatment']].groupby('mental_health_consequence')['interfere_and_no_treatment'].count() / total_counts * 100\n",
        "percentages\n",
        "#The percentage of people who have negative mental health but haven't gotten treatment that think there would be negative consequences for mental health treatment is up 23% (maybe & yes) vs 6%"
      ],
      "metadata": {
        "id": "hvRqyFh8tnFp"
      },
      "execution_count": null,
      "outputs": []
    },
    {
      "cell_type": "code",
      "source": [
        "total_counts = df.groupby('mental_health_consequence')['interfere_and_no_treatment'].count()\n",
        "percentages = total_counts / total_counts.sum() * 100\n",
        "percentages"
      ],
      "metadata": {
        "id": "7mzPhVFU2fEf"
      },
      "execution_count": null,
      "outputs": []
    },
    {
      "cell_type": "code",
      "source": [
        "ax = sns.histplot(binwidth=0.5, x= \"supervisor\", hue='interfere_and_no_treatment', data=df, stat=\"count\", multiple=\"stack\", palette=color_cat.values())\n",
        "#Also those who haven't sought treatment are those who wouldn't want to talk to their supervisor "
      ],
      "metadata": {
        "id": "ZmDXU7etsLNM"
      },
      "execution_count": null,
      "outputs": []
    },
    {
      "cell_type": "code",
      "source": [
        "total_counts = df.groupby('supervisor')['interfere_and_no_treatment'].count()\n",
        "percentages = df[df['interfere_and_no_treatment']].groupby('supervisor')['interfere_and_no_treatment'].count() / total_counts * 100\n",
        "percentages"
      ],
      "metadata": {
        "id": "y012UGsKtZdP"
      },
      "execution_count": null,
      "outputs": []
    },
    {
      "cell_type": "code",
      "source": [
        "ax = sns.histplot(binwidth=0.5, x= \"mental_vs_physical\", hue='interfere_and_no_treatment', data=df, stat=\"count\", multiple=\"stack\", palette=color_cat.values())\n",
        "#Those who believe their employer wouldn't take mental health as seriously as physical health are those who aren't seeking treatment for their issues "
      ],
      "metadata": {
        "id": "X1vsTHdfsXJx",
        "colab": {
          "base_uri": "https://localhost:8080/",
          "height": 450
        },
        "outputId": "e2943d1f-9319-479b-9a9b-463361e56504"
      },
      "execution_count": null,
      "outputs": [
        {
          "output_type": "display_data",
          "data": {
            "text/plain": [
              "<Figure size 640x480 with 1 Axes>"
            ],
            "image/png": "[encoded data removed]"
          },
          "metadata": {}
        }
      ]
    },
    {
      "cell_type": "code",
      "source": [
        "total_counts = df.groupby('mental_vs_physical')['interfere_and_no_treatment'].count()\n",
        "percentages = df[df['interfere_and_no_treatment']].groupby('mental_vs_physical')['interfere_and_no_treatment'].count() / total_counts * 100\n",
        "percentages"
      ],
      "metadata": {
        "id": "p1ai2DzXtSY3"
      },
      "execution_count": null,
      "outputs": []
    },
    {
      "cell_type": "code",
      "source": [
        "ax = sns.histplot(binwidth=0.5, x= \"obs_consequence\", hue='interfere_and_no_treatment', data=df, stat=\"count\", multiple=\"stack\", palette=color_cat.values())"
      ],
      "metadata": {
        "id": "5yxcUfcoss1P"
      },
      "execution_count": null,
      "outputs": []
    },
    {
      "cell_type": "code",
      "source": [
        "total_counts = df.groupby('obs_consequence')['interfere_and_no_treatment'].count()\n",
        "percentages = df[df['interfere_and_no_treatment']].groupby('obs_consequence')['interfere_and_no_treatment'].count() / total_counts * 100\n",
        "percentages"
      ],
      "metadata": {
        "id": "guq0wudztC00"
      },
      "execution_count": null,
      "outputs": []
    },
    {
      "cell_type": "code",
      "source": [
        "total_counts = df.groupby('leave')['interfere_and_no_treatment'].count()\n",
        "percentages = df[df['interfere_and_no_treatment']].groupby('leave')['interfere_and_no_treatment'].count() / total_counts * 100\n",
        "percentages\n",
        "#most people who have mental health issues and havent gotten treatement are those who find it difficult to leave "
      ],
      "metadata": {
        "id": "0oUAVyvyyc47"
      },
      "execution_count": null,
      "outputs": []
    },
    {
      "cell_type": "code",
      "source": [
        "df['interfere_and_treatment'] = (df['work_interfere'].isin(['Sometimes', 'Often'])) & (df['treatment'] == 'Yes')\n",
        "df['interfere_and_treatment'].value_counts()"
      ],
      "metadata": {
        "id": "zXiriu570z8x"
      },
      "execution_count": null,
      "outputs": []
    },
    {
      "cell_type": "code",
      "source": [
        "total_counts = df.groupby('anonymity')['interfere_and_treatment'].count()\n",
        "percentages = df[df['interfere_and_treatment']].groupby('anonymity')['interfere_and_treatment'].count() / total_counts * 100\n",
        "percentages"
      ],
      "metadata": {
        "id": "NDhpyaqy1AoX"
      },
      "execution_count": null,
      "outputs": []
    },
    {
      "cell_type": "code",
      "source": [
        "#For those who experience mental health issues in the workplace, let's see how old each of these people are\n",
        "df['mental_health_interference'] = (df['work_interfere'].isin(['Sometimes', 'Often']))\n"
      ],
      "metadata": {
        "id": "6n-D3iSknfar"
      },
      "execution_count": null,
      "outputs": []
    },
    {
      "cell_type": "code",
      "source": [
        "import plotly.express as px\n",
        "\n",
        "work_interference_counts = df['interfere_and_no_treatment'].value_counts()\n",
        "print(work_interference_counts )\n",
        "\n",
        "# Count the number of people in each age group\n",
        "age_counts = df['Age'].value_counts()\n",
        "\n",
        "# Calculate the percentage of people in each age group\n",
        "age_percentages = (age_counts / age_counts.sum()) * 100\n",
        "\n",
        "# Create the bar graph\n",
        "fig = px.bar(x=age_counts.index, y=age_percentages)\n",
        "\n",
        "# Set the labels and title\n",
        "fig.update_layout(xaxis_title='Age', yaxis_title='Percentage', title='Age Distribution of People with Mental Health Problems that Interfere with their Work')\n",
        "\n",
        "# Display the plot\n",
        "fig.show()\n"
      ],
      "metadata": {
        "colab": {
          "base_uri": "https://localhost:8080/",
          "height": 596
        },
        "id": "8Yn7tW7_ot3j",
        "outputId": "05172dfd-ba51-4d28-cc08-f7af202e22d7"
      },
      "execution_count": null,
      "outputs": [
        {
          "output_type": "stream",
          "name": "stdout",
          "text": [
            "False    790\n",
            "True      91\n",
            "Name: interfere_and_no_treatment, dtype: int64\n"
          ]
        },
        {
          "output_type": "display_data",
          "data": {
            "text/html": [
              "<html>\n",
              "<head><meta charset=\"utf-8\" /></head>\n",
              "<body>\n",
              "    <div>            <script src=\"https://cdnjs.cloudflare.com/ajax/libs/mathjax/2.7.5/MathJax.js?config=TeX-AMS-MML_SVG\"></script><script type=\"text/javascript\">if (window.MathJax && window.MathJax.Hub && window.MathJax.Hub.Config) {window.MathJax.Hub.Config({SVG: {font: \"STIX-Web\"}});}</script>                <script type=\"text/javascript\">window.PlotlyConfig = {MathJaxConfig: 'local'};</script>\n",
              "        <script src=\"https://cdn.plot.ly/plotly-2.18.2.min.js\"></script>                <div id=\"228f30ab-5867-4963-b1c1-542be4b4a97f\" class=\"plotly-graph-div\" style=\"height:525px; width:100%;\"></div>            <script type=\"text/javascript\">                                    window.PLOTLYENV=window.PLOTLYENV || {};                                    if (document.getElementById(\"228f30ab-5867-4963-b1c1-542be4b4a97f\")) {                    Plotly.newPlot(                        \"228f30ab-5867-4963-b1c1-542be4b4a97f\",                        [{\"alignmentgroup\":\"True\",\"hovertemplate\":\"x=%{x}<br>y=%{y}<extra></extra>\",\"legendgroup\":\"\",\"marker\":{\"color\":\"#636efa\",\"pattern\":{\"shape\":\"\"}},\"name\":\"\",\"offsetgroup\":\"\",\"orientation\":\"v\",\"showlegend\":false,\"textposition\":\"auto\",\"x\":[29,32,27,26,28,33,31,25,34,30,24,35,23,38,37,39,40,36,41,22,43,42,21,46,45,19,18,48,20,44,50,56,57,51,49,60,55,47,54,58,62,53],\"xaxis\":\"x\",\"y\":[6.696935300794552,6.696935300794552,6.583427922814983,6.469920544835414,6.242905788876277,5.902383654937571,5.334846765039727,5.2213393870601585,5.10783200908059,4.6538024971623155,4.0862656072644725,4.0862656072644725,3.9727582292849033,3.064699205448354,3.064699205448354,2.383654937570942,2.383654937570942,2.383654937570942,1.8161180476730987,1.8161180476730987,1.8161180476730987,1.362088535754824,1.0215664018161181,0.9080590238365494,0.9080590238365494,0.7945516458569807,0.681044267877412,0.5675368898978433,0.5675368898978433,0.4540295119182747,0.4540295119182747,0.340522133938706,0.340522133938706,0.340522133938706,0.340522133938706,0.22701475595913734,0.22701475595913734,0.22701475595913734,0.11350737797956867,0.11350737797956867,0.11350737797956867,0.11350737797956867],\"yaxis\":\"y\",\"type\":\"bar\"}],                        {\"template\":{\"data\":{\"histogram2dcontour\":[{\"type\":\"histogram2dcontour\",\"colorbar\":{\"outlinewidth\":0,\"ticks\":\"\"},\"colorscale\":[[0.0,\"#0d0887\"],[0.1111111111111111,\"#46039f\"],[0.2222222222222222,\"#7201a8\"],[0.3333333333333333,\"#9c179e\"],[0.4444444444444444,\"#bd3786\"],[0.5555555555555556,\"#d8576b\"],[0.6666666666666666,\"#ed7953\"],[0.7777777777777778,\"#fb9f3a\"],[0.8888888888888888,\"#fdca26\"],[1.0,\"#f0f921\"]]}],\"choropleth\":[{\"type\":\"choropleth\",\"colorbar\":{\"outlinewidth\":0,\"ticks\":\"\"}}],\"histogram2d\":[{\"type\":\"histogram2d\",\"colorbar\":{\"outlinewidth\":0,\"ticks\":\"\"},\"colorscale\":[[0.0,\"#0d0887\"],[0.1111111111111111,\"#46039f\"],[0.2222222222222222,\"#7201a8\"],[0.3333333333333333,\"#9c179e\"],[0.4444444444444444,\"#bd3786\"],[0.5555555555555556,\"#d8576b\"],[0.6666666666666666,\"#ed7953\"],[0.7777777777777778,\"#fb9f3a\"],[0.8888888888888888,\"#fdca26\"],[1.0,\"#f0f921\"]]}],\"heatmap\":[{\"type\":\"heatmap\",\"colorbar\":{\"outlinewidth\":0,\"ticks\":\"\"},\"colorscale\":[[0.0,\"#0d0887\"],[0.1111111111111111,\"#46039f\"],[0.2222222222222222,\"#7201a8\"],[0.3333333333333333,\"#9c179e\"],[0.4444444444444444,\"#bd3786\"],[0.5555555555555556,\"#d8576b\"],[0.6666666666666666,\"#ed7953\"],[0.7777777777777778,\"#fb9f3a\"],[0.8888888888888888,\"#fdca26\"],[1.0,\"#f0f921\"]]}],\"heatmapgl\":[{\"type\":\"heatmapgl\",\"colorbar\":{\"outlinewidth\":0,\"ticks\":\"\"},\"colorscale\":[[0.0,\"#0d0887\"],[0.1111111111111111,\"#46039f\"],[0.2222222222222222,\"#7201a8\"],[0.3333333333333333,\"#9c179e\"],[0.4444444444444444,\"#bd3786\"],[0.5555555555555556,\"#d8576b\"],[0.6666666666666666,\"#ed7953\"],[0.7777777777777778,\"#fb9f3a\"],[0.8888888888888888,\"#fdca26\"],[1.0,\"#f0f921\"]]}],\"contourcarpet\":[{\"type\":\"contourcarpet\",\"colorbar\":{\"outlinewidth\":0,\"ticks\":\"\"}}],\"contour\":[{\"type\":\"contour\",\"colorbar\":{\"outlinewidth\":0,\"ticks\":\"\"},\"colorscale\":[[0.0,\"#0d0887\"],[0.1111111111111111,\"#46039f\"],[0.2222222222222222,\"#7201a8\"],[0.3333333333333333,\"#9c179e\"],[0.4444444444444444,\"#bd3786\"],[0.5555555555555556,\"#d8576b\"],[0.6666666666666666,\"#ed7953\"],[0.7777777777777778,\"#fb9f3a\"],[0.8888888888888888,\"#fdca26\"],[1.0,\"#f0f921\"]]}],\"surface\":[{\"type\":\"surface\",\"colorbar\":{\"outlinewidth\":0,\"ticks\":\"\"},\"colorscale\":[[0.0,\"#0d0887\"],[0.1111111111111111,\"#46039f\"],[0.2222222222222222,\"#7201a8\"],[0.3333333333333333,\"#9c179e\"],[0.4444444444444444,\"#bd3786\"],[0.5555555555555556,\"#d8576b\"],[0.6666666666666666,\"#ed7953\"],[0.7777777777777778,\"#fb9f3a\"],[0.8888888888888888,\"#fdca26\"],[1.0,\"#f0f921\"]]}],\"mesh3d\":[{\"type\":\"mesh3d\",\"colorbar\":{\"outlinewidth\":0,\"ticks\":\"\"}}],\"scatter\":[{\"fillpattern\":{\"fillmode\":\"overlay\",\"size\":10,\"solidity\":0.2},\"type\":\"scatter\"}],\"parcoords\":[{\"type\":\"parcoords\",\"line\":{\"colorbar\":{\"outlinewidth\":0,\"ticks\":\"\"}}}],\"scatterpolargl\":[{\"type\":\"scatterpolargl\",\"marker\":{\"colorbar\":{\"outlinewidth\":0,\"ticks\":\"\"}}}],\"bar\":[{\"error_x\":{\"color\":\"#2a3f5f\"},\"error_y\":{\"color\":\"#2a3f5f\"},\"marker\":{\"line\":{\"color\":\"#E5ECF6\",\"width\":0.5},\"pattern\":{\"fillmode\":\"overlay\",\"size\":10,\"solidity\":0.2}},\"type\":\"bar\"}],\"scattergeo\":[{\"type\":\"scattergeo\",\"marker\":{\"colorbar\":{\"outlinewidth\":0,\"ticks\":\"\"}}}],\"scatterpolar\":[{\"type\":\"scatterpolar\",\"marker\":{\"colorbar\":{\"outlinewidth\":0,\"ticks\":\"\"}}}],\"histogram\":[{\"marker\":{\"pattern\":{\"fillmode\":\"overlay\",\"size\":10,\"solidity\":0.2}},\"type\":\"histogram\"}],\"scattergl\":[{\"type\":\"scattergl\",\"marker\":{\"colorbar\":{\"outlinewidth\":0,\"ticks\":\"\"}}}],\"scatter3d\":[{\"type\":\"scatter3d\",\"line\":{\"colorbar\":{\"outlinewidth\":0,\"ticks\":\"\"}},\"marker\":{\"colorbar\":{\"outlinewidth\":0,\"ticks\":\"\"}}}],\"scattermapbox\":[{\"type\":\"scattermapbox\",\"marker\":{\"colorbar\":{\"outlinewidth\":0,\"ticks\":\"\"}}}],\"scatterternary\":[{\"type\":\"scatterternary\",\"marker\":{\"colorbar\":{\"outlinewidth\":0,\"ticks\":\"\"}}}],\"scattercarpet\":[{\"type\":\"scattercarpet\",\"marker\":{\"colorbar\":{\"outlinewidth\":0,\"ticks\":\"\"}}}],\"carpet\":[{\"aaxis\":{\"endlinecolor\":\"#2a3f5f\",\"gridcolor\":\"white\",\"linecolor\":\"white\",\"minorgridcolor\":\"white\",\"startlinecolor\":\"#2a3f5f\"},\"baxis\":{\"endlinecolor\":\"#2a3f5f\",\"gridcolor\":\"white\",\"linecolor\":\"white\",\"minorgridcolor\":\"white\",\"startlinecolor\":\"#2a3f5f\"},\"type\":\"carpet\"}],\"table\":[{\"cells\":{\"fill\":{\"color\":\"#EBF0F8\"},\"line\":{\"color\":\"white\"}},\"header\":{\"fill\":{\"color\":\"#C8D4E3\"},\"line\":{\"color\":\"white\"}},\"type\":\"table\"}],\"barpolar\":[{\"marker\":{\"line\":{\"color\":\"#E5ECF6\",\"width\":0.5},\"pattern\":{\"fillmode\":\"overlay\",\"size\":10,\"solidity\":0.2}},\"type\":\"barpolar\"}],\"pie\":[{\"automargin\":true,\"type\":\"pie\"}]},\"layout\":{\"autotypenumbers\":\"strict\",\"colorway\":[\"#636efa\",\"#EF553B\",\"#00cc96\",\"#ab63fa\",\"#FFA15A\",\"#19d3f3\",\"#FF6692\",\"#B6E880\",\"#FF97FF\",\"#FECB52\"],\"font\":{\"color\":\"#2a3f5f\"},\"hovermode\":\"closest\",\"hoverlabel\":{\"align\":\"left\"},\"paper_bgcolor\":\"white\",\"plot_bgcolor\":\"#E5ECF6\",\"polar\":{\"bgcolor\":\"#E5ECF6\",\"angularaxis\":{\"gridcolor\":\"white\",\"linecolor\":\"white\",\"ticks\":\"\"},\"radialaxis\":{\"gridcolor\":\"white\",\"linecolor\":\"white\",\"ticks\":\"\"}},\"ternary\":{\"bgcolor\":\"#E5ECF6\",\"aaxis\":{\"gridcolor\":\"white\",\"linecolor\":\"white\",\"ticks\":\"\"},\"baxis\":{\"gridcolor\":\"white\",\"linecolor\":\"white\",\"ticks\":\"\"},\"caxis\":{\"gridcolor\":\"white\",\"linecolor\":\"white\",\"ticks\":\"\"}},\"coloraxis\":{\"colorbar\":{\"outlinewidth\":0,\"ticks\":\"\"}},\"colorscale\":{\"sequential\":[[0.0,\"#0d0887\"],[0.1111111111111111,\"#46039f\"],[0.2222222222222222,\"#7201a8\"],[0.3333333333333333,\"#9c179e\"],[0.4444444444444444,\"#bd3786\"],[0.5555555555555556,\"#d8576b\"],[0.6666666666666666,\"#ed7953\"],[0.7777777777777778,\"#fb9f3a\"],[0.8888888888888888,\"#fdca26\"],[1.0,\"#f0f921\"]],\"sequentialminus\":[[0.0,\"#0d0887\"],[0.1111111111111111,\"#46039f\"],[0.2222222222222222,\"#7201a8\"],[0.3333333333333333,\"#9c179e\"],[0.4444444444444444,\"#bd3786\"],[0.5555555555555556,\"#d8576b\"],[0.6666666666666666,\"#ed7953\"],[0.7777777777777778,\"#fb9f3a\"],[0.8888888888888888,\"#fdca26\"],[1.0,\"#f0f921\"]],\"diverging\":[[0,\"#8e0152\"],[0.1,\"#c51b7d\"],[0.2,\"#de77ae\"],[0.3,\"#f1b6da\"],[0.4,\"#fde0ef\"],[0.5,\"#f7f7f7\"],[0.6,\"#e6f5d0\"],[0.7,\"#b8e186\"],[0.8,\"#7fbc41\"],[0.9,\"#4d9221\"],[1,\"#276419\"]]},\"xaxis\":{\"gridcolor\":\"white\",\"linecolor\":\"white\",\"ticks\":\"\",\"title\":{\"standoff\":15},\"zerolinecolor\":\"white\",\"automargin\":true,\"zerolinewidth\":2},\"yaxis\":{\"gridcolor\":\"white\",\"linecolor\":\"white\",\"ticks\":\"\",\"title\":{\"standoff\":15},\"zerolinecolor\":\"white\",\"automargin\":true,\"zerolinewidth\":2},\"scene\":{\"xaxis\":{\"backgroundcolor\":\"#E5ECF6\",\"gridcolor\":\"white\",\"linecolor\":\"white\",\"showbackground\":true,\"ticks\":\"\",\"zerolinecolor\":\"white\",\"gridwidth\":2},\"yaxis\":{\"backgroundcolor\":\"#E5ECF6\",\"gridcolor\":\"white\",\"linecolor\":\"white\",\"showbackground\":true,\"ticks\":\"\",\"zerolinecolor\":\"white\",\"gridwidth\":2},\"zaxis\":{\"backgroundcolor\":\"#E5ECF6\",\"gridcolor\":\"white\",\"linecolor\":\"white\",\"showbackground\":true,\"ticks\":\"\",\"zerolinecolor\":\"white\",\"gridwidth\":2}},\"shapedefaults\":{\"line\":{\"color\":\"#2a3f5f\"}},\"annotationdefaults\":{\"arrowcolor\":\"#2a3f5f\",\"arrowhead\":0,\"arrowwidth\":1},\"geo\":{\"bgcolor\":\"white\",\"landcolor\":\"#E5ECF6\",\"subunitcolor\":\"white\",\"showland\":true,\"showlakes\":true,\"lakecolor\":\"white\"},\"title\":{\"x\":0.05},\"mapbox\":{\"style\":\"light\"}}},\"xaxis\":{\"anchor\":\"y\",\"domain\":[0.0,1.0],\"title\":{\"text\":\"Age\"}},\"yaxis\":{\"anchor\":\"x\",\"domain\":[0.0,1.0],\"title\":{\"text\":\"Percentage\"}},\"legend\":{\"tracegroupgap\":0},\"margin\":{\"t\":60},\"barmode\":\"relative\",\"title\":{\"text\":\"Age Distribution of People with Mental Health Problems that Interfere with their Work\"}},                        {\"responsive\": true}                    ).then(function(){\n",
              "                            \n",
              "var gd = document.getElementById('228f30ab-5867-4963-b1c1-542be4b4a97f');\n",
              "var x = new MutationObserver(function (mutations, observer) {{\n",
              "        var display = window.getComputedStyle(gd).display;\n",
              "        if (!display || display === 'none') {{\n",
              "            console.log([gd, 'removed!']);\n",
              "            Plotly.purge(gd);\n",
              "            observer.disconnect();\n",
              "        }}\n",
              "}});\n",
              "\n",
              "// Listen for the removal of the full notebook cells\n",
              "var notebookContainer = gd.closest('#notebook-container');\n",
              "if (notebookContainer) {{\n",
              "    x.observe(notebookContainer, {childList: true});\n",
              "}}\n",
              "\n",
              "// Listen for the clearing of the current output cell\n",
              "var outputEl = gd.closest('.output');\n",
              "if (outputEl) {{\n",
              "    x.observe(outputEl, {childList: true});\n",
              "}}\n",
              "\n",
              "                        })                };                            </script>        </div>\n",
              "</body>\n",
              "</html>"
            ]
          },
          "metadata": {}
        }
      ]
    },
    {
      "cell_type": "code",
      "source": [
        "count_30_year_old = (df['Age'] == 30).value_counts()\n",
        "print(count_30_year_old)\n",
        "count_30_year_old_work_interference = ((df['Age'] == 30) & (df['work_interfere'].isin(['Sometimes', 'Often']))).sum()\n",
        "count_30_year_old_work_interference"
      ],
      "metadata": {
        "id": "zxAUsvUvtKq2"
      },
      "execution_count": null,
      "outputs": []
    },
    {
      "cell_type": "code",
      "source": [
        "import plotly.express as px\n",
        "\n",
        "# Filter the DataFrame for people with \"mental_health_interference\" as True\n",
        "mental_health_df = df[df['interfere_and_no_treatment']]\n",
        "\n",
        "# Count the number of people in each age group\n",
        "age_counts = df['Age'].value_counts().sort_index()\n",
        "\n",
        "# Calculate the percentage of total people in each age group who have \"mental_health_interference\" as True\n",
        "age_percentages = (mental_health_df['Age'].value_counts() / age_counts) * 100\n",
        "\n",
        "# Create the bar graph\n",
        "fig = px.bar(x=age_counts.index, y=age_percentages, hover_data={'Number of People this Age': age_counts})\n",
        "\n",
        "# Set the labels and title\n",
        "fig.update_layout(xaxis_title='Age', yaxis_title='Percentage', title='Percentage of People in Each Age Group with Mental Health Problems & No Treatment')\n",
        "\n",
        "# Display the plot\n",
        "fig.show()\n"
      ],
      "metadata": {
        "colab": {
          "base_uri": "https://localhost:8080/",
          "height": 542
        },
        "id": "5BPZTaT-vvnn",
        "outputId": "55e24a51-c7c3-4ef6-a6d4-ef1a52e90c26"
      },
      "execution_count": null,
      "outputs": [
        {
          "output_type": "display_data",
          "data": {
            "text/html": [
              "<html>\n",
              "<head><meta charset=\"utf-8\" /></head>\n",
              "<body>\n",
              "    <div>            <script src=\"https://cdnjs.cloudflare.com/ajax/libs/mathjax/2.7.5/MathJax.js?config=TeX-AMS-MML_SVG\"></script><script type=\"text/javascript\">if (window.MathJax && window.MathJax.Hub && window.MathJax.Hub.Config) {window.MathJax.Hub.Config({SVG: {font: \"STIX-Web\"}});}</script>                <script type=\"text/javascript\">window.PlotlyConfig = {MathJaxConfig: 'local'};</script>\n",
              "        <script src=\"https://cdn.plot.ly/plotly-2.18.2.min.js\"></script>                <div id=\"29a5f445-88ac-41b7-8b19-8f0418eb52e1\" class=\"plotly-graph-div\" style=\"height:525px; width:100%;\"></div>            <script type=\"text/javascript\">                                    window.PLOTLYENV=window.PLOTLYENV || {};                                    if (document.getElementById(\"29a5f445-88ac-41b7-8b19-8f0418eb52e1\")) {                    Plotly.newPlot(                        \"29a5f445-88ac-41b7-8b19-8f0418eb52e1\",                        [{\"alignmentgroup\":\"True\",\"customdata\":[[6],[7],[5],[9],[16],[35],[36],[46],[57],[58],[55],[59],[41],[47],[59],[52],[45],[36],[21],[27],[27],[21],[21],[16],[12],[16],[4],[8],[8],[2],[5],[3],[4],[3],[1],[1],[2],[3],[3],[1],[2],[1]],\"hovertemplate\":\"x=%{x}<br>y=%{y}<br>Number of People this Age=%{customdata[0]}<extra></extra>\",\"legendgroup\":\"\",\"marker\":{\"color\":\"#636efa\",\"pattern\":{\"shape\":\"\"}},\"name\":\"\",\"offsetgroup\":\"\",\"orientation\":\"v\",\"showlegend\":false,\"textposition\":\"auto\",\"x\":[18,19,20,21,22,23,24,25,26,27,28,29,30,31,32,33,34,35,36,37,38,39,40,41,42,43,44,45,46,47,48,49,50,51,53,54,55,56,57,58,60,62],\"xaxis\":\"x\",\"y\":[16.666666666666664,14.285714285714285,null,null,12.5,8.571428571428571,13.88888888888889,4.3478260869565215,10.526315789473683,8.620689655172415,12.727272727272727,6.779661016949152,14.634146341463413,10.638297872340425,8.47457627118644,5.769230769230769,17.77777777777778,16.666666666666664,14.285714285714285,18.51851851851852,14.814814814814813,14.285714285714285,4.761904761904762,6.25,null,18.75,null,null,null,null,20.0,null,25.0,null,null,null,null,null,null,null,null,null],\"yaxis\":\"y\",\"type\":\"bar\"}],                        {\"template\":{\"data\":{\"histogram2dcontour\":[{\"type\":\"histogram2dcontour\",\"colorbar\":{\"outlinewidth\":0,\"ticks\":\"\"},\"colorscale\":[[0.0,\"#0d0887\"],[0.1111111111111111,\"#46039f\"],[0.2222222222222222,\"#7201a8\"],[0.3333333333333333,\"#9c179e\"],[0.4444444444444444,\"#bd3786\"],[0.5555555555555556,\"#d8576b\"],[0.6666666666666666,\"#ed7953\"],[0.7777777777777778,\"#fb9f3a\"],[0.8888888888888888,\"#fdca26\"],[1.0,\"#f0f921\"]]}],\"choropleth\":[{\"type\":\"choropleth\",\"colorbar\":{\"outlinewidth\":0,\"ticks\":\"\"}}],\"histogram2d\":[{\"type\":\"histogram2d\",\"colorbar\":{\"outlinewidth\":0,\"ticks\":\"\"},\"colorscale\":[[0.0,\"#0d0887\"],[0.1111111111111111,\"#46039f\"],[0.2222222222222222,\"#7201a8\"],[0.3333333333333333,\"#9c179e\"],[0.4444444444444444,\"#bd3786\"],[0.5555555555555556,\"#d8576b\"],[0.6666666666666666,\"#ed7953\"],[0.7777777777777778,\"#fb9f3a\"],[0.8888888888888888,\"#fdca26\"],[1.0,\"#f0f921\"]]}],\"heatmap\":[{\"type\":\"heatmap\",\"colorbar\":{\"outlinewidth\":0,\"ticks\":\"\"},\"colorscale\":[[0.0,\"#0d0887\"],[0.1111111111111111,\"#46039f\"],[0.2222222222222222,\"#7201a8\"],[0.3333333333333333,\"#9c179e\"],[0.4444444444444444,\"#bd3786\"],[0.5555555555555556,\"#d8576b\"],[0.6666666666666666,\"#ed7953\"],[0.7777777777777778,\"#fb9f3a\"],[0.8888888888888888,\"#fdca26\"],[1.0,\"#f0f921\"]]}],\"heatmapgl\":[{\"type\":\"heatmapgl\",\"colorbar\":{\"outlinewidth\":0,\"ticks\":\"\"},\"colorscale\":[[0.0,\"#0d0887\"],[0.1111111111111111,\"#46039f\"],[0.2222222222222222,\"#7201a8\"],[0.3333333333333333,\"#9c179e\"],[0.4444444444444444,\"#bd3786\"],[0.5555555555555556,\"#d8576b\"],[0.6666666666666666,\"#ed7953\"],[0.7777777777777778,\"#fb9f3a\"],[0.8888888888888888,\"#fdca26\"],[1.0,\"#f0f921\"]]}],\"contourcarpet\":[{\"type\":\"contourcarpet\",\"colorbar\":{\"outlinewidth\":0,\"ticks\":\"\"}}],\"contour\":[{\"type\":\"contour\",\"colorbar\":{\"outlinewidth\":0,\"ticks\":\"\"},\"colorscale\":[[0.0,\"#0d0887\"],[0.1111111111111111,\"#46039f\"],[0.2222222222222222,\"#7201a8\"],[0.3333333333333333,\"#9c179e\"],[0.4444444444444444,\"#bd3786\"],[0.5555555555555556,\"#d8576b\"],[0.6666666666666666,\"#ed7953\"],[0.7777777777777778,\"#fb9f3a\"],[0.8888888888888888,\"#fdca26\"],[1.0,\"#f0f921\"]]}],\"surface\":[{\"type\":\"surface\",\"colorbar\":{\"outlinewidth\":0,\"ticks\":\"\"},\"colorscale\":[[0.0,\"#0d0887\"],[0.1111111111111111,\"#46039f\"],[0.2222222222222222,\"#7201a8\"],[0.3333333333333333,\"#9c179e\"],[0.4444444444444444,\"#bd3786\"],[0.5555555555555556,\"#d8576b\"],[0.6666666666666666,\"#ed7953\"],[0.7777777777777778,\"#fb9f3a\"],[0.8888888888888888,\"#fdca26\"],[1.0,\"#f0f921\"]]}],\"mesh3d\":[{\"type\":\"mesh3d\",\"colorbar\":{\"outlinewidth\":0,\"ticks\":\"\"}}],\"scatter\":[{\"fillpattern\":{\"fillmode\":\"overlay\",\"size\":10,\"solidity\":0.2},\"type\":\"scatter\"}],\"parcoords\":[{\"type\":\"parcoords\",\"line\":{\"colorbar\":{\"outlinewidth\":0,\"ticks\":\"\"}}}],\"scatterpolargl\":[{\"type\":\"scatterpolargl\",\"marker\":{\"colorbar\":{\"outlinewidth\":0,\"ticks\":\"\"}}}],\"bar\":[{\"error_x\":{\"color\":\"#2a3f5f\"},\"error_y\":{\"color\":\"#2a3f5f\"},\"marker\":{\"line\":{\"color\":\"#E5ECF6\",\"width\":0.5},\"pattern\":{\"fillmode\":\"overlay\",\"size\":10,\"solidity\":0.2}},\"type\":\"bar\"}],\"scattergeo\":[{\"type\":\"scattergeo\",\"marker\":{\"colorbar\":{\"outlinewidth\":0,\"ticks\":\"\"}}}],\"scatterpolar\":[{\"type\":\"scatterpolar\",\"marker\":{\"colorbar\":{\"outlinewidth\":0,\"ticks\":\"\"}}}],\"histogram\":[{\"marker\":{\"pattern\":{\"fillmode\":\"overlay\",\"size\":10,\"solidity\":0.2}},\"type\":\"histogram\"}],\"scattergl\":[{\"type\":\"scattergl\",\"marker\":{\"colorbar\":{\"outlinewidth\":0,\"ticks\":\"\"}}}],\"scatter3d\":[{\"type\":\"scatter3d\",\"line\":{\"colorbar\":{\"outlinewidth\":0,\"ticks\":\"\"}},\"marker\":{\"colorbar\":{\"outlinewidth\":0,\"ticks\":\"\"}}}],\"scattermapbox\":[{\"type\":\"scattermapbox\",\"marker\":{\"colorbar\":{\"outlinewidth\":0,\"ticks\":\"\"}}}],\"scatterternary\":[{\"type\":\"scatterternary\",\"marker\":{\"colorbar\":{\"outlinewidth\":0,\"ticks\":\"\"}}}],\"scattercarpet\":[{\"type\":\"scattercarpet\",\"marker\":{\"colorbar\":{\"outlinewidth\":0,\"ticks\":\"\"}}}],\"carpet\":[{\"aaxis\":{\"endlinecolor\":\"#2a3f5f\",\"gridcolor\":\"white\",\"linecolor\":\"white\",\"minorgridcolor\":\"white\",\"startlinecolor\":\"#2a3f5f\"},\"baxis\":{\"endlinecolor\":\"#2a3f5f\",\"gridcolor\":\"white\",\"linecolor\":\"white\",\"minorgridcolor\":\"white\",\"startlinecolor\":\"#2a3f5f\"},\"type\":\"carpet\"}],\"table\":[{\"cells\":{\"fill\":{\"color\":\"#EBF0F8\"},\"line\":{\"color\":\"white\"}},\"header\":{\"fill\":{\"color\":\"#C8D4E3\"},\"line\":{\"color\":\"white\"}},\"type\":\"table\"}],\"barpolar\":[{\"marker\":{\"line\":{\"color\":\"#E5ECF6\",\"width\":0.5},\"pattern\":{\"fillmode\":\"overlay\",\"size\":10,\"solidity\":0.2}},\"type\":\"barpolar\"}],\"pie\":[{\"automargin\":true,\"type\":\"pie\"}]},\"layout\":{\"autotypenumbers\":\"strict\",\"colorway\":[\"#636efa\",\"#EF553B\",\"#00cc96\",\"#ab63fa\",\"#FFA15A\",\"#19d3f3\",\"#FF6692\",\"#B6E880\",\"#FF97FF\",\"#FECB52\"],\"font\":{\"color\":\"#2a3f5f\"},\"hovermode\":\"closest\",\"hoverlabel\":{\"align\":\"left\"},\"paper_bgcolor\":\"white\",\"plot_bgcolor\":\"#E5ECF6\",\"polar\":{\"bgcolor\":\"#E5ECF6\",\"angularaxis\":{\"gridcolor\":\"white\",\"linecolor\":\"white\",\"ticks\":\"\"},\"radialaxis\":{\"gridcolor\":\"white\",\"linecolor\":\"white\",\"ticks\":\"\"}},\"ternary\":{\"bgcolor\":\"#E5ECF6\",\"aaxis\":{\"gridcolor\":\"white\",\"linecolor\":\"white\",\"ticks\":\"\"},\"baxis\":{\"gridcolor\":\"white\",\"linecolor\":\"white\",\"ticks\":\"\"},\"caxis\":{\"gridcolor\":\"white\",\"linecolor\":\"white\",\"ticks\":\"\"}},\"coloraxis\":{\"colorbar\":{\"outlinewidth\":0,\"ticks\":\"\"}},\"colorscale\":{\"sequential\":[[0.0,\"#0d0887\"],[0.1111111111111111,\"#46039f\"],[0.2222222222222222,\"#7201a8\"],[0.3333333333333333,\"#9c179e\"],[0.4444444444444444,\"#bd3786\"],[0.5555555555555556,\"#d8576b\"],[0.6666666666666666,\"#ed7953\"],[0.7777777777777778,\"#fb9f3a\"],[0.8888888888888888,\"#fdca26\"],[1.0,\"#f0f921\"]],\"sequentialminus\":[[0.0,\"#0d0887\"],[0.1111111111111111,\"#46039f\"],[0.2222222222222222,\"#7201a8\"],[0.3333333333333333,\"#9c179e\"],[0.4444444444444444,\"#bd3786\"],[0.5555555555555556,\"#d8576b\"],[0.6666666666666666,\"#ed7953\"],[0.7777777777777778,\"#fb9f3a\"],[0.8888888888888888,\"#fdca26\"],[1.0,\"#f0f921\"]],\"diverging\":[[0,\"#8e0152\"],[0.1,\"#c51b7d\"],[0.2,\"#de77ae\"],[0.3,\"#f1b6da\"],[0.4,\"#fde0ef\"],[0.5,\"#f7f7f7\"],[0.6,\"#e6f5d0\"],[0.7,\"#b8e186\"],[0.8,\"#7fbc41\"],[0.9,\"#4d9221\"],[1,\"#276419\"]]},\"xaxis\":{\"gridcolor\":\"white\",\"linecolor\":\"white\",\"ticks\":\"\",\"title\":{\"standoff\":15},\"zerolinecolor\":\"white\",\"automargin\":true,\"zerolinewidth\":2},\"yaxis\":{\"gridcolor\":\"white\",\"linecolor\":\"white\",\"ticks\":\"\",\"title\":{\"standoff\":15},\"zerolinecolor\":\"white\",\"automargin\":true,\"zerolinewidth\":2},\"scene\":{\"xaxis\":{\"backgroundcolor\":\"#E5ECF6\",\"gridcolor\":\"white\",\"linecolor\":\"white\",\"showbackground\":true,\"ticks\":\"\",\"zerolinecolor\":\"white\",\"gridwidth\":2},\"yaxis\":{\"backgroundcolor\":\"#E5ECF6\",\"gridcolor\":\"white\",\"linecolor\":\"white\",\"showbackground\":true,\"ticks\":\"\",\"zerolinecolor\":\"white\",\"gridwidth\":2},\"zaxis\":{\"backgroundcolor\":\"#E5ECF6\",\"gridcolor\":\"white\",\"linecolor\":\"white\",\"showbackground\":true,\"ticks\":\"\",\"zerolinecolor\":\"white\",\"gridwidth\":2}},\"shapedefaults\":{\"line\":{\"color\":\"#2a3f5f\"}},\"annotationdefaults\":{\"arrowcolor\":\"#2a3f5f\",\"arrowhead\":0,\"arrowwidth\":1},\"geo\":{\"bgcolor\":\"white\",\"landcolor\":\"#E5ECF6\",\"subunitcolor\":\"white\",\"showland\":true,\"showlakes\":true,\"lakecolor\":\"white\"},\"title\":{\"x\":0.05},\"mapbox\":{\"style\":\"light\"}}},\"xaxis\":{\"anchor\":\"y\",\"domain\":[0.0,1.0],\"title\":{\"text\":\"Age\"}},\"yaxis\":{\"anchor\":\"x\",\"domain\":[0.0,1.0],\"title\":{\"text\":\"Percentage\"}},\"legend\":{\"tracegroupgap\":0},\"margin\":{\"t\":60},\"barmode\":\"relative\",\"title\":{\"text\":\"Percentage of People in Each Age Group with Mental Health Problems & No Treatment\"}},                        {\"responsive\": true}                    ).then(function(){\n",
              "                            \n",
              "var gd = document.getElementById('29a5f445-88ac-41b7-8b19-8f0418eb52e1');\n",
              "var x = new MutationObserver(function (mutations, observer) {{\n",
              "        var display = window.getComputedStyle(gd).display;\n",
              "        if (!display || display === 'none') {{\n",
              "            console.log([gd, 'removed!']);\n",
              "            Plotly.purge(gd);\n",
              "            observer.disconnect();\n",
              "        }}\n",
              "}});\n",
              "\n",
              "// Listen for the removal of the full notebook cells\n",
              "var notebookContainer = gd.closest('#notebook-container');\n",
              "if (notebookContainer) {{\n",
              "    x.observe(notebookContainer, {childList: true});\n",
              "}}\n",
              "\n",
              "// Listen for the clearing of the current output cell\n",
              "var outputEl = gd.closest('.output');\n",
              "if (outputEl) {{\n",
              "    x.observe(outputEl, {childList: true});\n",
              "}}\n",
              "\n",
              "                        })                };                            </script>        </div>\n",
              "</body>\n",
              "</html>"
            ]
          },
          "metadata": {}
        }
      ]
    },
    {
      "cell_type": "code",
      "source": [
        "df['interfere_and_no_knowledge'] = (df['work_interfere'].isin(['Sometimes', 'Often'])) & ((df['care_options'] == 'No')|(df['care_options'] == \"Not sure\")) "
      ],
      "metadata": {
        "id": "KOBoTS9Q2GtF"
      },
      "execution_count": null,
      "outputs": []
    },
    {
      "cell_type": "code",
      "source": [
        "import plotly.express as px\n",
        "\n",
        "# Filter the DataFrame for people with \"mental_health_interference\" as True\n",
        "mental_health_df = df[df['interfere_and_no_knowledge']]\n",
        "\n",
        "# Count the number of people in each age group\n",
        "age_counts = df['Age'].value_counts().sort_index()\n",
        "\n",
        "# Calculate the percentage of total people in each age group who have \"mental_health_interference\" as True\n",
        "age_percentages = (mental_health_df['Age'].value_counts() / age_counts) * 100\n",
        "\n",
        "# Create the bar graph\n",
        "fig = px.bar(x=age_counts.index, y=age_percentages, hover_data={'Number of People this Age': age_counts})\n",
        "\n",
        "# Set the labels and title\n",
        "fig.update_layout(xaxis_title='Age', yaxis_title='Percentage', title=\"Percentage of People in Each Age Group with Mental Health Problems & No Awareness of their Company's MH Resources\")\n",
        "\n",
        "# Display the plot\n",
        "fig.show()"
      ],
      "metadata": {
        "colab": {
          "base_uri": "https://localhost:8080/",
          "height": 542
        },
        "id": "14ViQzwO1-_A",
        "outputId": "c69034d3-e397-4d7b-def1-50bf6fe4d528"
      },
      "execution_count": null,
      "outputs": [
        {
          "output_type": "display_data",
          "data": {
            "text/html": [
              "<html>\n",
              "<head><meta charset=\"utf-8\" /></head>\n",
              "<body>\n",
              "    <div>            <script src=\"https://cdnjs.cloudflare.com/ajax/libs/mathjax/2.7.5/MathJax.js?config=TeX-AMS-MML_SVG\"></script><script type=\"text/javascript\">if (window.MathJax && window.MathJax.Hub && window.MathJax.Hub.Config) {window.MathJax.Hub.Config({SVG: {font: \"STIX-Web\"}});}</script>                <script type=\"text/javascript\">window.PlotlyConfig = {MathJaxConfig: 'local'};</script>\n",
              "        <script src=\"https://cdn.plot.ly/plotly-2.18.2.min.js\"></script>                <div id=\"8ca73d0a-d30b-4424-b14e-3693af123c64\" class=\"plotly-graph-div\" style=\"height:525px; width:100%;\"></div>            <script type=\"text/javascript\">                                    window.PLOTLYENV=window.PLOTLYENV || {};                                    if (document.getElementById(\"8ca73d0a-d30b-4424-b14e-3693af123c64\")) {                    Plotly.newPlot(                        \"8ca73d0a-d30b-4424-b14e-3693af123c64\",                        [{\"alignmentgroup\":\"True\",\"customdata\":[[6],[7],[5],[9],[16],[35],[36],[46],[57],[58],[55],[59],[41],[47],[59],[52],[45],[36],[21],[27],[27],[21],[21],[16],[12],[16],[4],[8],[8],[2],[5],[3],[4],[3],[1],[1],[2],[3],[3],[1],[2],[1]],\"hovertemplate\":\"x=%{x}<br>y=%{y}<br>Number of People this Age=%{customdata[0]}<extra></extra>\",\"legendgroup\":\"\",\"marker\":{\"color\":\"#636efa\",\"pattern\":{\"shape\":\"\"}},\"name\":\"\",\"offsetgroup\":\"\",\"orientation\":\"v\",\"showlegend\":false,\"textposition\":\"auto\",\"x\":[18,19,20,21,22,23,24,25,26,27,28,29,30,31,32,33,34,35,36,37,38,39,40,41,42,43,44,45,46,47,48,49,50,51,53,54,55,56,57,58,60,62],\"xaxis\":\"x\",\"y\":[50.0,57.14285714285714,40.0,null,31.25,28.57142857142857,27.77777777777778,26.08695652173913,33.33333333333333,27.586206896551722,27.27272727272727,23.728813559322035,36.58536585365854,29.78723404255319,27.11864406779661,15.384615384615385,31.11111111111111,25.0,28.57142857142857,33.33333333333333,40.74074074074074,33.33333333333333,14.285714285714285,37.5,25.0,25.0,null,37.5,25.0,null,40.0,33.33333333333333,25.0,null,null,null,null,null,33.33333333333333,null,50.0,null],\"yaxis\":\"y\",\"type\":\"bar\"}],                        {\"template\":{\"data\":{\"histogram2dcontour\":[{\"type\":\"histogram2dcontour\",\"colorbar\":{\"outlinewidth\":0,\"ticks\":\"\"},\"colorscale\":[[0.0,\"#0d0887\"],[0.1111111111111111,\"#46039f\"],[0.2222222222222222,\"#7201a8\"],[0.3333333333333333,\"#9c179e\"],[0.4444444444444444,\"#bd3786\"],[0.5555555555555556,\"#d8576b\"],[0.6666666666666666,\"#ed7953\"],[0.7777777777777778,\"#fb9f3a\"],[0.8888888888888888,\"#fdca26\"],[1.0,\"#f0f921\"]]}],\"choropleth\":[{\"type\":\"choropleth\",\"colorbar\":{\"outlinewidth\":0,\"ticks\":\"\"}}],\"histogram2d\":[{\"type\":\"histogram2d\",\"colorbar\":{\"outlinewidth\":0,\"ticks\":\"\"},\"colorscale\":[[0.0,\"#0d0887\"],[0.1111111111111111,\"#46039f\"],[0.2222222222222222,\"#7201a8\"],[0.3333333333333333,\"#9c179e\"],[0.4444444444444444,\"#bd3786\"],[0.5555555555555556,\"#d8576b\"],[0.6666666666666666,\"#ed7953\"],[0.7777777777777778,\"#fb9f3a\"],[0.8888888888888888,\"#fdca26\"],[1.0,\"#f0f921\"]]}],\"heatmap\":[{\"type\":\"heatmap\",\"colorbar\":{\"outlinewidth\":0,\"ticks\":\"\"},\"colorscale\":[[0.0,\"#0d0887\"],[0.1111111111111111,\"#46039f\"],[0.2222222222222222,\"#7201a8\"],[0.3333333333333333,\"#9c179e\"],[0.4444444444444444,\"#bd3786\"],[0.5555555555555556,\"#d8576b\"],[0.6666666666666666,\"#ed7953\"],[0.7777777777777778,\"#fb9f3a\"],[0.8888888888888888,\"#fdca26\"],[1.0,\"#f0f921\"]]}],\"heatmapgl\":[{\"type\":\"heatmapgl\",\"colorbar\":{\"outlinewidth\":0,\"ticks\":\"\"},\"colorscale\":[[0.0,\"#0d0887\"],[0.1111111111111111,\"#46039f\"],[0.2222222222222222,\"#7201a8\"],[0.3333333333333333,\"#9c179e\"],[0.4444444444444444,\"#bd3786\"],[0.5555555555555556,\"#d8576b\"],[0.6666666666666666,\"#ed7953\"],[0.7777777777777778,\"#fb9f3a\"],[0.8888888888888888,\"#fdca26\"],[1.0,\"#f0f921\"]]}],\"contourcarpet\":[{\"type\":\"contourcarpet\",\"colorbar\":{\"outlinewidth\":0,\"ticks\":\"\"}}],\"contour\":[{\"type\":\"contour\",\"colorbar\":{\"outlinewidth\":0,\"ticks\":\"\"},\"colorscale\":[[0.0,\"#0d0887\"],[0.1111111111111111,\"#46039f\"],[0.2222222222222222,\"#7201a8\"],[0.3333333333333333,\"#9c179e\"],[0.4444444444444444,\"#bd3786\"],[0.5555555555555556,\"#d8576b\"],[0.6666666666666666,\"#ed7953\"],[0.7777777777777778,\"#fb9f3a\"],[0.8888888888888888,\"#fdca26\"],[1.0,\"#f0f921\"]]}],\"surface\":[{\"type\":\"surface\",\"colorbar\":{\"outlinewidth\":0,\"ticks\":\"\"},\"colorscale\":[[0.0,\"#0d0887\"],[0.1111111111111111,\"#46039f\"],[0.2222222222222222,\"#7201a8\"],[0.3333333333333333,\"#9c179e\"],[0.4444444444444444,\"#bd3786\"],[0.5555555555555556,\"#d8576b\"],[0.6666666666666666,\"#ed7953\"],[0.7777777777777778,\"#fb9f3a\"],[0.8888888888888888,\"#fdca26\"],[1.0,\"#f0f921\"]]}],\"mesh3d\":[{\"type\":\"mesh3d\",\"colorbar\":{\"outlinewidth\":0,\"ticks\":\"\"}}],\"scatter\":[{\"fillpattern\":{\"fillmode\":\"overlay\",\"size\":10,\"solidity\":0.2},\"type\":\"scatter\"}],\"parcoords\":[{\"type\":\"parcoords\",\"line\":{\"colorbar\":{\"outlinewidth\":0,\"ticks\":\"\"}}}],\"scatterpolargl\":[{\"type\":\"scatterpolargl\",\"marker\":{\"colorbar\":{\"outlinewidth\":0,\"ticks\":\"\"}}}],\"bar\":[{\"error_x\":{\"color\":\"#2a3f5f\"},\"error_y\":{\"color\":\"#2a3f5f\"},\"marker\":{\"line\":{\"color\":\"#E5ECF6\",\"width\":0.5},\"pattern\":{\"fillmode\":\"overlay\",\"size\":10,\"solidity\":0.2}},\"type\":\"bar\"}],\"scattergeo\":[{\"type\":\"scattergeo\",\"marker\":{\"colorbar\":{\"outlinewidth\":0,\"ticks\":\"\"}}}],\"scatterpolar\":[{\"type\":\"scatterpolar\",\"marker\":{\"colorbar\":{\"outlinewidth\":0,\"ticks\":\"\"}}}],\"histogram\":[{\"marker\":{\"pattern\":{\"fillmode\":\"overlay\",\"size\":10,\"solidity\":0.2}},\"type\":\"histogram\"}],\"scattergl\":[{\"type\":\"scattergl\",\"marker\":{\"colorbar\":{\"outlinewidth\":0,\"ticks\":\"\"}}}],\"scatter3d\":[{\"type\":\"scatter3d\",\"line\":{\"colorbar\":{\"outlinewidth\":0,\"ticks\":\"\"}},\"marker\":{\"colorbar\":{\"outlinewidth\":0,\"ticks\":\"\"}}}],\"scattermapbox\":[{\"type\":\"scattermapbox\",\"marker\":{\"colorbar\":{\"outlinewidth\":0,\"ticks\":\"\"}}}],\"scatterternary\":[{\"type\":\"scatterternary\",\"marker\":{\"colorbar\":{\"outlinewidth\":0,\"ticks\":\"\"}}}],\"scattercarpet\":[{\"type\":\"scattercarpet\",\"marker\":{\"colorbar\":{\"outlinewidth\":0,\"ticks\":\"\"}}}],\"carpet\":[{\"aaxis\":{\"endlinecolor\":\"#2a3f5f\",\"gridcolor\":\"white\",\"linecolor\":\"white\",\"minorgridcolor\":\"white\",\"startlinecolor\":\"#2a3f5f\"},\"baxis\":{\"endlinecolor\":\"#2a3f5f\",\"gridcolor\":\"white\",\"linecolor\":\"white\",\"minorgridcolor\":\"white\",\"startlinecolor\":\"#2a3f5f\"},\"type\":\"carpet\"}],\"table\":[{\"cells\":{\"fill\":{\"color\":\"#EBF0F8\"},\"line\":{\"color\":\"white\"}},\"header\":{\"fill\":{\"color\":\"#C8D4E3\"},\"line\":{\"color\":\"white\"}},\"type\":\"table\"}],\"barpolar\":[{\"marker\":{\"line\":{\"color\":\"#E5ECF6\",\"width\":0.5},\"pattern\":{\"fillmode\":\"overlay\",\"size\":10,\"solidity\":0.2}},\"type\":\"barpolar\"}],\"pie\":[{\"automargin\":true,\"type\":\"pie\"}]},\"layout\":{\"autotypenumbers\":\"strict\",\"colorway\":[\"#636efa\",\"#EF553B\",\"#00cc96\",\"#ab63fa\",\"#FFA15A\",\"#19d3f3\",\"#FF6692\",\"#B6E880\",\"#FF97FF\",\"#FECB52\"],\"font\":{\"color\":\"#2a3f5f\"},\"hovermode\":\"closest\",\"hoverlabel\":{\"align\":\"left\"},\"paper_bgcolor\":\"white\",\"plot_bgcolor\":\"#E5ECF6\",\"polar\":{\"bgcolor\":\"#E5ECF6\",\"angularaxis\":{\"gridcolor\":\"white\",\"linecolor\":\"white\",\"ticks\":\"\"},\"radialaxis\":{\"gridcolor\":\"white\",\"linecolor\":\"white\",\"ticks\":\"\"}},\"ternary\":{\"bgcolor\":\"#E5ECF6\",\"aaxis\":{\"gridcolor\":\"white\",\"linecolor\":\"white\",\"ticks\":\"\"},\"baxis\":{\"gridcolor\":\"white\",\"linecolor\":\"white\",\"ticks\":\"\"},\"caxis\":{\"gridcolor\":\"white\",\"linecolor\":\"white\",\"ticks\":\"\"}},\"coloraxis\":{\"colorbar\":{\"outlinewidth\":0,\"ticks\":\"\"}},\"colorscale\":{\"sequential\":[[0.0,\"#0d0887\"],[0.1111111111111111,\"#46039f\"],[0.2222222222222222,\"#7201a8\"],[0.3333333333333333,\"#9c179e\"],[0.4444444444444444,\"#bd3786\"],[0.5555555555555556,\"#d8576b\"],[0.6666666666666666,\"#ed7953\"],[0.7777777777777778,\"#fb9f3a\"],[0.8888888888888888,\"#fdca26\"],[1.0,\"#f0f921\"]],\"sequentialminus\":[[0.0,\"#0d0887\"],[0.1111111111111111,\"#46039f\"],[0.2222222222222222,\"#7201a8\"],[0.3333333333333333,\"#9c179e\"],[0.4444444444444444,\"#bd3786\"],[0.5555555555555556,\"#d8576b\"],[0.6666666666666666,\"#ed7953\"],[0.7777777777777778,\"#fb9f3a\"],[0.8888888888888888,\"#fdca26\"],[1.0,\"#f0f921\"]],\"diverging\":[[0,\"#8e0152\"],[0.1,\"#c51b7d\"],[0.2,\"#de77ae\"],[0.3,\"#f1b6da\"],[0.4,\"#fde0ef\"],[0.5,\"#f7f7f7\"],[0.6,\"#e6f5d0\"],[0.7,\"#b8e186\"],[0.8,\"#7fbc41\"],[0.9,\"#4d9221\"],[1,\"#276419\"]]},\"xaxis\":{\"gridcolor\":\"white\",\"linecolor\":\"white\",\"ticks\":\"\",\"title\":{\"standoff\":15},\"zerolinecolor\":\"white\",\"automargin\":true,\"zerolinewidth\":2},\"yaxis\":{\"gridcolor\":\"white\",\"linecolor\":\"white\",\"ticks\":\"\",\"title\":{\"standoff\":15},\"zerolinecolor\":\"white\",\"automargin\":true,\"zerolinewidth\":2},\"scene\":{\"xaxis\":{\"backgroundcolor\":\"#E5ECF6\",\"gridcolor\":\"white\",\"linecolor\":\"white\",\"showbackground\":true,\"ticks\":\"\",\"zerolinecolor\":\"white\",\"gridwidth\":2},\"yaxis\":{\"backgroundcolor\":\"#E5ECF6\",\"gridcolor\":\"white\",\"linecolor\":\"white\",\"showbackground\":true,\"ticks\":\"\",\"zerolinecolor\":\"white\",\"gridwidth\":2},\"zaxis\":{\"backgroundcolor\":\"#E5ECF6\",\"gridcolor\":\"white\",\"linecolor\":\"white\",\"showbackground\":true,\"ticks\":\"\",\"zerolinecolor\":\"white\",\"gridwidth\":2}},\"shapedefaults\":{\"line\":{\"color\":\"#2a3f5f\"}},\"annotationdefaults\":{\"arrowcolor\":\"#2a3f5f\",\"arrowhead\":0,\"arrowwidth\":1},\"geo\":{\"bgcolor\":\"white\",\"landcolor\":\"#E5ECF6\",\"subunitcolor\":\"white\",\"showland\":true,\"showlakes\":true,\"lakecolor\":\"white\"},\"title\":{\"x\":0.05},\"mapbox\":{\"style\":\"light\"}}},\"xaxis\":{\"anchor\":\"y\",\"domain\":[0.0,1.0],\"title\":{\"text\":\"Age\"}},\"yaxis\":{\"anchor\":\"x\",\"domain\":[0.0,1.0],\"title\":{\"text\":\"Percentage\"}},\"legend\":{\"tracegroupgap\":0},\"margin\":{\"t\":60},\"barmode\":\"relative\",\"title\":{\"text\":\"Percentage of People in Each Age Group with Mental Health Problems & No Awareness of their Company's MH Resources\"}},                        {\"responsive\": true}                    ).then(function(){\n",
              "                            \n",
              "var gd = document.getElementById('8ca73d0a-d30b-4424-b14e-3693af123c64');\n",
              "var x = new MutationObserver(function (mutations, observer) {{\n",
              "        var display = window.getComputedStyle(gd).display;\n",
              "        if (!display || display === 'none') {{\n",
              "            console.log([gd, 'removed!']);\n",
              "            Plotly.purge(gd);\n",
              "            observer.disconnect();\n",
              "        }}\n",
              "}});\n",
              "\n",
              "// Listen for the removal of the full notebook cells\n",
              "var notebookContainer = gd.closest('#notebook-container');\n",
              "if (notebookContainer) {{\n",
              "    x.observe(notebookContainer, {childList: true});\n",
              "}}\n",
              "\n",
              "// Listen for the clearing of the current output cell\n",
              "var outputEl = gd.closest('.output');\n",
              "if (outputEl) {{\n",
              "    x.observe(outputEl, {childList: true});\n",
              "}}\n",
              "\n",
              "                        })                };                            </script>        </div>\n",
              "</body>\n",
              "</html>"
            ]
          },
          "metadata": {}
        }
      ]
    },
    {
      "cell_type": "code",
      "source": [
        "## dataframe creation - for plotting\n",
        "df_combinations = (\n",
        "    df.groupby([\"work_interfere\", \"care_options\", \"benefits\", \"treatment\"])\n",
        "    .size()\n",
        "    .reset_index()\n",
        "    .rename(columns={0: \"count\"})\n",
        ")\n",
        "## Creating sunburst chart\n",
        "# define figure element\n",
        "fig = px.sunburst(\n",
        "    df,\n",
        "    path=[\"work_interfere\", \"care_options\", \"benefits\", \"treatment\"],\n",
        "    title=\"Mental Health Issues - awareness of MH help, company benefits & treatment\",\n",
        "    color=\"work_interfere\",\n",
        "    height=800,\n",
        ")\n",
        "# display the figure\n",
        "fig.show()"
      ],
      "metadata": {
        "id": "HZJWMhdJ5akk"
      },
      "execution_count": null,
      "outputs": []
    },
    {
      "cell_type": "code",
      "source": [
        "import plotly.express as px\n",
        "\n",
        "df_combinations = (\n",
        "    df.groupby([\"work_interfere\", \"care_options\",  \"treatment\"])\n",
        "    .size()\n",
        "    .reset_index()\n",
        "    .rename(columns={0: \"count\"})\n",
        ")\n",
        "\n",
        "fig = px.sunburst(\n",
        "    df,  # Use df_combinations DataFrame instead of df\n",
        "    path=[\"work_interfere\", \"treatment\", \"care_options\"],\n",
        "    title= \"Mental Health Issues -> Treatment -> Awareness of Company's MH Options\",\n",
        "    color=\"work_interfere\",\n",
        "    hover_data={\"work_interfere\", \"care_options\", \"treatment\"},\n",
        "    height=800,\n",
        ")\n",
        "\n",
        "\n",
        "fig.show()\n",
        "\n"
      ],
      "metadata": {
        "colab": {
          "base_uri": "https://localhost:8080/",
          "height": 817
        },
        "id": "XtYC555V8vof",
        "outputId": "b1d51ef1-62c5-40ff-c819-f790a7addc75"
      },
      "execution_count": null,
      "outputs": [
        {
          "output_type": "display_data",
          "data": {
            "text/html": [
              "<html>\n",
              "<head><meta charset=\"utf-8\" /></head>\n",
              "<body>\n",
              "    <div>            <script src=\"https://cdnjs.cloudflare.com/ajax/libs/mathjax/2.7.5/MathJax.js?config=TeX-AMS-MML_SVG\"></script><script type=\"text/javascript\">if (window.MathJax && window.MathJax.Hub && window.MathJax.Hub.Config) {window.MathJax.Hub.Config({SVG: {font: \"STIX-Web\"}});}</script>                <script type=\"text/javascript\">window.PlotlyConfig = {MathJaxConfig: 'local'};</script>\n",
              "        <script src=\"https://cdn.plot.ly/plotly-2.18.2.min.js\"></script>                <div id=\"72120a86-e8dd-4425-894a-705b86512216\" class=\"plotly-graph-div\" style=\"height:800px; width:100%;\"></div>            <script type=\"text/javascript\">                                    window.PLOTLYENV=window.PLOTLYENV || {};                                    if (document.getElementById(\"72120a86-e8dd-4425-894a-705b86512216\")) {                    Plotly.newPlot(                        \"72120a86-e8dd-4425-894a-705b86512216\",                        [{\"branchvalues\":\"total\",\"customdata\":[[\"(?)\",\"Yes\",\"Not sure\",\"Not sure\"],[\"Yes\",\"Yes\",\"Sometimes\",\"Sometimes\"],[\"(?)\",\"(?)\",\"Often\",\"Often\"],[\"(?)\",\"(?)\",\"Rarely\",\"Rarely\"],[\"No\",\"Yes\",\"Often\",\"Often\"],[\"(?)\",\"Yes\",\"Often\",\"Often\"],[\"Not sure\",\"No\",\"Sometimes\",\"Sometimes\"],[\"Not sure\",\"No\",\"Rarely\",\"Rarely\"],[\"Yes\",\"No\",\"Rarely\",\"Rarely\"],[\"Not sure\",\"Yes\",\"Rarely\",\"Rarely\"],[\"(?)\",\"No\",\"Often\",\"Often\"],[\"Yes\",\"Yes\",\"Often\",\"Often\"],[\"Yes\",\"Yes\",\"Rarely\",\"Rarely\"],[\"No\",\"No\",\"Rarely\",\"Rarely\"],[\"(?)\",\"No\",\"Never\",\"Never\"],[\"Yes\",\"No\",\"Sometimes\",\"Sometimes\"],[\"Yes\",\"No\",\"Never\",\"Never\"],[\"Yes\",\"Yes\",\"Not sure\",\"Not sure\"],[\"(?)\",\"No\",\"Sometimes\",\"Sometimes\"],[\"(?)\",\"(?)\",\"Never\",\"Never\"],[\"No\",\"No\",\"Not sure\",\"Not sure\"],[\"Not sure\",\"No\",\"Often\",\"Often\"],[\"Not sure\",\"No\",\"Not sure\",\"Not sure\"],[\"Yes\",\"Yes\",\"Never\",\"Never\"],[\"No\",\"No\",\"Sometimes\",\"Sometimes\"],[\"No\",\"No\",\"Often\",\"Often\"],[\"(?)\",\"No\",\"Not sure\",\"Not sure\"],[\"Not sure\",\"Yes\",\"Never\",\"Never\"],[\"(?)\",\"(?)\",\"Sometimes\",\"Sometimes\"],[\"(?)\",\"Yes\",\"Never\",\"Never\"],[\"(?)\",\"Yes\",\"Rarely\",\"Rarely\"],[\"(?)\",\"Yes\",\"Sometimes\",\"Sometimes\"],[\"(?)\",\"(?)\",\"Not sure\",\"Not sure\"],[\"No\",\"No\",\"Never\",\"Never\"],[\"Yes\",\"No\",\"Not sure\",\"Not sure\"],[\"Not sure\",\"Yes\",\"Sometimes\",\"Sometimes\"],[\"Not sure\",\"Yes\",\"Often\",\"Often\"],[\"Not sure\",\"No\",\"Never\",\"Never\"],[\"No\",\"Yes\",\"Sometimes\",\"Sometimes\"],[\"No\",\"Yes\",\"Rarely\",\"Rarely\"],[\"No\",\"Yes\",\"Not sure\",\"Not sure\"],[\"No\",\"Yes\",\"Never\",\"Never\"],[\"(?)\",\"No\",\"Rarely\",\"Rarely\"],[\"Yes\",\"No\",\"Often\",\"Often\"]],\"domain\":{\"x\":[0.0,1.0],\"y\":[0.0,1.0]},\"hovertemplate\":\"labels=%{label}<br>count=%{value}<br>parent=%{parent}<br>id=%{id}<br>care_options=%{customdata[0]}<br>treatment=%{customdata[1]}<br>work_interfere=%{customdata[3]}<extra></extra>\",\"ids\":[\"Not sure/Yes\",\"Sometimes/Yes/Yes\",\"Often\",\"Rarely\",\"Often/Yes/No\",\"Often/Yes\",\"Sometimes/No/Not sure\",\"Rarely/No/Not sure\",\"Rarely/No/Yes\",\"Rarely/Yes/Not sure\",\"Often/No\",\"Often/Yes/Yes\",\"Rarely/Yes/Yes\",\"Rarely/No/No\",\"Never/No\",\"Sometimes/No/Yes\",\"Never/No/Yes\",\"Not sure/Yes/Yes\",\"Sometimes/No\",\"Never\",\"Not sure/No/No\",\"Often/No/Not sure\",\"Not sure/No/Not sure\",\"Never/Yes/Yes\",\"Sometimes/No/No\",\"Often/No/No\",\"Not sure/No\",\"Never/Yes/Not sure\",\"Sometimes\",\"Never/Yes\",\"Rarely/Yes\",\"Sometimes/Yes\",\"Not sure\",\"Never/No/No\",\"Not sure/No/Yes\",\"Sometimes/Yes/Not sure\",\"Often/Yes/Not sure\",\"Never/No/Not sure\",\"Sometimes/Yes/No\",\"Rarely/Yes/No\",\"Not sure/Yes/No\",\"Never/Yes/No\",\"Rarely/No\",\"Often/No/Yes\"],\"labels\":[\"Yes\",\"Yes\",\"Often\",\"Rarely\",\"No\",\"Yes\",\"Not sure\",\"Not sure\",\"Yes\",\"Not sure\",\"No\",\"Yes\",\"Yes\",\"No\",\"No\",\"Yes\",\"Yes\",\"Yes\",\"No\",\"Never\",\"No\",\"Not sure\",\"Not sure\",\"Yes\",\"No\",\"No\",\"No\",\"Not sure\",\"Sometimes\",\"Yes\",\"Yes\",\"Yes\",\"Not sure\",\"No\",\"Yes\",\"Not sure\",\"Not sure\",\"Not sure\",\"No\",\"No\",\"No\",\"No\",\"No\",\"Yes\"],\"marker\":{\"colors\":[\"#636efa\",\"#EF553B\",\"#00cc96\",\"#ab63fa\",\"#00cc96\",\"#00cc96\",\"#EF553B\",\"#ab63fa\",\"#ab63fa\",\"#ab63fa\",\"#00cc96\",\"#00cc96\",\"#ab63fa\",\"#ab63fa\",\"#FFA15A\",\"#EF553B\",\"#FFA15A\",\"#636efa\",\"#EF553B\",\"#FFA15A\",\"#636efa\",\"#00cc96\",\"#636efa\",\"#FFA15A\",\"#EF553B\",\"#00cc96\",\"#636efa\",\"#FFA15A\",\"#EF553B\",\"#FFA15A\",\"#ab63fa\",\"#EF553B\",\"#636efa\",\"#FFA15A\",\"#636efa\",\"#EF553B\",\"#00cc96\",\"#FFA15A\",\"#EF553B\",\"#ab63fa\",\"#636efa\",\"#FFA15A\",\"#ab63fa\",\"#00cc96\"]},\"name\":\"\",\"parents\":[\"Not sure\",\"Sometimes/Yes\",\"\",\"\",\"Often/Yes\",\"Often\",\"Sometimes/No\",\"Rarely/No\",\"Rarely/No\",\"Rarely/Yes\",\"Often\",\"Often/Yes\",\"Rarely/Yes\",\"Rarely/No\",\"Never\",\"Sometimes/No\",\"Never/No\",\"Not sure/Yes\",\"Sometimes\",\"\",\"Not sure/No\",\"Often/No\",\"Not sure/No\",\"Never/Yes\",\"Sometimes/No\",\"Often/No\",\"Not sure\",\"Never/Yes\",\"\",\"Never\",\"Rarely\",\"Sometimes\",\"\",\"Never/No\",\"Not sure/No\",\"Sometimes/Yes\",\"Often/Yes\",\"Never/No\",\"Sometimes/Yes\",\"Rarely/Yes\",\"Not sure/Yes\",\"Never/Yes\",\"Rarely\",\"Often/No\"],\"values\":[3,116,85,124,21,70,21,11,10,15,15,32,48,15,127,17,31,1,76,149,101,2,61,7,38,11,192,8,328,22,88,252,195,55,30,50,17,41,86,25,2,7,36,2],\"type\":\"sunburst\"}],                        {\"template\":{\"data\":{\"histogram2dcontour\":[{\"type\":\"histogram2dcontour\",\"colorbar\":{\"outlinewidth\":0,\"ticks\":\"\"},\"colorscale\":[[0.0,\"#0d0887\"],[0.1111111111111111,\"#46039f\"],[0.2222222222222222,\"#7201a8\"],[0.3333333333333333,\"#9c179e\"],[0.4444444444444444,\"#bd3786\"],[0.5555555555555556,\"#d8576b\"],[0.6666666666666666,\"#ed7953\"],[0.7777777777777778,\"#fb9f3a\"],[0.8888888888888888,\"#fdca26\"],[1.0,\"#f0f921\"]]}],\"choropleth\":[{\"type\":\"choropleth\",\"colorbar\":{\"outlinewidth\":0,\"ticks\":\"\"}}],\"histogram2d\":[{\"type\":\"histogram2d\",\"colorbar\":{\"outlinewidth\":0,\"ticks\":\"\"},\"colorscale\":[[0.0,\"#0d0887\"],[0.1111111111111111,\"#46039f\"],[0.2222222222222222,\"#7201a8\"],[0.3333333333333333,\"#9c179e\"],[0.4444444444444444,\"#bd3786\"],[0.5555555555555556,\"#d8576b\"],[0.6666666666666666,\"#ed7953\"],[0.7777777777777778,\"#fb9f3a\"],[0.8888888888888888,\"#fdca26\"],[1.0,\"#f0f921\"]]}],\"heatmap\":[{\"type\":\"heatmap\",\"colorbar\":{\"outlinewidth\":0,\"ticks\":\"\"},\"colorscale\":[[0.0,\"#0d0887\"],[0.1111111111111111,\"#46039f\"],[0.2222222222222222,\"#7201a8\"],[0.3333333333333333,\"#9c179e\"],[0.4444444444444444,\"#bd3786\"],[0.5555555555555556,\"#d8576b\"],[0.6666666666666666,\"#ed7953\"],[0.7777777777777778,\"#fb9f3a\"],[0.8888888888888888,\"#fdca26\"],[1.0,\"#f0f921\"]]}],\"heatmapgl\":[{\"type\":\"heatmapgl\",\"colorbar\":{\"outlinewidth\":0,\"ticks\":\"\"},\"colorscale\":[[0.0,\"#0d0887\"],[0.1111111111111111,\"#46039f\"],[0.2222222222222222,\"#7201a8\"],[0.3333333333333333,\"#9c179e\"],[0.4444444444444444,\"#bd3786\"],[0.5555555555555556,\"#d8576b\"],[0.6666666666666666,\"#ed7953\"],[0.7777777777777778,\"#fb9f3a\"],[0.8888888888888888,\"#fdca26\"],[1.0,\"#f0f921\"]]}],\"contourcarpet\":[{\"type\":\"contourcarpet\",\"colorbar\":{\"outlinewidth\":0,\"ticks\":\"\"}}],\"contour\":[{\"type\":\"contour\",\"colorbar\":{\"outlinewidth\":0,\"ticks\":\"\"},\"colorscale\":[[0.0,\"#0d0887\"],[0.1111111111111111,\"#46039f\"],[0.2222222222222222,\"#7201a8\"],[0.3333333333333333,\"#9c179e\"],[0.4444444444444444,\"#bd3786\"],[0.5555555555555556,\"#d8576b\"],[0.6666666666666666,\"#ed7953\"],[0.7777777777777778,\"#fb9f3a\"],[0.8888888888888888,\"#fdca26\"],[1.0,\"#f0f921\"]]}],\"surface\":[{\"type\":\"surface\",\"colorbar\":{\"outlinewidth\":0,\"ticks\":\"\"},\"colorscale\":[[0.0,\"#0d0887\"],[0.1111111111111111,\"#46039f\"],[0.2222222222222222,\"#7201a8\"],[0.3333333333333333,\"#9c179e\"],[0.4444444444444444,\"#bd3786\"],[0.5555555555555556,\"#d8576b\"],[0.6666666666666666,\"#ed7953\"],[0.7777777777777778,\"#fb9f3a\"],[0.8888888888888888,\"#fdca26\"],[1.0,\"#f0f921\"]]}],\"mesh3d\":[{\"type\":\"mesh3d\",\"colorbar\":{\"outlinewidth\":0,\"ticks\":\"\"}}],\"scatter\":[{\"fillpattern\":{\"fillmode\":\"overlay\",\"size\":10,\"solidity\":0.2},\"type\":\"scatter\"}],\"parcoords\":[{\"type\":\"parcoords\",\"line\":{\"colorbar\":{\"outlinewidth\":0,\"ticks\":\"\"}}}],\"scatterpolargl\":[{\"type\":\"scatterpolargl\",\"marker\":{\"colorbar\":{\"outlinewidth\":0,\"ticks\":\"\"}}}],\"bar\":[{\"error_x\":{\"color\":\"#2a3f5f\"},\"error_y\":{\"color\":\"#2a3f5f\"},\"marker\":{\"line\":{\"color\":\"#E5ECF6\",\"width\":0.5},\"pattern\":{\"fillmode\":\"overlay\",\"size\":10,\"solidity\":0.2}},\"type\":\"bar\"}],\"scattergeo\":[{\"type\":\"scattergeo\",\"marker\":{\"colorbar\":{\"outlinewidth\":0,\"ticks\":\"\"}}}],\"scatterpolar\":[{\"type\":\"scatterpolar\",\"marker\":{\"colorbar\":{\"outlinewidth\":0,\"ticks\":\"\"}}}],\"histogram\":[{\"marker\":{\"pattern\":{\"fillmode\":\"overlay\",\"size\":10,\"solidity\":0.2}},\"type\":\"histogram\"}],\"scattergl\":[{\"type\":\"scattergl\",\"marker\":{\"colorbar\":{\"outlinewidth\":0,\"ticks\":\"\"}}}],\"scatter3d\":[{\"type\":\"scatter3d\",\"line\":{\"colorbar\":{\"outlinewidth\":0,\"ticks\":\"\"}},\"marker\":{\"colorbar\":{\"outlinewidth\":0,\"ticks\":\"\"}}}],\"scattermapbox\":[{\"type\":\"scattermapbox\",\"marker\":{\"colorbar\":{\"outlinewidth\":0,\"ticks\":\"\"}}}],\"scatterternary\":[{\"type\":\"scatterternary\",\"marker\":{\"colorbar\":{\"outlinewidth\":0,\"ticks\":\"\"}}}],\"scattercarpet\":[{\"type\":\"scattercarpet\",\"marker\":{\"colorbar\":{\"outlinewidth\":0,\"ticks\":\"\"}}}],\"carpet\":[{\"aaxis\":{\"endlinecolor\":\"#2a3f5f\",\"gridcolor\":\"white\",\"linecolor\":\"white\",\"minorgridcolor\":\"white\",\"startlinecolor\":\"#2a3f5f\"},\"baxis\":{\"endlinecolor\":\"#2a3f5f\",\"gridcolor\":\"white\",\"linecolor\":\"white\",\"minorgridcolor\":\"white\",\"startlinecolor\":\"#2a3f5f\"},\"type\":\"carpet\"}],\"table\":[{\"cells\":{\"fill\":{\"color\":\"#EBF0F8\"},\"line\":{\"color\":\"white\"}},\"header\":{\"fill\":{\"color\":\"#C8D4E3\"},\"line\":{\"color\":\"white\"}},\"type\":\"table\"}],\"barpolar\":[{\"marker\":{\"line\":{\"color\":\"#E5ECF6\",\"width\":0.5},\"pattern\":{\"fillmode\":\"overlay\",\"size\":10,\"solidity\":0.2}},\"type\":\"barpolar\"}],\"pie\":[{\"automargin\":true,\"type\":\"pie\"}]},\"layout\":{\"autotypenumbers\":\"strict\",\"colorway\":[\"#636efa\",\"#EF553B\",\"#00cc96\",\"#ab63fa\",\"#FFA15A\",\"#19d3f3\",\"#FF6692\",\"#B6E880\",\"#FF97FF\",\"#FECB52\"],\"font\":{\"color\":\"#2a3f5f\"},\"hovermode\":\"closest\",\"hoverlabel\":{\"align\":\"left\"},\"paper_bgcolor\":\"white\",\"plot_bgcolor\":\"#E5ECF6\",\"polar\":{\"bgcolor\":\"#E5ECF6\",\"angularaxis\":{\"gridcolor\":\"white\",\"linecolor\":\"white\",\"ticks\":\"\"},\"radialaxis\":{\"gridcolor\":\"white\",\"linecolor\":\"white\",\"ticks\":\"\"}},\"ternary\":{\"bgcolor\":\"#E5ECF6\",\"aaxis\":{\"gridcolor\":\"white\",\"linecolor\":\"white\",\"ticks\":\"\"},\"baxis\":{\"gridcolor\":\"white\",\"linecolor\":\"white\",\"ticks\":\"\"},\"caxis\":{\"gridcolor\":\"white\",\"linecolor\":\"white\",\"ticks\":\"\"}},\"coloraxis\":{\"colorbar\":{\"outlinewidth\":0,\"ticks\":\"\"}},\"colorscale\":{\"sequential\":[[0.0,\"#0d0887\"],[0.1111111111111111,\"#46039f\"],[0.2222222222222222,\"#7201a8\"],[0.3333333333333333,\"#9c179e\"],[0.4444444444444444,\"#bd3786\"],[0.5555555555555556,\"#d8576b\"],[0.6666666666666666,\"#ed7953\"],[0.7777777777777778,\"#fb9f3a\"],[0.8888888888888888,\"#fdca26\"],[1.0,\"#f0f921\"]],\"sequentialminus\":[[0.0,\"#0d0887\"],[0.1111111111111111,\"#46039f\"],[0.2222222222222222,\"#7201a8\"],[0.3333333333333333,\"#9c179e\"],[0.4444444444444444,\"#bd3786\"],[0.5555555555555556,\"#d8576b\"],[0.6666666666666666,\"#ed7953\"],[0.7777777777777778,\"#fb9f3a\"],[0.8888888888888888,\"#fdca26\"],[1.0,\"#f0f921\"]],\"diverging\":[[0,\"#8e0152\"],[0.1,\"#c51b7d\"],[0.2,\"#de77ae\"],[0.3,\"#f1b6da\"],[0.4,\"#fde0ef\"],[0.5,\"#f7f7f7\"],[0.6,\"#e6f5d0\"],[0.7,\"#b8e186\"],[0.8,\"#7fbc41\"],[0.9,\"#4d9221\"],[1,\"#276419\"]]},\"xaxis\":{\"gridcolor\":\"white\",\"linecolor\":\"white\",\"ticks\":\"\",\"title\":{\"standoff\":15},\"zerolinecolor\":\"white\",\"automargin\":true,\"zerolinewidth\":2},\"yaxis\":{\"gridcolor\":\"white\",\"linecolor\":\"white\",\"ticks\":\"\",\"title\":{\"standoff\":15},\"zerolinecolor\":\"white\",\"automargin\":true,\"zerolinewidth\":2},\"scene\":{\"xaxis\":{\"backgroundcolor\":\"#E5ECF6\",\"gridcolor\":\"white\",\"linecolor\":\"white\",\"showbackground\":true,\"ticks\":\"\",\"zerolinecolor\":\"white\",\"gridwidth\":2},\"yaxis\":{\"backgroundcolor\":\"#E5ECF6\",\"gridcolor\":\"white\",\"linecolor\":\"white\",\"showbackground\":true,\"ticks\":\"\",\"zerolinecolor\":\"white\",\"gridwidth\":2},\"zaxis\":{\"backgroundcolor\":\"#E5ECF6\",\"gridcolor\":\"white\",\"linecolor\":\"white\",\"showbackground\":true,\"ticks\":\"\",\"zerolinecolor\":\"white\",\"gridwidth\":2}},\"shapedefaults\":{\"line\":{\"color\":\"#2a3f5f\"}},\"annotationdefaults\":{\"arrowcolor\":\"#2a3f5f\",\"arrowhead\":0,\"arrowwidth\":1},\"geo\":{\"bgcolor\":\"white\",\"landcolor\":\"#E5ECF6\",\"subunitcolor\":\"white\",\"showland\":true,\"showlakes\":true,\"lakecolor\":\"white\"},\"title\":{\"x\":0.05},\"mapbox\":{\"style\":\"light\"}}},\"legend\":{\"tracegroupgap\":0},\"title\":{\"text\":\"Mental Health Issues -> Treatment -> Awareness of Company's MH Options\"},\"height\":800},                        {\"responsive\": true}                    ).then(function(){\n",
              "                            \n",
              "var gd = document.getElementById('72120a86-e8dd-4425-894a-705b86512216');\n",
              "var x = new MutationObserver(function (mutations, observer) {{\n",
              "        var display = window.getComputedStyle(gd).display;\n",
              "        if (!display || display === 'none') {{\n",
              "            console.log([gd, 'removed!']);\n",
              "            Plotly.purge(gd);\n",
              "            observer.disconnect();\n",
              "        }}\n",
              "}});\n",
              "\n",
              "// Listen for the removal of the full notebook cells\n",
              "var notebookContainer = gd.closest('#notebook-container');\n",
              "if (notebookContainer) {{\n",
              "    x.observe(notebookContainer, {childList: true});\n",
              "}}\n",
              "\n",
              "// Listen for the clearing of the current output cell\n",
              "var outputEl = gd.closest('.output');\n",
              "if (outputEl) {{\n",
              "    x.observe(outputEl, {childList: true});\n",
              "}}\n",
              "\n",
              "                        })                };                            </script>        </div>\n",
              "</body>\n",
              "</html>"
            ]
          },
          "metadata": {}
        }
      ]
    },
    {
      "cell_type": "code",
      "source": [
        "#New variable for those who experience mental health that interferes with their work but haven't gotten treatment \n",
        "\n",
        "df['interfere_and_no_treatment'] = (df['work_interfere'].isin(['Sometimes', 'Often'])) & (df['treatment'] == 'No') & ((df['benefits'] == \"Yes\") | (df['seek_help'] == \"Yes\"))\n",
        "df['interfere_and_no_treatment'].value_counts()"
      ],
      "metadata": {
        "id": "sin9vfhZeSls"
      },
      "execution_count": null,
      "outputs": []
    },
    {
      "cell_type": "code",
      "source": [
        "ax = sns.histplot(binwidth=0.5, x= \"interfere_and_no_treatment\", hue='anonymity', data=df, stat=\"count\", multiple=\"stack\")"
      ],
      "metadata": {
        "id": "bFX7IxjFebws"
      },
      "execution_count": null,
      "outputs": []
    },
    {
      "cell_type": "code",
      "source": [
        "df['mental_health_consequence'].value_counts()"
      ],
      "metadata": {
        "id": "CCV0IHvKgvf0"
      },
      "execution_count": null,
      "outputs": []
    },
    {
      "cell_type": "code",
      "source": [
        "df['phys_health_consequence'].value_counts()"
      ],
      "metadata": {
        "id": "CJcynSH1hSiA"
      },
      "execution_count": null,
      "outputs": []
    },
    {
      "cell_type": "code",
      "source": [
        "df['obs_consequence'].value_counts()"
      ],
      "metadata": {
        "id": "MEkCQJOYiX_C"
      },
      "execution_count": null,
      "outputs": []
    },
    {
      "cell_type": "code",
      "source": [
        "df['leave'].value_counts()"
      ],
      "metadata": {
        "id": "iLPYsXdyienc"
      },
      "execution_count": null,
      "outputs": []
    },
    {
      "cell_type": "code",
      "source": [
        "df['fear_no_wellness'] = (df['mental_health_consequence'].isin(['Yes', 'Maybe'])) & (df['wellness_program'] == 'No') \n",
        "df['fear_no_wellness'].value_counts()"
      ],
      "metadata": {
        "id": "gHz4BCZTi-Ai"
      },
      "execution_count": null,
      "outputs": []
    },
    {
      "cell_type": "code",
      "source": [
        "cross_tab = pd.crosstab(df['mental_health_consequence'], df['wellness_program'])\n",
        "cross_tab"
      ],
      "metadata": {
        "id": "BdIEKdm_kHoH"
      },
      "execution_count": null,
      "outputs": []
    },
    {
      "cell_type": "code",
      "source": [
        "cross_tab.plot(kind='bar', stacked=True)\n",
        "plt.xlabel('Mental Health Consequence?')\n",
        "plt.ylabel('Employee Responses')"
      ],
      "metadata": {
        "id": "7wqyX9I-kb04"
      },
      "execution_count": null,
      "outputs": []
    },
    {
      "cell_type": "code",
      "source": [
        "cross_tab = pd.crosstab(df['wellness_program'], df['mental_vs_physical'])\n",
        "cross_tab"
      ],
      "metadata": {
        "id": "7HU5lmFYk4Tg"
      },
      "execution_count": null,
      "outputs": []
    },
    {
      "cell_type": "code",
      "source": [],
      "metadata": {
        "id": "7NSdlSRaJy0N"
      },
      "execution_count": null,
      "outputs": []
    },
    {
      "cell_type": "code",
      "source": [
        "cross_tab = pd.crosstab(df['mental_health_consequence'], df['phys_health_consequence'])\n",
        "cross_tab"
      ],
      "metadata": {
        "id": "R1Ilrmh0wucN"
      },
      "execution_count": null,
      "outputs": []
    },
    {
      "cell_type": "code",
      "source": [
        "cross_tab.plot(kind='bar', stacked=True)\n",
        "plt.xlabel('Mental Health Consequence?')\n",
        "plt.ylabel('Number of Employee Responses')\n",
        "plt.legend(title='Physical Health Consequence?')"
      ],
      "metadata": {
        "id": "XIt7qp4iwzRx"
      },
      "execution_count": null,
      "outputs": []
    },
    {
      "cell_type": "code",
      "source": [
        "df['any_help'] = (df['seek_help'].isin(['Yes'])) | (df['wellness_program'] == 'Yes') | (df['benefits'] == 'Yes') \n",
        "df['any_help'].value_counts()"
      ],
      "metadata": {
        "id": "qeEjSC6V3XRl"
      },
      "execution_count": null,
      "outputs": []
    },
    {
      "cell_type": "code",
      "source": [
        "cross_tab = pd.crosstab(df['mental_health_consequence'], df['any_help])\n",
        "cross_tab"
      ],
      "metadata": {
        "id": "3JS57N1vKIjj"
      },
      "execution_count": null,
      "outputs": []
    },
    {
      "cell_type": "code",
      "source": [
        "df['no_interfere'] = (df['work_interfere'].isin(['Never', 'Rarely'])) \n",
        "df['no_interfere'].value_counts()\n",
        "df['no_interfere_no_awareness'] = (df['work_interfere'].isin(['Never', 'Rarely'])) & ((df['care_options'] == \"No\") | (df['care_options'] == \"Not sure\"))\n",
        "print(df['no_interfere_no_awareness'].sum())\n",
        "quotient = (df['no_interfere_no_awareness'].sum()/df['no_interfere'].sum())\n",
        "quotient"
      ],
      "metadata": {
        "id": "h3-ujXDDKIqD"
      },
      "execution_count": null,
      "outputs": []
    }
  ]
}